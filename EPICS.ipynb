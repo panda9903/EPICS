{
 "cells": [
  {
   "cell_type": "code",
   "execution_count": 17,
   "id": "76fec303",
   "metadata": {
    "_cell_guid": "b1076dfc-b9ad-4769-8c92-a6c4dae69d19",
    "_uuid": "8f2839f25d086af736a60e9eeb907d3b93b6e0e5",
    "execution": {
     "iopub.execute_input": "2023-06-05T22:53:11.842942Z",
     "iopub.status.busy": "2023-06-05T22:53:11.842362Z",
     "iopub.status.idle": "2023-06-05T22:53:11.859224Z",
     "shell.execute_reply": "2023-06-05T22:53:11.858232Z"
    },
    "papermill": {
     "duration": 0.025902,
     "end_time": "2023-06-05T22:53:11.861085",
     "exception": false,
     "start_time": "2023-06-05T22:53:11.835183",
     "status": "completed"
    },
    "tags": []
   },
   "outputs": [],
   "source": [
    "\n",
    "import numpy as np \n",
    "import pandas as pd \n",
    "\n",
    "import os\n"
   ]
  },
  {
   "cell_type": "markdown",
   "metadata": {},
   "source": [
    "\"\"\"\n",
    "AUTHOR'S WORDS:\n",
    "\n",
    "\n",
    "[Machine Predictive Maintenance Classification Dataset]\n",
    "\n",
    "Since real predictive maintenance datasets are generally difficult to obtain and in particular difficult to publish, we present and provide a synthetic \n",
    "dataset that reflects real predictive maintenance encountered in the industry to the best of our knowledge.\n",
    "\n",
    "The dataset consists of 10 000 data points stored as rows with 14 features in columns\n",
    "\n",
    "\n",
    "UID                     : unique identifier ranging from 1 to 10000\n",
    "\n",
    "productID               : consisting of a letter L, M, or H for low (50% of all products), medium (30%), and high (20%) as product quality variants \n",
    "                          and a variant-specific serial number\n",
    "\n",
    "air temperature [K]     : generated using a random walk process later normalized to a standard deviation of 2 K around 300 K\n",
    "\n",
    "process temperature [K] : generated using a random walk process normalized to a standard deviation of 1 K, added to the air temperature plus 10 K.\n",
    "\n",
    "rotational speed [rpm]  : calculated from powepower of 2860 W, overlaid with a normally distributed noise\n",
    "\n",
    "torque [Nm]             : torque values are normally distributed around 40 Nm with an Ïƒ = 10 Nm and no negative values.\n",
    "\n",
    "tool wear [min]         : The quality variants H/M/L add 5/3/2 minutes of tool wear to the used tool in the process. and a 'machine failure' label that indicates, whether the machine has failed in this particular data point for any of the following failure modes are true.\n",
    "\n",
    "\n",
    "Important : There are two Targets - Do not make the mistake of using one of them as feature, as it will lead to leakage.\n",
    "\n",
    "Target       : Failure or Not\n",
    "Failure Type : Type of Failure"
   ]
  },
  {
   "cell_type": "code",
   "execution_count": 18,
   "id": "af20aa66",
   "metadata": {
    "execution": {
     "iopub.execute_input": "2023-06-05T22:53:11.871608Z",
     "iopub.status.busy": "2023-06-05T22:53:11.871007Z",
     "iopub.status.idle": "2023-06-05T22:53:11.951519Z",
     "shell.execute_reply": "2023-06-05T22:53:11.949911Z"
    },
    "papermill": {
     "duration": 0.087843,
     "end_time": "2023-06-05T22:53:11.953566",
     "exception": false,
     "start_time": "2023-06-05T22:53:11.865723",
     "status": "completed"
    },
    "tags": []
   },
   "outputs": [
    {
     "data": {
      "text/html": [
       "<div>\n",
       "<style scoped>\n",
       "    .dataframe tbody tr th:only-of-type {\n",
       "        vertical-align: middle;\n",
       "    }\n",
       "\n",
       "    .dataframe tbody tr th {\n",
       "        vertical-align: top;\n",
       "    }\n",
       "\n",
       "    .dataframe thead th {\n",
       "        text-align: right;\n",
       "    }\n",
       "</style>\n",
       "<table border=\"1\" class=\"dataframe\">\n",
       "  <thead>\n",
       "    <tr style=\"text-align: right;\">\n",
       "      <th></th>\n",
       "      <th>Product ID</th>\n",
       "      <th>Type</th>\n",
       "      <th>Air temperature [K]</th>\n",
       "      <th>Process temperature [K]</th>\n",
       "      <th>Rotational speed [rpm]</th>\n",
       "      <th>Torque [Nm]</th>\n",
       "      <th>Tool wear [min]</th>\n",
       "      <th>Target</th>\n",
       "      <th>Failure Type</th>\n",
       "    </tr>\n",
       "    <tr>\n",
       "      <th>UDI</th>\n",
       "      <th></th>\n",
       "      <th></th>\n",
       "      <th></th>\n",
       "      <th></th>\n",
       "      <th></th>\n",
       "      <th></th>\n",
       "      <th></th>\n",
       "      <th></th>\n",
       "      <th></th>\n",
       "    </tr>\n",
       "  </thead>\n",
       "  <tbody>\n",
       "    <tr>\n",
       "      <th>1</th>\n",
       "      <td>78912314860</td>\n",
       "      <td>789123</td>\n",
       "      <td>298.1</td>\n",
       "      <td>308.6</td>\n",
       "      <td>1551</td>\n",
       "      <td>42.8</td>\n",
       "      <td>0</td>\n",
       "      <td>0</td>\n",
       "      <td>0</td>\n",
       "    </tr>\n",
       "    <tr>\n",
       "      <th>2</th>\n",
       "      <td>65432147181</td>\n",
       "      <td>654321</td>\n",
       "      <td>298.2</td>\n",
       "      <td>308.7</td>\n",
       "      <td>1408</td>\n",
       "      <td>46.3</td>\n",
       "      <td>3</td>\n",
       "      <td>0</td>\n",
       "      <td>0</td>\n",
       "    </tr>\n",
       "    <tr>\n",
       "      <th>3</th>\n",
       "      <td>65432147182</td>\n",
       "      <td>654321</td>\n",
       "      <td>298.1</td>\n",
       "      <td>308.5</td>\n",
       "      <td>1498</td>\n",
       "      <td>49.4</td>\n",
       "      <td>5</td>\n",
       "      <td>0</td>\n",
       "      <td>0</td>\n",
       "    </tr>\n",
       "    <tr>\n",
       "      <th>4</th>\n",
       "      <td>65432147183</td>\n",
       "      <td>654321</td>\n",
       "      <td>298.2</td>\n",
       "      <td>308.6</td>\n",
       "      <td>1433</td>\n",
       "      <td>39.5</td>\n",
       "      <td>7</td>\n",
       "      <td>0</td>\n",
       "      <td>0</td>\n",
       "    </tr>\n",
       "    <tr>\n",
       "      <th>5</th>\n",
       "      <td>65432147184</td>\n",
       "      <td>654321</td>\n",
       "      <td>298.2</td>\n",
       "      <td>308.7</td>\n",
       "      <td>1408</td>\n",
       "      <td>40.0</td>\n",
       "      <td>9</td>\n",
       "      <td>0</td>\n",
       "      <td>0</td>\n",
       "    </tr>\n",
       "  </tbody>\n",
       "</table>\n",
       "</div>"
      ],
      "text/plain": [
       "      Product ID    Type  Air temperature [K]  Process temperature [K]  \\\n",
       "UDI                                                                      \n",
       "1    78912314860  789123                298.1                    308.6   \n",
       "2    65432147181  654321                298.2                    308.7   \n",
       "3    65432147182  654321                298.1                    308.5   \n",
       "4    65432147183  654321                298.2                    308.6   \n",
       "5    65432147184  654321                298.2                    308.7   \n",
       "\n",
       "     Rotational speed [rpm]  Torque [Nm]  Tool wear [min]  Target  \\\n",
       "UDI                                                                 \n",
       "1                      1551         42.8                0       0   \n",
       "2                      1408         46.3                3       0   \n",
       "3                      1498         49.4                5       0   \n",
       "4                      1433         39.5                7       0   \n",
       "5                      1408         40.0                9       0   \n",
       "\n",
       "     Failure Type  \n",
       "UDI                \n",
       "1               0  \n",
       "2               0  \n",
       "3               0  \n",
       "4               0  \n",
       "5               0  "
      ]
     },
     "execution_count": 18,
     "metadata": {},
     "output_type": "execute_result"
    }
   ],
   "source": [
    "df = pd.read_csv('./predictive_maintenance.csv',index_col='UDI')\n",
    "df.head()"
   ]
  },
  {
   "cell_type": "markdown",
   "id": "dda0b009",
   "metadata": {
    "papermill": {
     "duration": 0.004004,
     "end_time": "2023-06-05T22:53:11.962090",
     "exception": false,
     "start_time": "2023-06-05T22:53:11.958086",
     "status": "completed"
    },
    "tags": []
   },
   "source": [
    "* Product ID is unique for every member of the dataframe, so they contain no usefull data and will be deleted\n",
    "* The next column (Type) shows the quality of the tool used, which is usefull in predicting the life of the tool\n",
    "\n",
    "Remaining columns until Target are all usefull data about the working conditions of the tool\n",
    "\n",
    "* Target column indicates wether the tool has failed (Target==1) or not (Target==0)\n",
    "* Failure Type column shows the same data as the target column, but in the cases where there was a failure it also mentiones the type of the failure the tool has experienced\n",
    "\n",
    "So based on the prediction we are going to make (wether we only want to predict the failure or we want to predict the type sa well), we have to use only one of the last two columns in order to stop any data leakage from happening.\n",
    "The intention of this nptebook is predicting failure, not failure type. Because of this, the failure type column will be deleted later."
   ]
  },
  {
   "cell_type": "code",
   "execution_count": 19,
   "id": "7f866508",
   "metadata": {
    "execution": {
     "iopub.execute_input": "2023-06-05T22:53:11.972103Z",
     "iopub.status.busy": "2023-06-05T22:53:11.971719Z",
     "iopub.status.idle": "2023-06-05T22:53:11.979857Z",
     "shell.execute_reply": "2023-06-05T22:53:11.978794Z"
    },
    "papermill": {
     "duration": 0.01536,
     "end_time": "2023-06-05T22:53:11.981682",
     "exception": false,
     "start_time": "2023-06-05T22:53:11.966322",
     "status": "completed"
    },
    "tags": []
   },
   "outputs": [],
   "source": [
    "df.drop(columns = ['Product ID'],inplace=True)"
   ]
  },
  {
   "cell_type": "code",
   "execution_count": 20,
   "id": "cffa79e5",
   "metadata": {
    "execution": {
     "iopub.execute_input": "2023-06-05T22:53:11.992362Z",
     "iopub.status.busy": "2023-06-05T22:53:11.991903Z",
     "iopub.status.idle": "2023-06-05T22:53:13.345553Z",
     "shell.execute_reply": "2023-06-05T22:53:13.344822Z"
    },
    "papermill": {
     "duration": 1.361208,
     "end_time": "2023-06-05T22:53:13.347458",
     "exception": false,
     "start_time": "2023-06-05T22:53:11.986250",
     "status": "completed"
    },
    "tags": []
   },
   "outputs": [
    {
     "data": {
      "text/plain": [
       "Type                       0\n",
       "Air temperature [K]        0\n",
       "Process temperature [K]    0\n",
       "Rotational speed [rpm]     0\n",
       "Torque [Nm]                0\n",
       "Tool wear [min]            0\n",
       "Target                     0\n",
       "Failure Type               0\n",
       "dtype: int64"
      ]
     },
     "execution_count": 20,
     "metadata": {},
     "output_type": "execute_result"
    }
   ],
   "source": [
    "from sklearn.preprocessing import LabelEncoder\n",
    "type_enc = LabelEncoder()\n",
    "df['Type'] = type_enc.fit_transform(df['Type'])\n",
    "df.isna().sum()"
   ]
  },
  {
   "cell_type": "markdown",
   "id": "22c630c5",
   "metadata": {
    "papermill": {
     "duration": 0.004971,
     "end_time": "2023-06-05T22:53:13.358097",
     "exception": false,
     "start_time": "2023-06-05T22:53:13.353126",
     "status": "completed"
    },
    "tags": []
   },
   "source": [
    "We have to make sure there are no NA values inside the dataframe as well, since if there are any we have to resolve them."
   ]
  },
  {
   "cell_type": "code",
   "execution_count": 21,
   "id": "1180044e",
   "metadata": {
    "execution": {
     "iopub.execute_input": "2023-06-05T22:53:13.370139Z",
     "iopub.status.busy": "2023-06-05T22:53:13.369308Z",
     "iopub.status.idle": "2023-06-05T22:53:13.389458Z",
     "shell.execute_reply": "2023-06-05T22:53:13.387687Z"
    },
    "papermill": {
     "duration": 0.027935,
     "end_time": "2023-06-05T22:53:13.391781",
     "exception": false,
     "start_time": "2023-06-05T22:53:13.363846",
     "status": "completed"
    },
    "tags": []
   },
   "outputs": [
    {
     "data": {
      "text/html": [
       "<div>\n",
       "<style scoped>\n",
       "    .dataframe tbody tr th:only-of-type {\n",
       "        vertical-align: middle;\n",
       "    }\n",
       "\n",
       "    .dataframe tbody tr th {\n",
       "        vertical-align: top;\n",
       "    }\n",
       "\n",
       "    .dataframe thead th {\n",
       "        text-align: right;\n",
       "    }\n",
       "</style>\n",
       "<table border=\"1\" class=\"dataframe\">\n",
       "  <thead>\n",
       "    <tr style=\"text-align: right;\">\n",
       "      <th></th>\n",
       "      <th>Type</th>\n",
       "      <th>Air temperature [K]</th>\n",
       "      <th>Process temperature [K]</th>\n",
       "      <th>Rotational speed [rpm]</th>\n",
       "      <th>Torque [Nm]</th>\n",
       "      <th>Tool wear [min]</th>\n",
       "      <th>Target</th>\n",
       "      <th>Failure Type</th>\n",
       "    </tr>\n",
       "    <tr>\n",
       "      <th>UDI</th>\n",
       "      <th></th>\n",
       "      <th></th>\n",
       "      <th></th>\n",
       "      <th></th>\n",
       "      <th></th>\n",
       "      <th></th>\n",
       "      <th></th>\n",
       "      <th></th>\n",
       "    </tr>\n",
       "  </thead>\n",
       "  <tbody>\n",
       "  </tbody>\n",
       "</table>\n",
       "</div>"
      ],
      "text/plain": [
       "Empty DataFrame\n",
       "Columns: [Type, Air temperature [K], Process temperature [K], Rotational speed [rpm], Torque [Nm], Tool wear [min], Target, Failure Type]\n",
       "Index: []"
      ]
     },
     "execution_count": 21,
     "metadata": {},
     "output_type": "execute_result"
    }
   ],
   "source": [
    "df[(df['Target']==1)&(df['Failure Type']=='No Failure')]"
   ]
  },
  {
   "cell_type": "markdown",
   "id": "37f46734",
   "metadata": {
    "papermill": {
     "duration": 0.004768,
     "end_time": "2023-06-05T22:53:13.401632",
     "exception": false,
     "start_time": "2023-06-05T22:53:13.396864",
     "status": "completed"
    },
    "tags": []
   },
   "source": [
    "In some cases, the data available in the Target column indicates that the tool has failed, but the Failure Type column indicated that the tool has not had any failure. "
   ]
  },
  {
   "cell_type": "code",
   "execution_count": 22,
   "id": "6e36539a",
   "metadata": {
    "execution": {
     "iopub.execute_input": "2023-06-05T22:53:13.418006Z",
     "iopub.status.busy": "2023-06-05T22:53:13.417417Z",
     "iopub.status.idle": "2023-06-05T22:53:13.427489Z",
     "shell.execute_reply": "2023-06-05T22:53:13.426486Z"
    },
    "papermill": {
     "duration": 0.02315,
     "end_time": "2023-06-05T22:53:13.429645",
     "exception": false,
     "start_time": "2023-06-05T22:53:13.406495",
     "status": "completed"
    },
    "tags": []
   },
   "outputs": [],
   "source": [
    "df.drop(df[(df['Target']==1)&(df['Failure Type']=='No Failure')].index,inplace=True)"
   ]
  },
  {
   "cell_type": "code",
   "execution_count": 23,
   "id": "287a122a",
   "metadata": {
    "execution": {
     "iopub.execute_input": "2023-06-05T22:53:13.443877Z",
     "iopub.status.busy": "2023-06-05T22:53:13.443259Z",
     "iopub.status.idle": "2023-06-05T22:53:13.457040Z",
     "shell.execute_reply": "2023-06-05T22:53:13.455679Z"
    },
    "papermill": {
     "duration": 0.02318,
     "end_time": "2023-06-05T22:53:13.459069",
     "exception": false,
     "start_time": "2023-06-05T22:53:13.435889",
     "status": "completed"
    },
    "tags": []
   },
   "outputs": [
    {
     "data": {
      "text/plain": [
       "Target\n",
       "0    9660\n",
       "1     339\n",
       "dtype: int64"
      ]
     },
     "execution_count": 23,
     "metadata": {},
     "output_type": "execute_result"
    }
   ],
   "source": [
    "df.drop(columns = ['Failure Type'],inplace=True)\n",
    "df.groupby('Target').size()"
   ]
  },
  {
   "cell_type": "markdown",
   "id": "7860b86b",
   "metadata": {
    "papermill": {
     "duration": 0.004287,
     "end_time": "2023-06-05T22:53:13.468335",
     "exception": false,
     "start_time": "2023-06-05T22:53:13.464048",
     "status": "completed"
    },
    "tags": []
   },
   "source": [
    "It can be seen that the dataset is severly imbalanced. So first we divide the dataframe into training and testing sections and then apply oversampling to the training section of the dataset in order to balance the information used for training the model. This is done after dividing the datasets in order to stop any data leakage from happening and also for the testing dataset of the model to be representative of the real world."
   ]
  },
  {
   "cell_type": "code",
   "execution_count": 24,
   "id": "02d7fbc7",
   "metadata": {
    "execution": {
     "iopub.execute_input": "2023-06-05T22:53:13.479077Z",
     "iopub.status.busy": "2023-06-05T22:53:13.478443Z",
     "iopub.status.idle": "2023-06-05T22:53:13.617138Z",
     "shell.execute_reply": "2023-06-05T22:53:13.615745Z"
    },
    "papermill": {
     "duration": 0.146673,
     "end_time": "2023-06-05T22:53:13.619420",
     "exception": false,
     "start_time": "2023-06-05T22:53:13.472747",
     "status": "completed"
    },
    "tags": []
   },
   "outputs": [],
   "source": [
    "from sklearn.model_selection import train_test_split\n",
    "train_data,test_data = train_test_split(df,stratify=df['Target'],test_size=0.2)"
   ]
  },
  {
   "cell_type": "code",
   "execution_count": 25,
   "id": "389e4006",
   "metadata": {
    "execution": {
     "iopub.execute_input": "2023-06-05T22:53:13.631831Z",
     "iopub.status.busy": "2023-06-05T22:53:13.631511Z",
     "iopub.status.idle": "2023-06-05T22:53:14.227555Z",
     "shell.execute_reply": "2023-06-05T22:53:14.226043Z"
    },
    "papermill": {
     "duration": 0.604824,
     "end_time": "2023-06-05T22:53:14.229902",
     "exception": false,
     "start_time": "2023-06-05T22:53:13.625078",
     "status": "completed"
    },
    "tags": []
   },
   "outputs": [],
   "source": [
    "from imblearn.over_sampling import SMOTE\n",
    "\n",
    "def sm_oversamp(inp_x,inp_y):\n",
    "    ov_samp = SMOTE(k_neighbors=4,sampling_strategy='minority')\n",
    "    return ov_samp.fit_resample(inp_x,inp_y)\n",
    "\n",
    "x_train = train_data.drop(columns=['Target'])\n",
    "y_train = train_data['Target']\n",
    "\n",
    "x_train_os,y_train_os = sm_oversamp(x_train,y_train)"
   ]
  },
  {
   "cell_type": "code",
   "execution_count": 26,
   "id": "ec52e625",
   "metadata": {
    "execution": {
     "iopub.execute_input": "2023-06-05T22:53:14.241178Z",
     "iopub.status.busy": "2023-06-05T22:53:14.240818Z",
     "iopub.status.idle": "2023-06-05T22:53:14.255862Z",
     "shell.execute_reply": "2023-06-05T22:53:14.255048Z"
    },
    "papermill": {
     "duration": 0.022908,
     "end_time": "2023-06-05T22:53:14.257784",
     "exception": false,
     "start_time": "2023-06-05T22:53:14.234876",
     "status": "completed"
    },
    "tags": []
   },
   "outputs": [
    {
     "name": "stdout",
     "output_type": "stream",
     "text": [
      "   Type  Air temperature [K]  Process temperature [K]  Rotational speed [rpm]  \\\n",
      "0     2                297.6                    308.7                    1408   \n",
      "1     1                302.6                    311.0                    1506   \n",
      "2     1                302.0                    310.5                    1567   \n",
      "3     1                298.7                    308.4                    1373   \n",
      "4     1                298.4                    309.5                    1376   \n",
      "\n",
      "   Torque [Nm]  Tool wear [min]  \n",
      "0         51.5                4  \n",
      "1         37.2               95  \n",
      "2         36.1              124  \n",
      "3         46.9               60  \n",
      "4         50.4              202  \n"
     ]
    }
   ],
   "source": [
    "from sklearn.preprocessing import MinMaxScaler\n",
    "feature_scaler = MinMaxScaler()\n",
    "feature_scaler.fit(x_train_os)\n",
    "print(x_train_os.head())"
   ]
  },
  {
   "cell_type": "code",
   "execution_count": 27,
   "id": "e0abdd9d",
   "metadata": {
    "execution": {
     "iopub.execute_input": "2023-06-05T22:53:14.270749Z",
     "iopub.status.busy": "2023-06-05T22:53:14.269691Z",
     "iopub.status.idle": "2023-06-05T22:53:14.288331Z",
     "shell.execute_reply": "2023-06-05T22:53:14.287391Z"
    },
    "papermill": {
     "duration": 0.026595,
     "end_time": "2023-06-05T22:53:14.290063",
     "exception": false,
     "start_time": "2023-06-05T22:53:14.263468",
     "status": "completed"
    },
    "tags": []
   },
   "outputs": [
    {
     "name": "stdout",
     "output_type": "stream",
     "text": [
      "       Type  Air temperature [K]  Process temperature [K]  \\\n",
      "0         2           297.600000               308.700000   \n",
      "1         1           302.600000               311.000000   \n",
      "2         1           302.000000               310.500000   \n",
      "3         1           298.700000               308.400000   \n",
      "4         1           298.400000               309.500000   \n",
      "...     ...                  ...                      ...   \n",
      "15451     1           301.388183               310.303939   \n",
      "15452     1           301.706380               310.155316   \n",
      "15453     1           299.667147               308.918194   \n",
      "15454     1           302.440754               311.029024   \n",
      "15455     1           303.007385               311.135795   \n",
      "\n",
      "       Rotational speed [rpm]  Torque [Nm]  Tool wear [min]  \n",
      "0                        1408    51.500000                4  \n",
      "1                        1506    37.200000               95  \n",
      "2                        1567    36.100000              124  \n",
      "3                        1373    46.900000               60  \n",
      "4                        1376    50.400000              202  \n",
      "...                       ...          ...              ...  \n",
      "15451                    1311    65.819054               44  \n",
      "15452                    1353    59.076608              109  \n",
      "15453                    1317    63.676243              189  \n",
      "15454                    1377    49.909933               33  \n",
      "15455                    1366    47.256445               30  \n",
      "\n",
      "[15456 rows x 6 columns]\n"
     ]
    },
    {
     "data": {
      "text/html": [
       "<div>\n",
       "<style scoped>\n",
       "    .dataframe tbody tr th:only-of-type {\n",
       "        vertical-align: middle;\n",
       "    }\n",
       "\n",
       "    .dataframe tbody tr th {\n",
       "        vertical-align: top;\n",
       "    }\n",
       "\n",
       "    .dataframe thead th {\n",
       "        text-align: right;\n",
       "    }\n",
       "</style>\n",
       "<table border=\"1\" class=\"dataframe\">\n",
       "  <thead>\n",
       "    <tr style=\"text-align: right;\">\n",
       "      <th></th>\n",
       "      <th>0</th>\n",
       "      <th>1</th>\n",
       "      <th>2</th>\n",
       "      <th>3</th>\n",
       "      <th>4</th>\n",
       "      <th>5</th>\n",
       "    </tr>\n",
       "  </thead>\n",
       "  <tbody>\n",
       "    <tr>\n",
       "      <th>0</th>\n",
       "      <td>1.0</td>\n",
       "      <td>0.250000</td>\n",
       "      <td>0.370370</td>\n",
       "      <td>0.139697</td>\n",
       "      <td>0.655220</td>\n",
       "      <td>0.015810</td>\n",
       "    </tr>\n",
       "    <tr>\n",
       "      <th>1</th>\n",
       "      <td>0.5</td>\n",
       "      <td>0.793478</td>\n",
       "      <td>0.654321</td>\n",
       "      <td>0.196740</td>\n",
       "      <td>0.458791</td>\n",
       "      <td>0.375494</td>\n",
       "    </tr>\n",
       "    <tr>\n",
       "      <th>2</th>\n",
       "      <td>0.5</td>\n",
       "      <td>0.728261</td>\n",
       "      <td>0.592593</td>\n",
       "      <td>0.232247</td>\n",
       "      <td>0.443681</td>\n",
       "      <td>0.490119</td>\n",
       "    </tr>\n",
       "    <tr>\n",
       "      <th>3</th>\n",
       "      <td>0.5</td>\n",
       "      <td>0.369565</td>\n",
       "      <td>0.333333</td>\n",
       "      <td>0.119325</td>\n",
       "      <td>0.592033</td>\n",
       "      <td>0.237154</td>\n",
       "    </tr>\n",
       "    <tr>\n",
       "      <th>4</th>\n",
       "      <td>0.5</td>\n",
       "      <td>0.336957</td>\n",
       "      <td>0.469136</td>\n",
       "      <td>0.121071</td>\n",
       "      <td>0.640110</td>\n",
       "      <td>0.798419</td>\n",
       "    </tr>\n",
       "    <tr>\n",
       "      <th>...</th>\n",
       "      <td>...</td>\n",
       "      <td>...</td>\n",
       "      <td>...</td>\n",
       "      <td>...</td>\n",
       "      <td>...</td>\n",
       "      <td>...</td>\n",
       "    </tr>\n",
       "    <tr>\n",
       "      <th>15451</th>\n",
       "      <td>0.5</td>\n",
       "      <td>0.661759</td>\n",
       "      <td>0.568388</td>\n",
       "      <td>0.083236</td>\n",
       "      <td>0.851910</td>\n",
       "      <td>0.173913</td>\n",
       "    </tr>\n",
       "    <tr>\n",
       "      <th>15452</th>\n",
       "      <td>0.5</td>\n",
       "      <td>0.696346</td>\n",
       "      <td>0.550039</td>\n",
       "      <td>0.107683</td>\n",
       "      <td>0.759294</td>\n",
       "      <td>0.430830</td>\n",
       "    </tr>\n",
       "    <tr>\n",
       "      <th>15453</th>\n",
       "      <td>0.5</td>\n",
       "      <td>0.474690</td>\n",
       "      <td>0.397308</td>\n",
       "      <td>0.086729</td>\n",
       "      <td>0.822476</td>\n",
       "      <td>0.747036</td>\n",
       "    </tr>\n",
       "    <tr>\n",
       "      <th>15454</th>\n",
       "      <td>0.5</td>\n",
       "      <td>0.776169</td>\n",
       "      <td>0.657904</td>\n",
       "      <td>0.121653</td>\n",
       "      <td>0.633378</td>\n",
       "      <td>0.130435</td>\n",
       "    </tr>\n",
       "    <tr>\n",
       "      <th>15455</th>\n",
       "      <td>0.5</td>\n",
       "      <td>0.837759</td>\n",
       "      <td>0.671086</td>\n",
       "      <td>0.115250</td>\n",
       "      <td>0.596929</td>\n",
       "      <td>0.118577</td>\n",
       "    </tr>\n",
       "  </tbody>\n",
       "</table>\n",
       "<p>15456 rows × 6 columns</p>\n",
       "</div>"
      ],
      "text/plain": [
       "         0         1         2         3         4         5\n",
       "0      1.0  0.250000  0.370370  0.139697  0.655220  0.015810\n",
       "1      0.5  0.793478  0.654321  0.196740  0.458791  0.375494\n",
       "2      0.5  0.728261  0.592593  0.232247  0.443681  0.490119\n",
       "3      0.5  0.369565  0.333333  0.119325  0.592033  0.237154\n",
       "4      0.5  0.336957  0.469136  0.121071  0.640110  0.798419\n",
       "...    ...       ...       ...       ...       ...       ...\n",
       "15451  0.5  0.661759  0.568388  0.083236  0.851910  0.173913\n",
       "15452  0.5  0.696346  0.550039  0.107683  0.759294  0.430830\n",
       "15453  0.5  0.474690  0.397308  0.086729  0.822476  0.747036\n",
       "15454  0.5  0.776169  0.657904  0.121653  0.633378  0.130435\n",
       "15455  0.5  0.837759  0.671086  0.115250  0.596929  0.118577\n",
       "\n",
       "[15456 rows x 6 columns]"
      ]
     },
     "execution_count": 27,
     "metadata": {},
     "output_type": "execute_result"
    }
   ],
   "source": [
    "train_features_scaled = pd.DataFrame(feature_scaler.transform(x_train_os))\n",
    "test_features_scaled = pd.DataFrame(feature_scaler.transform(test_data.drop(columns=['Target'])))\n",
    "print(x_train_os)\n",
    "train_features_scaled"
   ]
  },
  {
   "cell_type": "code",
   "execution_count": 28,
   "id": "2f02de11",
   "metadata": {
    "execution": {
     "iopub.execute_input": "2023-06-05T22:53:14.302391Z",
     "iopub.status.busy": "2023-06-05T22:53:14.302040Z",
     "iopub.status.idle": "2023-06-05T22:54:07.008697Z",
     "shell.execute_reply": "2023-06-05T22:54:07.007866Z"
    },
    "papermill": {
     "duration": 52.720465,
     "end_time": "2023-06-05T22:54:07.015856",
     "exception": false,
     "start_time": "2023-06-05T22:53:14.295391",
     "status": "completed"
    },
    "tags": []
   },
   "outputs": [
    {
     "data": {
      "text/html": [
       "<style>#sk-container-id-2 {color: black;}#sk-container-id-2 pre{padding: 0;}#sk-container-id-2 div.sk-toggleable {background-color: white;}#sk-container-id-2 label.sk-toggleable__label {cursor: pointer;display: block;width: 100%;margin-bottom: 0;padding: 0.3em;box-sizing: border-box;text-align: center;}#sk-container-id-2 label.sk-toggleable__label-arrow:before {content: \"▸\";float: left;margin-right: 0.25em;color: #696969;}#sk-container-id-2 label.sk-toggleable__label-arrow:hover:before {color: black;}#sk-container-id-2 div.sk-estimator:hover label.sk-toggleable__label-arrow:before {color: black;}#sk-container-id-2 div.sk-toggleable__content {max-height: 0;max-width: 0;overflow: hidden;text-align: left;background-color: #f0f8ff;}#sk-container-id-2 div.sk-toggleable__content pre {margin: 0.2em;color: black;border-radius: 0.25em;background-color: #f0f8ff;}#sk-container-id-2 input.sk-toggleable__control:checked~div.sk-toggleable__content {max-height: 200px;max-width: 100%;overflow: auto;}#sk-container-id-2 input.sk-toggleable__control:checked~label.sk-toggleable__label-arrow:before {content: \"▾\";}#sk-container-id-2 div.sk-estimator input.sk-toggleable__control:checked~label.sk-toggleable__label {background-color: #d4ebff;}#sk-container-id-2 div.sk-label input.sk-toggleable__control:checked~label.sk-toggleable__label {background-color: #d4ebff;}#sk-container-id-2 input.sk-hidden--visually {border: 0;clip: rect(1px 1px 1px 1px);clip: rect(1px, 1px, 1px, 1px);height: 1px;margin: -1px;overflow: hidden;padding: 0;position: absolute;width: 1px;}#sk-container-id-2 div.sk-estimator {font-family: monospace;background-color: #f0f8ff;border: 1px dotted black;border-radius: 0.25em;box-sizing: border-box;margin-bottom: 0.5em;}#sk-container-id-2 div.sk-estimator:hover {background-color: #d4ebff;}#sk-container-id-2 div.sk-parallel-item::after {content: \"\";width: 100%;border-bottom: 1px solid gray;flex-grow: 1;}#sk-container-id-2 div.sk-label:hover label.sk-toggleable__label {background-color: #d4ebff;}#sk-container-id-2 div.sk-serial::before {content: \"\";position: absolute;border-left: 1px solid gray;box-sizing: border-box;top: 0;bottom: 0;left: 50%;z-index: 0;}#sk-container-id-2 div.sk-serial {display: flex;flex-direction: column;align-items: center;background-color: white;padding-right: 0.2em;padding-left: 0.2em;position: relative;}#sk-container-id-2 div.sk-item {position: relative;z-index: 1;}#sk-container-id-2 div.sk-parallel {display: flex;align-items: stretch;justify-content: center;background-color: white;position: relative;}#sk-container-id-2 div.sk-item::before, #sk-container-id-2 div.sk-parallel-item::before {content: \"\";position: absolute;border-left: 1px solid gray;box-sizing: border-box;top: 0;bottom: 0;left: 50%;z-index: -1;}#sk-container-id-2 div.sk-parallel-item {display: flex;flex-direction: column;z-index: 1;position: relative;background-color: white;}#sk-container-id-2 div.sk-parallel-item:first-child::after {align-self: flex-end;width: 50%;}#sk-container-id-2 div.sk-parallel-item:last-child::after {align-self: flex-start;width: 50%;}#sk-container-id-2 div.sk-parallel-item:only-child::after {width: 0;}#sk-container-id-2 div.sk-dashed-wrapped {border: 1px dashed gray;margin: 0 0.4em 0.5em 0.4em;box-sizing: border-box;padding-bottom: 0.4em;background-color: white;}#sk-container-id-2 div.sk-label label {font-family: monospace;font-weight: bold;display: inline-block;line-height: 1.2em;}#sk-container-id-2 div.sk-label-container {text-align: center;}#sk-container-id-2 div.sk-container {/* jupyter's `normalize.less` sets `[hidden] { display: none; }` but bootstrap.min.css set `[hidden] { display: none !important; }` so we also need the `!important` here to be able to override the default hidden behavior on the sphinx rendered scikit-learn.org. See: https://github.com/scikit-learn/scikit-learn/issues/21755 */display: inline-block !important;position: relative;}#sk-container-id-2 div.sk-text-repr-fallback {display: none;}</style><div id=\"sk-container-id-2\" class=\"sk-top-container\"><div class=\"sk-text-repr-fallback\"><pre>RandomizedSearchCV(cv=5,\n",
       "                   estimator=XGBClassifier(base_score=None, booster=None,\n",
       "                                           callbacks=None,\n",
       "                                           colsample_bylevel=None,\n",
       "                                           colsample_bynode=None,\n",
       "                                           colsample_bytree=None, device=None,\n",
       "                                           early_stopping_rounds=None,\n",
       "                                           enable_categorical=False,\n",
       "                                           eval_metric=None, feature_types=None,\n",
       "                                           gamma=None, grow_policy=None,\n",
       "                                           importance_type=None,\n",
       "                                           interaction_constraints=None,\n",
       "                                           learning_rate...\n",
       "                                           max_leaves=None,\n",
       "                                           min_child_weight=None, missing=nan,\n",
       "                                           monotone_constraints=None,\n",
       "                                           multi_strategy=None,\n",
       "                                           n_estimators=None, n_jobs=None,\n",
       "                                           num_parallel_tree=None,\n",
       "                                           random_state=None, ...),\n",
       "                   param_distributions={&#x27;colsample_bytree&#x27;: [0.8, 0.9, 1.0],\n",
       "                                        &#x27;learning_rate&#x27;: [0.1, 0.01, 0.001],\n",
       "                                        &#x27;max_depth&#x27;: [2, 5, 8, 10, 12],\n",
       "                                        &#x27;n_estimators&#x27;: [50, 75, 100, 150, 200],\n",
       "                                        &#x27;subsample&#x27;: [0.8, 0.9, 1.0]},\n",
       "                   scoring=&#x27;recall&#x27;)</pre><b>In a Jupyter environment, please rerun this cell to show the HTML representation or trust the notebook. <br />On GitHub, the HTML representation is unable to render, please try loading this page with nbviewer.org.</b></div><div class=\"sk-container\" hidden><div class=\"sk-item sk-dashed-wrapped\"><div class=\"sk-label-container\"><div class=\"sk-label sk-toggleable\"><input class=\"sk-toggleable__control sk-hidden--visually\" id=\"sk-estimator-id-4\" type=\"checkbox\" ><label for=\"sk-estimator-id-4\" class=\"sk-toggleable__label sk-toggleable__label-arrow\">RandomizedSearchCV</label><div class=\"sk-toggleable__content\"><pre>RandomizedSearchCV(cv=5,\n",
       "                   estimator=XGBClassifier(base_score=None, booster=None,\n",
       "                                           callbacks=None,\n",
       "                                           colsample_bylevel=None,\n",
       "                                           colsample_bynode=None,\n",
       "                                           colsample_bytree=None, device=None,\n",
       "                                           early_stopping_rounds=None,\n",
       "                                           enable_categorical=False,\n",
       "                                           eval_metric=None, feature_types=None,\n",
       "                                           gamma=None, grow_policy=None,\n",
       "                                           importance_type=None,\n",
       "                                           interaction_constraints=None,\n",
       "                                           learning_rate...\n",
       "                                           max_leaves=None,\n",
       "                                           min_child_weight=None, missing=nan,\n",
       "                                           monotone_constraints=None,\n",
       "                                           multi_strategy=None,\n",
       "                                           n_estimators=None, n_jobs=None,\n",
       "                                           num_parallel_tree=None,\n",
       "                                           random_state=None, ...),\n",
       "                   param_distributions={&#x27;colsample_bytree&#x27;: [0.8, 0.9, 1.0],\n",
       "                                        &#x27;learning_rate&#x27;: [0.1, 0.01, 0.001],\n",
       "                                        &#x27;max_depth&#x27;: [2, 5, 8, 10, 12],\n",
       "                                        &#x27;n_estimators&#x27;: [50, 75, 100, 150, 200],\n",
       "                                        &#x27;subsample&#x27;: [0.8, 0.9, 1.0]},\n",
       "                   scoring=&#x27;recall&#x27;)</pre></div></div></div><div class=\"sk-parallel\"><div class=\"sk-parallel-item\"><div class=\"sk-item\"><div class=\"sk-label-container\"><div class=\"sk-label sk-toggleable\"><input class=\"sk-toggleable__control sk-hidden--visually\" id=\"sk-estimator-id-5\" type=\"checkbox\" ><label for=\"sk-estimator-id-5\" class=\"sk-toggleable__label sk-toggleable__label-arrow\">estimator: XGBClassifier</label><div class=\"sk-toggleable__content\"><pre>XGBClassifier(base_score=None, booster=None, callbacks=None,\n",
       "              colsample_bylevel=None, colsample_bynode=None,\n",
       "              colsample_bytree=None, device=None, early_stopping_rounds=None,\n",
       "              enable_categorical=False, eval_metric=None, feature_types=None,\n",
       "              gamma=None, grow_policy=None, importance_type=None,\n",
       "              interaction_constraints=None, learning_rate=None, max_bin=None,\n",
       "              max_cat_threshold=None, max_cat_to_onehot=None,\n",
       "              max_delta_step=None, max_depth=None, max_leaves=None,\n",
       "              min_child_weight=None, missing=nan, monotone_constraints=None,\n",
       "              multi_strategy=None, n_estimators=None, n_jobs=None,\n",
       "              num_parallel_tree=None, random_state=None, ...)</pre></div></div></div><div class=\"sk-serial\"><div class=\"sk-item\"><div class=\"sk-estimator sk-toggleable\"><input class=\"sk-toggleable__control sk-hidden--visually\" id=\"sk-estimator-id-6\" type=\"checkbox\" ><label for=\"sk-estimator-id-6\" class=\"sk-toggleable__label sk-toggleable__label-arrow\">XGBClassifier</label><div class=\"sk-toggleable__content\"><pre>XGBClassifier(base_score=None, booster=None, callbacks=None,\n",
       "              colsample_bylevel=None, colsample_bynode=None,\n",
       "              colsample_bytree=None, device=None, early_stopping_rounds=None,\n",
       "              enable_categorical=False, eval_metric=None, feature_types=None,\n",
       "              gamma=None, grow_policy=None, importance_type=None,\n",
       "              interaction_constraints=None, learning_rate=None, max_bin=None,\n",
       "              max_cat_threshold=None, max_cat_to_onehot=None,\n",
       "              max_delta_step=None, max_depth=None, max_leaves=None,\n",
       "              min_child_weight=None, missing=nan, monotone_constraints=None,\n",
       "              multi_strategy=None, n_estimators=None, n_jobs=None,\n",
       "              num_parallel_tree=None, random_state=None, ...)</pre></div></div></div></div></div></div></div></div></div></div>"
      ],
      "text/plain": [
       "RandomizedSearchCV(cv=5,\n",
       "                   estimator=XGBClassifier(base_score=None, booster=None,\n",
       "                                           callbacks=None,\n",
       "                                           colsample_bylevel=None,\n",
       "                                           colsample_bynode=None,\n",
       "                                           colsample_bytree=None, device=None,\n",
       "                                           early_stopping_rounds=None,\n",
       "                                           enable_categorical=False,\n",
       "                                           eval_metric=None, feature_types=None,\n",
       "                                           gamma=None, grow_policy=None,\n",
       "                                           importance_type=None,\n",
       "                                           interaction_constraints=None,\n",
       "                                           learning_rate...\n",
       "                                           max_leaves=None,\n",
       "                                           min_child_weight=None, missing=nan,\n",
       "                                           monotone_constraints=None,\n",
       "                                           multi_strategy=None,\n",
       "                                           n_estimators=None, n_jobs=None,\n",
       "                                           num_parallel_tree=None,\n",
       "                                           random_state=None, ...),\n",
       "                   param_distributions={'colsample_bytree': [0.8, 0.9, 1.0],\n",
       "                                        'learning_rate': [0.1, 0.01, 0.001],\n",
       "                                        'max_depth': [2, 5, 8, 10, 12],\n",
       "                                        'n_estimators': [50, 75, 100, 150, 200],\n",
       "                                        'subsample': [0.8, 0.9, 1.0]},\n",
       "                   scoring='recall')"
      ]
     },
     "execution_count": 28,
     "metadata": {},
     "output_type": "execute_result"
    }
   ],
   "source": [
    "from sklearn.model_selection import RandomizedSearchCV\n",
    "from xgboost import XGBClassifier\n",
    "xgb_model = XGBClassifier()\n",
    "\n",
    "params = {\n",
    "    'n_estimators': [50, 75, 100, 150, 200],\n",
    "    'max_depth': [2, 5, 8, 10, 12],\n",
    "    'learning_rate': [0.1, 0.01, 0.001],\n",
    "    'subsample': [0.8, 0.9, 1.0],\n",
    "    'colsample_bytree': [0.8, 0.9, 1.0],\n",
    "}\n",
    "\n",
    "random_search = RandomizedSearchCV(\n",
    "    estimator=xgb_model,\n",
    "    param_distributions=params,\n",
    "    n_iter=10,\n",
    "    scoring='recall',\n",
    "    cv=5\n",
    ")\n",
    "\n",
    "random_search.fit(train_features_scaled,y_train_os)"
   ]
  },
  {
   "cell_type": "code",
   "execution_count": 29,
   "id": "5a20c1e3",
   "metadata": {
    "execution": {
     "iopub.execute_input": "2023-06-05T22:54:07.028556Z",
     "iopub.status.busy": "2023-06-05T22:54:07.027713Z",
     "iopub.status.idle": "2023-06-05T22:54:07.034153Z",
     "shell.execute_reply": "2023-06-05T22:54:07.033450Z"
    },
    "papermill": {
     "duration": 0.01469,
     "end_time": "2023-06-05T22:54:07.035877",
     "exception": false,
     "start_time": "2023-06-05T22:54:07.021187",
     "status": "completed"
    },
    "tags": []
   },
   "outputs": [
    {
     "data": {
      "text/plain": [
       "{'subsample': 1.0,\n",
       " 'n_estimators': 200,\n",
       " 'max_depth': 12,\n",
       " 'learning_rate': 0.1,\n",
       " 'colsample_bytree': 0.9}"
      ]
     },
     "execution_count": 29,
     "metadata": {},
     "output_type": "execute_result"
    }
   ],
   "source": [
    "best_model = random_search.best_estimator_\n",
    "random_search.best_params_"
   ]
  },
  {
   "cell_type": "code",
   "execution_count": 30,
   "id": "a24a1440",
   "metadata": {
    "execution": {
     "iopub.execute_input": "2023-06-05T22:54:07.048723Z",
     "iopub.status.busy": "2023-06-05T22:54:07.048127Z",
     "iopub.status.idle": "2023-06-05T22:54:07.067503Z",
     "shell.execute_reply": "2023-06-05T22:54:07.066473Z"
    },
    "papermill": {
     "duration": 0.028472,
     "end_time": "2023-06-05T22:54:07.070061",
     "exception": false,
     "start_time": "2023-06-05T22:54:07.041589",
     "status": "completed"
    },
    "tags": []
   },
   "outputs": [
    {
     "name": "stdout",
     "output_type": "stream",
     "text": [
      "              precision    recall  f1-score   support\n",
      "\n",
      "           0       0.99      0.97      0.98      1932\n",
      "           1       0.49      0.72      0.59        68\n",
      "\n",
      "    accuracy                           0.97      2000\n",
      "   macro avg       0.74      0.85      0.78      2000\n",
      "weighted avg       0.97      0.97      0.97      2000\n",
      "\n"
     ]
    }
   ],
   "source": [
    "y_pred = best_model.predict(test_features_scaled)\n",
    "\n",
    "from sklearn.metrics import classification_report\n",
    "print(classification_report(test_data['Target'],y_pred))"
   ]
  },
  {
   "cell_type": "code",
   "execution_count": 31,
   "metadata": {},
   "outputs": [],
   "source": [
    "import pickle\n",
    "with (open('model.pkl','wb')) as file:\n",
    "    pickle.dump(best_model,file)"
   ]
  },
  {
   "cell_type": "code",
   "execution_count": 32,
   "id": "dae7ba54",
   "metadata": {},
   "outputs": [],
   "source": [
    "import matplotlib.pyplot as plt\n",
    "import numpy\n",
    "from sklearn import metrics"
   ]
  },
  {
   "cell_type": "code",
   "execution_count": 33,
   "id": "5b2bc571",
   "metadata": {},
   "outputs": [
    {
     "data": {
      "image/png": "[encoded data removed]",
      "text/plain": [
       "<Figure size 640x480 with 2 Axes>"
      ]
     },
     "metadata": {},
     "output_type": "display_data"
    }
   ],
   "source": [
    "confusion_matrix = metrics.confusion_matrix(test_data['Target'],y_pred)\n",
    "\n",
    "cm_display = metrics.ConfusionMatrixDisplay(confusion_matrix = confusion_matrix, display_labels = [False, True])\n",
    "\n",
    "cm_display.plot()\n",
    "plt.show()"
   ]
  }
 ],
 "metadata": {
  "kernelspec": {
   "display_name": "Python 3",
   "language": "python",
   "name": "python3"
  },
  "language_info": {
   "codemirror_mode": {
    "name": "ipython",
    "version": 3
   },
   "file_extension": ".py",
   "mimetype": "text/x-python",
   "name": "python",
   "nbconvert_exporter": "python",
   "pygments_lexer": "ipython3",
   "version": "3.10.12"
  },
  "papermill": {
   "default_parameters": {},
   "duration": 65.550722,
   "end_time": "2023-06-05T22:54:08.010351",
   "environment_variables": {},
   "exception": null,
   "input_path": "__notebook__.ipynb",
   "output_path": "__notebook__.ipynb",
   "parameters": {},
   "start_time": "2023-06-05T22:53:02.459629",
   "version": "2.4.0"
  }
 },
 "nbformat": 4,
 "nbformat_minor": 5
}
