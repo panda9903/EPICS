{
 "cells": [
  {
   "cell_type": "code",
   "execution_count": 116,
   "id": "76fec303",
   "metadata": {
    "_cell_guid": "b1076dfc-b9ad-4769-8c92-a6c4dae69d19",
    "_uuid": "8f2839f25d086af736a60e9eeb907d3b93b6e0e5",
    "execution": {
     "iopub.execute_input": "2023-06-05T22:53:11.842942Z",
     "iopub.status.busy": "2023-06-05T22:53:11.842362Z",
     "iopub.status.idle": "2023-06-05T22:53:11.859224Z",
     "shell.execute_reply": "2023-06-05T22:53:11.858232Z"
    },
    "papermill": {
     "duration": 0.025902,
     "end_time": "2023-06-05T22:53:11.861085",
     "exception": false,
     "start_time": "2023-06-05T22:53:11.835183",
     "status": "completed"
    },
    "tags": []
   },
   "outputs": [],
   "source": [
    "\n",
    "import numpy as np # linear algebra\n",
    "import pandas as pd # data processing, CSV file I/O (e.g. pd.read_csv)\n",
    "\n",
    "import os\n"
   ]
  },
  {
   "cell_type": "markdown",
   "metadata": {},
   "source": [
    "\"\"\"\n",
    "AUTHOR'S WORDS:\n",
    "\n",
    "\n",
    "[Machine Predictive Maintenance Classification Dataset]\n",
    "\n",
    "Since real predictive maintenance datasets are generally difficult to obtain and in particular difficult to publish, we present and provide a synthetic \n",
    "dataset that reflects real predictive maintenance encountered in the industry to the best of our knowledge.\n",
    "\n",
    "The dataset consists of 10 000 data points stored as rows with 14 features in columns\n",
    "\n",
    "\n",
    "UID                     : unique identifier ranging from 1 to 10000\n",
    "\n",
    "productID               : consisting of a letter L, M, or H for low (50% of all products), medium (30%), and high (20%) as product quality variants \n",
    "                          and a variant-specific serial number\n",
    "\n",
    "air temperature [K]     : generated using a random walk process later normalized to a standard deviation of 2 K around 300 K\n",
    "\n",
    "process temperature [K] : generated using a random walk process normalized to a standard deviation of 1 K, added to the air temperature plus 10 K.\n",
    "\n",
    "rotational speed [rpm]  : calculated from powepower of 2860 W, overlaid with a normally distributed noise\n",
    "\n",
    "torque [Nm]             : torque values are normally distributed around 40 Nm with an Ïƒ = 10 Nm and no negative values.\n",
    "\n",
    "tool wear [min]         : The quality variants H/M/L add 5/3/2 minutes of tool wear to the used tool in the process. and a 'machine failure' label that indicates, whether the machine has failed in this particular data point for any of the following failure modes are true.\n",
    "\n",
    "\n",
    "Important : There are two Targets - Do not make the mistake of using one of them as feature, as it will lead to leakage.\n",
    "\n",
    "Target       : Failure or Not\n",
    "Failure Type : Type of Failure"
   ]
  },
  {
   "cell_type": "code",
   "execution_count": 117,
   "id": "af20aa66",
   "metadata": {
    "execution": {
     "iopub.execute_input": "2023-06-05T22:53:11.871608Z",
     "iopub.status.busy": "2023-06-05T22:53:11.871007Z",
     "iopub.status.idle": "2023-06-05T22:53:11.951519Z",
     "shell.execute_reply": "2023-06-05T22:53:11.949911Z"
    },
    "papermill": {
     "duration": 0.087843,
     "end_time": "2023-06-05T22:53:11.953566",
     "exception": false,
     "start_time": "2023-06-05T22:53:11.865723",
     "status": "completed"
    },
    "tags": []
   },
   "outputs": [
    {
     "data": {
      "text/html": [
       "<div>\n",
       "<style scoped>\n",
       "    .dataframe tbody tr th:only-of-type {\n",
       "        vertical-align: middle;\n",
       "    }\n",
       "\n",
       "    .dataframe tbody tr th {\n",
       "        vertical-align: top;\n",
       "    }\n",
       "\n",
       "    .dataframe thead th {\n",
       "        text-align: right;\n",
       "    }\n",
       "</style>\n",
       "<table border=\"1\" class=\"dataframe\">\n",
       "  <thead>\n",
       "    <tr style=\"text-align: right;\">\n",
       "      <th></th>\n",
       "      <th>Product ID</th>\n",
       "      <th>Type</th>\n",
       "      <th>Air temperature [K]</th>\n",
       "      <th>Process temperature [K]</th>\n",
       "      <th>Rotational speed [rpm]</th>\n",
       "      <th>Torque [Nm]</th>\n",
       "      <th>Tool wear [min]</th>\n",
       "      <th>Target</th>\n",
       "      <th>Failure Type</th>\n",
       "    </tr>\n",
       "    <tr>\n",
       "      <th>UDI</th>\n",
       "      <th></th>\n",
       "      <th></th>\n",
       "      <th></th>\n",
       "      <th></th>\n",
       "      <th></th>\n",
       "      <th></th>\n",
       "      <th></th>\n",
       "      <th></th>\n",
       "      <th></th>\n",
       "    </tr>\n",
       "  </thead>\n",
       "  <tbody>\n",
       "    <tr>\n",
       "      <th>1</th>\n",
       "      <td>78912314860</td>\n",
       "      <td>789123</td>\n",
       "      <td>298.1</td>\n",
       "      <td>308.6</td>\n",
       "      <td>1551</td>\n",
       "      <td>42.8</td>\n",
       "      <td>0</td>\n",
       "      <td>0</td>\n",
       "      <td>0</td>\n",
       "    </tr>\n",
       "    <tr>\n",
       "      <th>2</th>\n",
       "      <td>65432147181</td>\n",
       "      <td>654321</td>\n",
       "      <td>298.2</td>\n",
       "      <td>308.7</td>\n",
       "      <td>1408</td>\n",
       "      <td>46.3</td>\n",
       "      <td>3</td>\n",
       "      <td>0</td>\n",
       "      <td>0</td>\n",
       "    </tr>\n",
       "    <tr>\n",
       "      <th>3</th>\n",
       "      <td>65432147182</td>\n",
       "      <td>654321</td>\n",
       "      <td>298.1</td>\n",
       "      <td>308.5</td>\n",
       "      <td>1498</td>\n",
       "      <td>49.4</td>\n",
       "      <td>5</td>\n",
       "      <td>0</td>\n",
       "      <td>0</td>\n",
       "    </tr>\n",
       "    <tr>\n",
       "      <th>4</th>\n",
       "      <td>65432147183</td>\n",
       "      <td>654321</td>\n",
       "      <td>298.2</td>\n",
       "      <td>308.6</td>\n",
       "      <td>1433</td>\n",
       "      <td>39.5</td>\n",
       "      <td>7</td>\n",
       "      <td>0</td>\n",
       "      <td>0</td>\n",
       "    </tr>\n",
       "    <tr>\n",
       "      <th>5</th>\n",
       "      <td>65432147184</td>\n",
       "      <td>654321</td>\n",
       "      <td>298.2</td>\n",
       "      <td>308.7</td>\n",
       "      <td>1408</td>\n",
       "      <td>40.0</td>\n",
       "      <td>9</td>\n",
       "      <td>0</td>\n",
       "      <td>0</td>\n",
       "    </tr>\n",
       "  </tbody>\n",
       "</table>\n",
       "</div>"
      ],
      "text/plain": [
       "      Product ID    Type  Air temperature [K]  Process temperature [K]  \\\n",
       "UDI                                                                      \n",
       "1    78912314860  789123                298.1                    308.6   \n",
       "2    65432147181  654321                298.2                    308.7   \n",
       "3    65432147182  654321                298.1                    308.5   \n",
       "4    65432147183  654321                298.2                    308.6   \n",
       "5    65432147184  654321                298.2                    308.7   \n",
       "\n",
       "     Rotational speed [rpm]  Torque [Nm]  Tool wear [min]  Target  \\\n",
       "UDI                                                                 \n",
       "1                      1551         42.8                0       0   \n",
       "2                      1408         46.3                3       0   \n",
       "3                      1498         49.4                5       0   \n",
       "4                      1433         39.5                7       0   \n",
       "5                      1408         40.0                9       0   \n",
       "\n",
       "     Failure Type  \n",
       "UDI                \n",
       "1               0  \n",
       "2               0  \n",
       "3               0  \n",
       "4               0  \n",
       "5               0  "
      ]
     },
     "execution_count": 117,
     "metadata": {},
     "output_type": "execute_result"
    }
   ],
   "source": [
    "df = pd.read_csv('./predictive_maintenance.csv',index_col='UDI')\n",
    "df.head()"
   ]
  },
  {
   "cell_type": "markdown",
   "id": "dda0b009",
   "metadata": {
    "papermill": {
     "duration": 0.004004,
     "end_time": "2023-06-05T22:53:11.962090",
     "exception": false,
     "start_time": "2023-06-05T22:53:11.958086",
     "status": "completed"
    },
    "tags": []
   },
   "source": [
    "* Product ID is unique for every member of the dataframe, so they contain no usefull data and will be deleted\n",
    "* The next column (Type) shows the quality of the tool used, which is usefull in predicting the life of the tool\n",
    "\n",
    "Remaining columns until Target are all usefull data about the working conditions of the tool\n",
    "\n",
    "* Target column indicates wether the tool has failed (Target==1) or not (Target==0)\n",
    "* Failure Type column shows the same data as the target column, but in the cases where there was a failure it also mentiones the type of the failure the tool has experienced\n",
    "\n",
    "So based on the prediction we are going to make (wether we only want to predict the failure or we want to predict the type sa well), we have to use only one of the last two columns in order to stop any data leakage from happening.\n",
    "The intention of this nptebook is predicting failure, not failure type. Because of this, the failure type column will be deleted later."
   ]
  },
  {
   "cell_type": "code",
   "execution_count": 118,
   "id": "7f866508",
   "metadata": {
    "execution": {
     "iopub.execute_input": "2023-06-05T22:53:11.972103Z",
     "iopub.status.busy": "2023-06-05T22:53:11.971719Z",
     "iopub.status.idle": "2023-06-05T22:53:11.979857Z",
     "shell.execute_reply": "2023-06-05T22:53:11.978794Z"
    },
    "papermill": {
     "duration": 0.01536,
     "end_time": "2023-06-05T22:53:11.981682",
     "exception": false,
     "start_time": "2023-06-05T22:53:11.966322",
     "status": "completed"
    },
    "tags": []
   },
   "outputs": [],
   "source": [
    "df.drop(columns = ['Product ID'],inplace=True)"
   ]
  },
  {
   "cell_type": "code",
   "execution_count": 119,
   "id": "cffa79e5",
   "metadata": {
    "execution": {
     "iopub.execute_input": "2023-06-05T22:53:11.992362Z",
     "iopub.status.busy": "2023-06-05T22:53:11.991903Z",
     "iopub.status.idle": "2023-06-05T22:53:13.345553Z",
     "shell.execute_reply": "2023-06-05T22:53:13.344822Z"
    },
    "papermill": {
     "duration": 1.361208,
     "end_time": "2023-06-05T22:53:13.347458",
     "exception": false,
     "start_time": "2023-06-05T22:53:11.986250",
     "status": "completed"
    },
    "tags": []
   },
   "outputs": [
    {
     "data": {
      "text/plain": [
       "Type                       0\n",
       "Air temperature [K]        0\n",
       "Process temperature [K]    0\n",
       "Rotational speed [rpm]     0\n",
       "Torque [Nm]                0\n",
       "Tool wear [min]            0\n",
       "Target                     0\n",
       "Failure Type               0\n",
       "dtype: int64"
      ]
     },
     "execution_count": 119,
     "metadata": {},
     "output_type": "execute_result"
    }
   ],
   "source": [
    "from sklearn.preprocessing import LabelEncoder\n",
    "type_enc = LabelEncoder()\n",
    "df['Type'] = type_enc.fit_transform(df['Type'])\n",
    "#encoding 'Type' column to int values\n",
    "df.isna().sum()"
   ]
  },
  {
   "cell_type": "markdown",
   "id": "22c630c5",
   "metadata": {
    "papermill": {
     "duration": 0.004971,
     "end_time": "2023-06-05T22:53:13.358097",
     "exception": false,
     "start_time": "2023-06-05T22:53:13.353126",
     "status": "completed"
    },
    "tags": []
   },
   "source": [
    "We have to make sure there are no NA values inside the dataframe as well, since if there are any we have to resolve them."
   ]
  },
  {
   "cell_type": "code",
   "execution_count": 120,
   "id": "1180044e",
   "metadata": {
    "execution": {
     "iopub.execute_input": "2023-06-05T22:53:13.370139Z",
     "iopub.status.busy": "2023-06-05T22:53:13.369308Z",
     "iopub.status.idle": "2023-06-05T22:53:13.389458Z",
     "shell.execute_reply": "2023-06-05T22:53:13.387687Z"
    },
    "papermill": {
     "duration": 0.027935,
     "end_time": "2023-06-05T22:53:13.391781",
     "exception": false,
     "start_time": "2023-06-05T22:53:13.363846",
     "status": "completed"
    },
    "tags": []
   },
   "outputs": [
    {
     "data": {
      "text/html": [
       "<div>\n",
       "<style scoped>\n",
       "    .dataframe tbody tr th:only-of-type {\n",
       "        vertical-align: middle;\n",
       "    }\n",
       "\n",
       "    .dataframe tbody tr th {\n",
       "        vertical-align: top;\n",
       "    }\n",
       "\n",
       "    .dataframe thead th {\n",
       "        text-align: right;\n",
       "    }\n",
       "</style>\n",
       "<table border=\"1\" class=\"dataframe\">\n",
       "  <thead>\n",
       "    <tr style=\"text-align: right;\">\n",
       "      <th></th>\n",
       "      <th>Type</th>\n",
       "      <th>Air temperature [K]</th>\n",
       "      <th>Process temperature [K]</th>\n",
       "      <th>Rotational speed [rpm]</th>\n",
       "      <th>Torque [Nm]</th>\n",
       "      <th>Tool wear [min]</th>\n",
       "      <th>Target</th>\n",
       "      <th>Failure Type</th>\n",
       "    </tr>\n",
       "    <tr>\n",
       "      <th>UDI</th>\n",
       "      <th></th>\n",
       "      <th></th>\n",
       "      <th></th>\n",
       "      <th></th>\n",
       "      <th></th>\n",
       "      <th></th>\n",
       "      <th></th>\n",
       "      <th></th>\n",
       "    </tr>\n",
       "  </thead>\n",
       "  <tbody>\n",
       "  </tbody>\n",
       "</table>\n",
       "</div>"
      ],
      "text/plain": [
       "Empty DataFrame\n",
       "Columns: [Type, Air temperature [K], Process temperature [K], Rotational speed [rpm], Torque [Nm], Tool wear [min], Target, Failure Type]\n",
       "Index: []"
      ]
     },
     "execution_count": 120,
     "metadata": {},
     "output_type": "execute_result"
    }
   ],
   "source": [
    "df[(df['Target']==1)&(df['Failure Type']=='No Failure')]"
   ]
  },
  {
   "cell_type": "markdown",
   "id": "37f46734",
   "metadata": {
    "papermill": {
     "duration": 0.004768,
     "end_time": "2023-06-05T22:53:13.401632",
     "exception": false,
     "start_time": "2023-06-05T22:53:13.396864",
     "status": "completed"
    },
    "tags": []
   },
   "source": [
    "In some cases, the data available in the Target column indicates that the tool has failed, but the Failure Type column indicated that the tool has not had any failure. "
   ]
  },
  {
   "cell_type": "code",
   "execution_count": 121,
   "id": "6e36539a",
   "metadata": {
    "execution": {
     "iopub.execute_input": "2023-06-05T22:53:13.418006Z",
     "iopub.status.busy": "2023-06-05T22:53:13.417417Z",
     "iopub.status.idle": "2023-06-05T22:53:13.427489Z",
     "shell.execute_reply": "2023-06-05T22:53:13.426486Z"
    },
    "papermill": {
     "duration": 0.02315,
     "end_time": "2023-06-05T22:53:13.429645",
     "exception": false,
     "start_time": "2023-06-05T22:53:13.406495",
     "status": "completed"
    },
    "tags": []
   },
   "outputs": [],
   "source": [
    "df.drop(df[(df['Target']==1)&(df['Failure Type']=='No Failure')].index,inplace=True)"
   ]
  },
  {
   "cell_type": "code",
   "execution_count": 122,
   "id": "287a122a",
   "metadata": {
    "execution": {
     "iopub.execute_input": "2023-06-05T22:53:13.443877Z",
     "iopub.status.busy": "2023-06-05T22:53:13.443259Z",
     "iopub.status.idle": "2023-06-05T22:53:13.457040Z",
     "shell.execute_reply": "2023-06-05T22:53:13.455679Z"
    },
    "papermill": {
     "duration": 0.02318,
     "end_time": "2023-06-05T22:53:13.459069",
     "exception": false,
     "start_time": "2023-06-05T22:53:13.435889",
     "status": "completed"
    },
    "tags": []
   },
   "outputs": [
    {
     "data": {
      "text/plain": [
       "Target\n",
       "0    9661\n",
       "1     339\n",
       "dtype: int64"
      ]
     },
     "execution_count": 122,
     "metadata": {},
     "output_type": "execute_result"
    }
   ],
   "source": [
    "# The first part of the project is to predict whether the tool fails or not, so we drop the failure type\n",
    "#we will address it later\n",
    "df.drop(columns = ['Failure Type'],inplace=True)\n",
    "df.groupby('Target').size()"
   ]
  },
  {
   "cell_type": "markdown",
   "id": "7860b86b",
   "metadata": {
    "papermill": {
     "duration": 0.004287,
     "end_time": "2023-06-05T22:53:13.468335",
     "exception": false,
     "start_time": "2023-06-05T22:53:13.464048",
     "status": "completed"
    },
    "tags": []
   },
   "source": [
    "It can be seen that the dataset is severly imbalanced. So first we divide the dataframe into training and testing sections and then apply oversampling to the training section of the dataset in order to balance the information used for training the model. This is done after dividing the datasets in order to stop any data leakage from happening and also for the testing dataset of the model to be representative of the real world."
   ]
  },
  {
   "cell_type": "code",
   "execution_count": 123,
   "id": "02d7fbc7",
   "metadata": {
    "execution": {
     "iopub.execute_input": "2023-06-05T22:53:13.479077Z",
     "iopub.status.busy": "2023-06-05T22:53:13.478443Z",
     "iopub.status.idle": "2023-06-05T22:53:13.617138Z",
     "shell.execute_reply": "2023-06-05T22:53:13.615745Z"
    },
    "papermill": {
     "duration": 0.146673,
     "end_time": "2023-06-05T22:53:13.619420",
     "exception": false,
     "start_time": "2023-06-05T22:53:13.472747",
     "status": "completed"
    },
    "tags": []
   },
   "outputs": [],
   "source": [
    "from sklearn.model_selection import train_test_split\n",
    "#making test and train datasets from the base dataset\n",
    "train_data,test_data = train_test_split(df,stratify=df['Target'],test_size=0.2)\n",
    "#stratifying based on the target column so that the data imbalance of the original dataset is also present in the training and testing datasets"
   ]
  },
  {
   "cell_type": "code",
   "execution_count": 124,
   "id": "389e4006",
   "metadata": {
    "execution": {
     "iopub.execute_input": "2023-06-05T22:53:13.631831Z",
     "iopub.status.busy": "2023-06-05T22:53:13.631511Z",
     "iopub.status.idle": "2023-06-05T22:53:14.227555Z",
     "shell.execute_reply": "2023-06-05T22:53:14.226043Z"
    },
    "papermill": {
     "duration": 0.604824,
     "end_time": "2023-06-05T22:53:14.229902",
     "exception": false,
     "start_time": "2023-06-05T22:53:13.625078",
     "status": "completed"
    },
    "tags": []
   },
   "outputs": [],
   "source": [
    "from imblearn.over_sampling import SMOTE\n",
    "\n",
    "#Oversampling function written with SMOTE to improve group balance in the data\n",
    "def sm_oversamp(inp_x,inp_y):\n",
    "    ov_samp = SMOTE(k_neighbors=4,sampling_strategy='minority')\n",
    "    return ov_samp.fit_resample(inp_x,inp_y)\n",
    "\n",
    "x_train = train_data.drop(columns=['Target'])\n",
    "y_train = train_data['Target']\n",
    "\n",
    "#variables with _os are oversampled and will be used for training the model\n",
    "x_train_os,y_train_os = sm_oversamp(x_train,y_train)"
   ]
  },
  {
   "cell_type": "code",
   "execution_count": 125,
   "id": "ec52e625",
   "metadata": {
    "execution": {
     "iopub.execute_input": "2023-06-05T22:53:14.241178Z",
     "iopub.status.busy": "2023-06-05T22:53:14.240818Z",
     "iopub.status.idle": "2023-06-05T22:53:14.255862Z",
     "shell.execute_reply": "2023-06-05T22:53:14.255048Z"
    },
    "papermill": {
     "duration": 0.022908,
     "end_time": "2023-06-05T22:53:14.257784",
     "exception": false,
     "start_time": "2023-06-05T22:53:14.234876",
     "status": "completed"
    },
    "tags": []
   },
   "outputs": [
    {
     "name": "stdout",
     "output_type": "stream",
     "text": [
      "   Type  Air temperature [K]  Process temperature [K]  Rotational speed [rpm]  \\\n",
      "0     2                299.0                    310.2                    1628   \n",
      "1     1                298.7                    309.9                    1593   \n",
      "2     0                298.6                    309.4                    1439   \n",
      "3     1                297.5                    308.5                    1340   \n",
      "4     2                298.8                    308.5                    1510   \n",
      "\n",
      "   Torque [Nm]  Tool wear [min]  \n",
      "0         35.8               64  \n",
      "1         42.5              146  \n",
      "2         47.1              149  \n",
      "3         57.4              143  \n",
      "4         38.7               66  \n"
     ]
    }
   ],
   "source": [
    "#Scaling the feature columns to imptove model efficiency\n",
    "from sklearn.preprocessing import MinMaxScaler\n",
    "feature_scaler = MinMaxScaler()\n",
    "#feature scaler is first fit on the features of the training dataset\n",
    "feature_scaler.fit(x_train_os)\n",
    "print(x_train_os.head())"
   ]
  },
  {
   "cell_type": "code",
   "execution_count": 126,
   "id": "e0abdd9d",
   "metadata": {
    "execution": {
     "iopub.execute_input": "2023-06-05T22:53:14.270749Z",
     "iopub.status.busy": "2023-06-05T22:53:14.269691Z",
     "iopub.status.idle": "2023-06-05T22:53:14.288331Z",
     "shell.execute_reply": "2023-06-05T22:53:14.287391Z"
    },
    "papermill": {
     "duration": 0.026595,
     "end_time": "2023-06-05T22:53:14.290063",
     "exception": false,
     "start_time": "2023-06-05T22:53:14.263468",
     "status": "completed"
    },
    "tags": []
   },
   "outputs": [
    {
     "name": "stdout",
     "output_type": "stream",
     "text": [
      "       Type  Air temperature [K]  Process temperature [K]  \\\n",
      "0         2           299.000000               310.200000   \n",
      "1         1           298.700000               309.900000   \n",
      "2         0           298.600000               309.400000   \n",
      "3         1           297.500000               308.500000   \n",
      "4         2           298.800000               308.500000   \n",
      "...     ...                  ...                      ...   \n",
      "15453     1           302.837939               311.237939   \n",
      "15454     1           302.162455               311.037545   \n",
      "15455     1           300.415707               311.705758   \n",
      "15456     2           302.688236               311.411764   \n",
      "15457     1           300.486991               311.747806   \n",
      "\n",
      "       Rotational speed [rpm]  Torque [Nm]  Tool wear [min]  \n",
      "0                        1628    35.800000               64  \n",
      "1                        1593    42.500000              146  \n",
      "2                        1439    47.100000              149  \n",
      "3                        1340    57.400000              143  \n",
      "4                        1510    38.700000               66  \n",
      "...                       ...          ...              ...  \n",
      "15453                    1334    54.331666               95  \n",
      "15454                    1268    65.880195              185  \n",
      "15455                    1271    60.503675              199  \n",
      "15456                    1367    54.166387              117  \n",
      "15457                    1553    33.442163              209  \n",
      "\n",
      "[15458 rows x 6 columns]\n"
     ]
    },
    {
     "data": {
      "text/html": [
       "<div>\n",
       "<style scoped>\n",
       "    .dataframe tbody tr th:only-of-type {\n",
       "        vertical-align: middle;\n",
       "    }\n",
       "\n",
       "    .dataframe tbody tr th {\n",
       "        vertical-align: top;\n",
       "    }\n",
       "\n",
       "    .dataframe thead th {\n",
       "        text-align: right;\n",
       "    }\n",
       "</style>\n",
       "<table border=\"1\" class=\"dataframe\">\n",
       "  <thead>\n",
       "    <tr style=\"text-align: right;\">\n",
       "      <th></th>\n",
       "      <th>0</th>\n",
       "      <th>1</th>\n",
       "      <th>2</th>\n",
       "      <th>3</th>\n",
       "      <th>4</th>\n",
       "      <th>5</th>\n",
       "    </tr>\n",
       "  </thead>\n",
       "  <tbody>\n",
       "    <tr>\n",
       "      <th>0</th>\n",
       "      <td>1.0</td>\n",
       "      <td>0.402174</td>\n",
       "      <td>0.550000</td>\n",
       "      <td>0.267753</td>\n",
       "      <td>0.439560</td>\n",
       "      <td>0.252964</td>\n",
       "    </tr>\n",
       "    <tr>\n",
       "      <th>1</th>\n",
       "      <td>0.5</td>\n",
       "      <td>0.369565</td>\n",
       "      <td>0.512500</td>\n",
       "      <td>0.247381</td>\n",
       "      <td>0.531593</td>\n",
       "      <td>0.577075</td>\n",
       "    </tr>\n",
       "    <tr>\n",
       "      <th>2</th>\n",
       "      <td>0.0</td>\n",
       "      <td>0.358696</td>\n",
       "      <td>0.450000</td>\n",
       "      <td>0.157742</td>\n",
       "      <td>0.594780</td>\n",
       "      <td>0.588933</td>\n",
       "    </tr>\n",
       "    <tr>\n",
       "      <th>3</th>\n",
       "      <td>0.5</td>\n",
       "      <td>0.239130</td>\n",
       "      <td>0.337500</td>\n",
       "      <td>0.100116</td>\n",
       "      <td>0.736264</td>\n",
       "      <td>0.565217</td>\n",
       "    </tr>\n",
       "    <tr>\n",
       "      <th>4</th>\n",
       "      <td>1.0</td>\n",
       "      <td>0.380435</td>\n",
       "      <td>0.337500</td>\n",
       "      <td>0.199069</td>\n",
       "      <td>0.479396</td>\n",
       "      <td>0.260870</td>\n",
       "    </tr>\n",
       "    <tr>\n",
       "      <th>...</th>\n",
       "      <td>...</td>\n",
       "      <td>...</td>\n",
       "      <td>...</td>\n",
       "      <td>...</td>\n",
       "      <td>...</td>\n",
       "      <td>...</td>\n",
       "    </tr>\n",
       "    <tr>\n",
       "      <th>15453</th>\n",
       "      <td>0.5</td>\n",
       "      <td>0.819341</td>\n",
       "      <td>0.679742</td>\n",
       "      <td>0.096624</td>\n",
       "      <td>0.694116</td>\n",
       "      <td>0.375494</td>\n",
       "    </tr>\n",
       "    <tr>\n",
       "      <th>15454</th>\n",
       "      <td>0.5</td>\n",
       "      <td>0.745919</td>\n",
       "      <td>0.654693</td>\n",
       "      <td>0.058207</td>\n",
       "      <td>0.852750</td>\n",
       "      <td>0.731225</td>\n",
       "    </tr>\n",
       "    <tr>\n",
       "      <th>15455</th>\n",
       "      <td>0.5</td>\n",
       "      <td>0.556055</td>\n",
       "      <td>0.738220</td>\n",
       "      <td>0.059953</td>\n",
       "      <td>0.778897</td>\n",
       "      <td>0.786561</td>\n",
       "    </tr>\n",
       "    <tr>\n",
       "      <th>15456</th>\n",
       "      <td>1.0</td>\n",
       "      <td>0.803069</td>\n",
       "      <td>0.701470</td>\n",
       "      <td>0.115832</td>\n",
       "      <td>0.691846</td>\n",
       "      <td>0.462451</td>\n",
       "    </tr>\n",
       "    <tr>\n",
       "      <th>15457</th>\n",
       "      <td>0.5</td>\n",
       "      <td>0.563803</td>\n",
       "      <td>0.743476</td>\n",
       "      <td>0.224098</td>\n",
       "      <td>0.407173</td>\n",
       "      <td>0.826087</td>\n",
       "    </tr>\n",
       "  </tbody>\n",
       "</table>\n",
       "<p>15458 rows × 6 columns</p>\n",
       "</div>"
      ],
      "text/plain": [
       "         0         1         2         3         4         5\n",
       "0      1.0  0.402174  0.550000  0.267753  0.439560  0.252964\n",
       "1      0.5  0.369565  0.512500  0.247381  0.531593  0.577075\n",
       "2      0.0  0.358696  0.450000  0.157742  0.594780  0.588933\n",
       "3      0.5  0.239130  0.337500  0.100116  0.736264  0.565217\n",
       "4      1.0  0.380435  0.337500  0.199069  0.479396  0.260870\n",
       "...    ...       ...       ...       ...       ...       ...\n",
       "15453  0.5  0.819341  0.679742  0.096624  0.694116  0.375494\n",
       "15454  0.5  0.745919  0.654693  0.058207  0.852750  0.731225\n",
       "15455  0.5  0.556055  0.738220  0.059953  0.778897  0.786561\n",
       "15456  1.0  0.803069  0.701470  0.115832  0.691846  0.462451\n",
       "15457  0.5  0.563803  0.743476  0.224098  0.407173  0.826087\n",
       "\n",
       "[15458 rows x 6 columns]"
      ]
     },
     "execution_count": 126,
     "metadata": {},
     "output_type": "execute_result"
    }
   ],
   "source": [
    "#feature scaler is then applied to the features of both the training and testing datasets\n",
    "train_features_scaled = pd.DataFrame(feature_scaler.transform(x_train_os))\n",
    "test_features_scaled = pd.DataFrame(feature_scaler.transform(test_data.drop(columns=['Target'])))\n",
    "print(x_train_os)\n",
    "train_features_scaled"
   ]
  },
  {
   "cell_type": "code",
   "execution_count": 127,
   "id": "2f02de11",
   "metadata": {
    "execution": {
     "iopub.execute_input": "2023-06-05T22:53:14.302391Z",
     "iopub.status.busy": "2023-06-05T22:53:14.302040Z",
     "iopub.status.idle": "2023-06-05T22:54:07.008697Z",
     "shell.execute_reply": "2023-06-05T22:54:07.007866Z"
    },
    "papermill": {
     "duration": 52.720465,
     "end_time": "2023-06-05T22:54:07.015856",
     "exception": false,
     "start_time": "2023-06-05T22:53:14.295391",
     "status": "completed"
    },
    "tags": []
   },
   "outputs": [
    {
     "data": {
      "text/html": [
       "<style>#sk-container-id-13 {color: black;}#sk-container-id-13 pre{padding: 0;}#sk-container-id-13 div.sk-toggleable {background-color: white;}#sk-container-id-13 label.sk-toggleable__label {cursor: pointer;display: block;width: 100%;margin-bottom: 0;padding: 0.3em;box-sizing: border-box;text-align: center;}#sk-container-id-13 label.sk-toggleable__label-arrow:before {content: \"▸\";float: left;margin-right: 0.25em;color: #696969;}#sk-container-id-13 label.sk-toggleable__label-arrow:hover:before {color: black;}#sk-container-id-13 div.sk-estimator:hover label.sk-toggleable__label-arrow:before {color: black;}#sk-container-id-13 div.sk-toggleable__content {max-height: 0;max-width: 0;overflow: hidden;text-align: left;background-color: #f0f8ff;}#sk-container-id-13 div.sk-toggleable__content pre {margin: 0.2em;color: black;border-radius: 0.25em;background-color: #f0f8ff;}#sk-container-id-13 input.sk-toggleable__control:checked~div.sk-toggleable__content {max-height: 200px;max-width: 100%;overflow: auto;}#sk-container-id-13 input.sk-toggleable__control:checked~label.sk-toggleable__label-arrow:before {content: \"▾\";}#sk-container-id-13 div.sk-estimator input.sk-toggleable__control:checked~label.sk-toggleable__label {background-color: #d4ebff;}#sk-container-id-13 div.sk-label input.sk-toggleable__control:checked~label.sk-toggleable__label {background-color: #d4ebff;}#sk-container-id-13 input.sk-hidden--visually {border: 0;clip: rect(1px 1px 1px 1px);clip: rect(1px, 1px, 1px, 1px);height: 1px;margin: -1px;overflow: hidden;padding: 0;position: absolute;width: 1px;}#sk-container-id-13 div.sk-estimator {font-family: monospace;background-color: #f0f8ff;border: 1px dotted black;border-radius: 0.25em;box-sizing: border-box;margin-bottom: 0.5em;}#sk-container-id-13 div.sk-estimator:hover {background-color: #d4ebff;}#sk-container-id-13 div.sk-parallel-item::after {content: \"\";width: 100%;border-bottom: 1px solid gray;flex-grow: 1;}#sk-container-id-13 div.sk-label:hover label.sk-toggleable__label {background-color: #d4ebff;}#sk-container-id-13 div.sk-serial::before {content: \"\";position: absolute;border-left: 1px solid gray;box-sizing: border-box;top: 0;bottom: 0;left: 50%;z-index: 0;}#sk-container-id-13 div.sk-serial {display: flex;flex-direction: column;align-items: center;background-color: white;padding-right: 0.2em;padding-left: 0.2em;position: relative;}#sk-container-id-13 div.sk-item {position: relative;z-index: 1;}#sk-container-id-13 div.sk-parallel {display: flex;align-items: stretch;justify-content: center;background-color: white;position: relative;}#sk-container-id-13 div.sk-item::before, #sk-container-id-13 div.sk-parallel-item::before {content: \"\";position: absolute;border-left: 1px solid gray;box-sizing: border-box;top: 0;bottom: 0;left: 50%;z-index: -1;}#sk-container-id-13 div.sk-parallel-item {display: flex;flex-direction: column;z-index: 1;position: relative;background-color: white;}#sk-container-id-13 div.sk-parallel-item:first-child::after {align-self: flex-end;width: 50%;}#sk-container-id-13 div.sk-parallel-item:last-child::after {align-self: flex-start;width: 50%;}#sk-container-id-13 div.sk-parallel-item:only-child::after {width: 0;}#sk-container-id-13 div.sk-dashed-wrapped {border: 1px dashed gray;margin: 0 0.4em 0.5em 0.4em;box-sizing: border-box;padding-bottom: 0.4em;background-color: white;}#sk-container-id-13 div.sk-label label {font-family: monospace;font-weight: bold;display: inline-block;line-height: 1.2em;}#sk-container-id-13 div.sk-label-container {text-align: center;}#sk-container-id-13 div.sk-container {/* jupyter's `normalize.less` sets `[hidden] { display: none; }` but bootstrap.min.css set `[hidden] { display: none !important; }` so we also need the `!important` here to be able to override the default hidden behavior on the sphinx rendered scikit-learn.org. See: https://github.com/scikit-learn/scikit-learn/issues/21755 */display: inline-block !important;position: relative;}#sk-container-id-13 div.sk-text-repr-fallback {display: none;}</style><div id=\"sk-container-id-13\" class=\"sk-top-container\"><div class=\"sk-text-repr-fallback\"><pre>RandomizedSearchCV(cv=5,\n",
       "                   estimator=XGBClassifier(base_score=None, booster=None,\n",
       "                                           callbacks=None,\n",
       "                                           colsample_bylevel=None,\n",
       "                                           colsample_bynode=None,\n",
       "                                           colsample_bytree=None, device=None,\n",
       "                                           early_stopping_rounds=None,\n",
       "                                           enable_categorical=False,\n",
       "                                           eval_metric=None, feature_types=None,\n",
       "                                           gamma=None, grow_policy=None,\n",
       "                                           importance_type=None,\n",
       "                                           interaction_constraints=None,\n",
       "                                           learning_rate...\n",
       "                                           max_leaves=None,\n",
       "                                           min_child_weight=None, missing=nan,\n",
       "                                           monotone_constraints=None,\n",
       "                                           multi_strategy=None,\n",
       "                                           n_estimators=None, n_jobs=None,\n",
       "                                           num_parallel_tree=None,\n",
       "                                           random_state=None, ...),\n",
       "                   param_distributions={&#x27;colsample_bytree&#x27;: [0.8, 0.9, 1.0],\n",
       "                                        &#x27;learning_rate&#x27;: [0.1, 0.01, 0.001],\n",
       "                                        &#x27;max_depth&#x27;: [2, 5, 8, 10, 12],\n",
       "                                        &#x27;n_estimators&#x27;: [50, 75, 100, 150, 200],\n",
       "                                        &#x27;subsample&#x27;: [0.8, 0.9, 1.0]},\n",
       "                   scoring=&#x27;recall&#x27;)</pre><b>In a Jupyter environment, please rerun this cell to show the HTML representation or trust the notebook. <br />On GitHub, the HTML representation is unable to render, please try loading this page with nbviewer.org.</b></div><div class=\"sk-container\" hidden><div class=\"sk-item sk-dashed-wrapped\"><div class=\"sk-label-container\"><div class=\"sk-label sk-toggleable\"><input class=\"sk-toggleable__control sk-hidden--visually\" id=\"sk-estimator-id-27\" type=\"checkbox\" ><label for=\"sk-estimator-id-27\" class=\"sk-toggleable__label sk-toggleable__label-arrow\">RandomizedSearchCV</label><div class=\"sk-toggleable__content\"><pre>RandomizedSearchCV(cv=5,\n",
       "                   estimator=XGBClassifier(base_score=None, booster=None,\n",
       "                                           callbacks=None,\n",
       "                                           colsample_bylevel=None,\n",
       "                                           colsample_bynode=None,\n",
       "                                           colsample_bytree=None, device=None,\n",
       "                                           early_stopping_rounds=None,\n",
       "                                           enable_categorical=False,\n",
       "                                           eval_metric=None, feature_types=None,\n",
       "                                           gamma=None, grow_policy=None,\n",
       "                                           importance_type=None,\n",
       "                                           interaction_constraints=None,\n",
       "                                           learning_rate...\n",
       "                                           max_leaves=None,\n",
       "                                           min_child_weight=None, missing=nan,\n",
       "                                           monotone_constraints=None,\n",
       "                                           multi_strategy=None,\n",
       "                                           n_estimators=None, n_jobs=None,\n",
       "                                           num_parallel_tree=None,\n",
       "                                           random_state=None, ...),\n",
       "                   param_distributions={&#x27;colsample_bytree&#x27;: [0.8, 0.9, 1.0],\n",
       "                                        &#x27;learning_rate&#x27;: [0.1, 0.01, 0.001],\n",
       "                                        &#x27;max_depth&#x27;: [2, 5, 8, 10, 12],\n",
       "                                        &#x27;n_estimators&#x27;: [50, 75, 100, 150, 200],\n",
       "                                        &#x27;subsample&#x27;: [0.8, 0.9, 1.0]},\n",
       "                   scoring=&#x27;recall&#x27;)</pre></div></div></div><div class=\"sk-parallel\"><div class=\"sk-parallel-item\"><div class=\"sk-item\"><div class=\"sk-label-container\"><div class=\"sk-label sk-toggleable\"><input class=\"sk-toggleable__control sk-hidden--visually\" id=\"sk-estimator-id-28\" type=\"checkbox\" ><label for=\"sk-estimator-id-28\" class=\"sk-toggleable__label sk-toggleable__label-arrow\">estimator: XGBClassifier</label><div class=\"sk-toggleable__content\"><pre>XGBClassifier(base_score=None, booster=None, callbacks=None,\n",
       "              colsample_bylevel=None, colsample_bynode=None,\n",
       "              colsample_bytree=None, device=None, early_stopping_rounds=None,\n",
       "              enable_categorical=False, eval_metric=None, feature_types=None,\n",
       "              gamma=None, grow_policy=None, importance_type=None,\n",
       "              interaction_constraints=None, learning_rate=None, max_bin=None,\n",
       "              max_cat_threshold=None, max_cat_to_onehot=None,\n",
       "              max_delta_step=None, max_depth=None, max_leaves=None,\n",
       "              min_child_weight=None, missing=nan, monotone_constraints=None,\n",
       "              multi_strategy=None, n_estimators=None, n_jobs=None,\n",
       "              num_parallel_tree=None, random_state=None, ...)</pre></div></div></div><div class=\"sk-serial\"><div class=\"sk-item\"><div class=\"sk-estimator sk-toggleable\"><input class=\"sk-toggleable__control sk-hidden--visually\" id=\"sk-estimator-id-29\" type=\"checkbox\" ><label for=\"sk-estimator-id-29\" class=\"sk-toggleable__label sk-toggleable__label-arrow\">XGBClassifier</label><div class=\"sk-toggleable__content\"><pre>XGBClassifier(base_score=None, booster=None, callbacks=None,\n",
       "              colsample_bylevel=None, colsample_bynode=None,\n",
       "              colsample_bytree=None, device=None, early_stopping_rounds=None,\n",
       "              enable_categorical=False, eval_metric=None, feature_types=None,\n",
       "              gamma=None, grow_policy=None, importance_type=None,\n",
       "              interaction_constraints=None, learning_rate=None, max_bin=None,\n",
       "              max_cat_threshold=None, max_cat_to_onehot=None,\n",
       "              max_delta_step=None, max_depth=None, max_leaves=None,\n",
       "              min_child_weight=None, missing=nan, monotone_constraints=None,\n",
       "              multi_strategy=None, n_estimators=None, n_jobs=None,\n",
       "              num_parallel_tree=None, random_state=None, ...)</pre></div></div></div></div></div></div></div></div></div></div>"
      ],
      "text/plain": [
       "RandomizedSearchCV(cv=5,\n",
       "                   estimator=XGBClassifier(base_score=None, booster=None,\n",
       "                                           callbacks=None,\n",
       "                                           colsample_bylevel=None,\n",
       "                                           colsample_bynode=None,\n",
       "                                           colsample_bytree=None, device=None,\n",
       "                                           early_stopping_rounds=None,\n",
       "                                           enable_categorical=False,\n",
       "                                           eval_metric=None, feature_types=None,\n",
       "                                           gamma=None, grow_policy=None,\n",
       "                                           importance_type=None,\n",
       "                                           interaction_constraints=None,\n",
       "                                           learning_rate...\n",
       "                                           max_leaves=None,\n",
       "                                           min_child_weight=None, missing=nan,\n",
       "                                           monotone_constraints=None,\n",
       "                                           multi_strategy=None,\n",
       "                                           n_estimators=None, n_jobs=None,\n",
       "                                           num_parallel_tree=None,\n",
       "                                           random_state=None, ...),\n",
       "                   param_distributions={'colsample_bytree': [0.8, 0.9, 1.0],\n",
       "                                        'learning_rate': [0.1, 0.01, 0.001],\n",
       "                                        'max_depth': [2, 5, 8, 10, 12],\n",
       "                                        'n_estimators': [50, 75, 100, 150, 200],\n",
       "                                        'subsample': [0.8, 0.9, 1.0]},\n",
       "                   scoring='recall')"
      ]
     },
     "execution_count": 127,
     "metadata": {},
     "output_type": "execute_result"
    }
   ],
   "source": [
    "from sklearn.model_selection import RandomizedSearchCV\n",
    "from xgboost import XGBClassifier\n",
    "#XGBClassifier which is based on ensemble learning is chosen for this application\n",
    "xgb_model = XGBClassifier()\n",
    "\n",
    "params = {\n",
    "    'n_estimators': [50, 75, 100, 150, 200],\n",
    "    'max_depth': [2, 5, 8, 10, 12],\n",
    "    'learning_rate': [0.1, 0.01, 0.001],\n",
    "    'subsample': [0.8, 0.9, 1.0],\n",
    "    'colsample_bytree': [0.8, 0.9, 1.0],\n",
    "}\n",
    "\n",
    "#for hyperparameter tuning, RandomizedSearchCV is chosen. For filure prediction, recal is the most important scoring method\n",
    "#Because of this it is chosen as the value to be optimized\n",
    "random_search = RandomizedSearchCV(\n",
    "    estimator=xgb_model,\n",
    "    param_distributions=params,\n",
    "    n_iter=10,\n",
    "    scoring='recall',\n",
    "    cv=5\n",
    ")\n",
    "\n",
    "random_search.fit(train_features_scaled,y_train_os)"
   ]
  },
  {
   "cell_type": "code",
   "execution_count": 128,
   "id": "5a20c1e3",
   "metadata": {
    "execution": {
     "iopub.execute_input": "2023-06-05T22:54:07.028556Z",
     "iopub.status.busy": "2023-06-05T22:54:07.027713Z",
     "iopub.status.idle": "2023-06-05T22:54:07.034153Z",
     "shell.execute_reply": "2023-06-05T22:54:07.033450Z"
    },
    "papermill": {
     "duration": 0.01469,
     "end_time": "2023-06-05T22:54:07.035877",
     "exception": false,
     "start_time": "2023-06-05T22:54:07.021187",
     "status": "completed"
    },
    "tags": []
   },
   "outputs": [
    {
     "data": {
      "text/plain": [
       "{'subsample': 0.9,\n",
       " 'n_estimators': 100,\n",
       " 'max_depth': 8,\n",
       " 'learning_rate': 0.1,\n",
       " 'colsample_bytree': 0.8}"
      ]
     },
     "execution_count": 128,
     "metadata": {},
     "output_type": "execute_result"
    }
   ],
   "source": [
    "best_model = random_search.best_estimator_\n",
    "random_search.best_params_"
   ]
  },
  {
   "cell_type": "code",
   "execution_count": 129,
   "id": "a24a1440",
   "metadata": {
    "execution": {
     "iopub.execute_input": "2023-06-05T22:54:07.048723Z",
     "iopub.status.busy": "2023-06-05T22:54:07.048127Z",
     "iopub.status.idle": "2023-06-05T22:54:07.067503Z",
     "shell.execute_reply": "2023-06-05T22:54:07.066473Z"
    },
    "papermill": {
     "duration": 0.028472,
     "end_time": "2023-06-05T22:54:07.070061",
     "exception": false,
     "start_time": "2023-06-05T22:54:07.041589",
     "status": "completed"
    },
    "tags": []
   },
   "outputs": [
    {
     "name": "stdout",
     "output_type": "stream",
     "text": [
      "              precision    recall  f1-score   support\n",
      "\n",
      "           0       0.99      0.97      0.98      1932\n",
      "           1       0.46      0.76      0.57        68\n",
      "\n",
      "    accuracy                           0.96      2000\n",
      "   macro avg       0.73      0.87      0.78      2000\n",
      "weighted avg       0.97      0.96      0.97      2000\n",
      "\n"
     ]
    }
   ],
   "source": [
    "y_pred = best_model.predict(test_features_scaled)\n",
    "\n",
    "from sklearn.metrics import classification_report\n",
    "print(classification_report(test_data['Target'],y_pred))"
   ]
  },
  {
   "cell_type": "code",
   "execution_count": 132,
   "id": "c52a22ba",
   "metadata": {
    "papermill": {
     "duration": 0.005232,
     "end_time": "2023-06-05T22:54:07.081255",
     "exception": false,
     "start_time": "2023-06-05T22:54:07.076023",
     "status": "completed"
    },
    "tags": []
   },
   "outputs": [
    {
     "name": "stdout",
     "output_type": "stream",
     "text": [
      "[[3.27160500e+05 2.82608696e-01 5.00000000e-01 9.77881257e-02\n",
      "  1.20604396e+00 1.22529644e-01]]\n",
      "[1]\n"
     ]
    },
    {
     "name": "stderr",
     "output_type": "stream",
     "text": [
      "/home/satwik/.local/lib/python3.10/site-packages/sklearn/base.py:465: UserWarning: X does not have valid feature names, but MinMaxScaler was fitted with feature names\n",
      "  warnings.warn(\n",
      "/home/satwik/.local/lib/python3.10/site-packages/sklearn/base.py:465: UserWarning: X does not have valid feature names, but MinMaxScaler was fitted with feature names\n",
      "  warnings.warn(\n"
     ]
    }
   ],
   "source": [
    "data = [654321,297.9,309.8,1336,91.6,31]\n",
    "print(feature_scaler.transform([data]))\n",
    "features = feature_scaler.transform([data])\n",
    "response = best_model.predict(features)\n",
    "print(response)\n"
   ]
  },
  {
   "cell_type": "code",
   "execution_count": 131,
   "metadata": {},
   "outputs": [],
   "source": [
    "import pickle\n",
    "with (open('model.pkl','wb')) as file:\n",
    "    pickle.dump(best_model,file)"
   ]
  }
 ],
 "metadata": {
  "kernelspec": {
   "display_name": "Python 3",
   "language": "python",
   "name": "python3"
  },
  "language_info": {
   "codemirror_mode": {
    "name": "ipython",
    "version": 3
   },
   "file_extension": ".py",
   "mimetype": "text/x-python",
   "name": "python",
   "nbconvert_exporter": "python",
   "pygments_lexer": "ipython3",
   "version": "3.10.12"
  },
  "papermill": {
   "default_parameters": {},
   "duration": 65.550722,
   "end_time": "2023-06-05T22:54:08.010351",
   "environment_variables": {},
   "exception": null,
   "input_path": "__notebook__.ipynb",
   "output_path": "__notebook__.ipynb",
   "parameters": {},
   "start_time": "2023-06-05T22:53:02.459629",
   "version": "2.4.0"
  }
 },
 "nbformat": 4,
 "nbformat_minor": 5
}
