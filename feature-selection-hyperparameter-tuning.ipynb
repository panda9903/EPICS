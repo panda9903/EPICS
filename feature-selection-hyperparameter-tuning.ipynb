{
 "cells": [
  {
   "cell_type": "code",
   "execution_count": 4,
   "id": "afaf1a32",
   "metadata": {
    "execution": {
     "iopub.execute_input": "2022-01-03T12:58:14.133597Z",
     "iopub.status.busy": "2022-01-03T12:58:14.132448Z",
     "iopub.status.idle": "2022-01-03T12:58:15.154991Z",
     "shell.execute_reply": "2022-01-03T12:58:15.154233Z",
     "shell.execute_reply.started": "2022-01-03T12:51:54.958781Z"
    },
    "papermill": {
     "duration": 1.077168,
     "end_time": "2022-01-03T12:58:15.155154",
     "exception": false,
     "start_time": "2022-01-03T12:58:14.077986",
     "status": "completed"
    },
    "tags": []
   },
   "outputs": [],
   "source": [
    "import numpy as np\n",
    "import pandas as pd\n",
    "import matplotlib.pyplot as plt\n",
    "import seaborn as sns\n",
    "from scipy import stats"
   ]
  },
  {
   "cell_type": "code",
   "execution_count": 5,
   "id": "b5862d0c",
   "metadata": {
    "execution": {
     "iopub.execute_input": "2022-01-03T12:58:15.251698Z",
     "iopub.status.busy": "2022-01-03T12:58:15.251119Z",
     "iopub.status.idle": "2022-01-03T12:58:15.254117Z",
     "shell.execute_reply": "2022-01-03T12:58:15.254540Z",
     "shell.execute_reply.started": "2022-01-03T12:51:56.122664Z"
    },
    "papermill": {
     "duration": 0.05194,
     "end_time": "2022-01-03T12:58:15.254705",
     "exception": false,
     "start_time": "2022-01-03T12:58:15.202765",
     "status": "completed"
    },
    "tags": []
   },
   "outputs": [],
   "source": [
    "RS = 42"
   ]
  },
  {
   "cell_type": "code",
   "execution_count": 6,
   "id": "15a9a672",
   "metadata": {
    "execution": {
     "iopub.execute_input": "2022-01-03T12:58:15.351769Z",
     "iopub.status.busy": "2022-01-03T12:58:15.350797Z",
     "iopub.status.idle": "2022-01-03T12:58:15.399759Z",
     "shell.execute_reply": "2022-01-03T12:58:15.400345Z",
     "shell.execute_reply.started": "2022-01-03T12:51:56.129164Z"
    },
    "papermill": {
     "duration": 0.099461,
     "end_time": "2022-01-03T12:58:15.400515",
     "exception": false,
     "start_time": "2022-01-03T12:58:15.301054",
     "status": "completed"
    },
    "tags": []
   },
   "outputs": [],
   "source": [
    "# /kaggle/input/machine-predictive-maintenance-classification/predictive_maintenance.csv\n",
    "df_original=pd.read_csv('./predictive_maintenance.csv')"
   ]
  },
  {
   "cell_type": "code",
   "execution_count": 7,
   "id": "a3943e8c",
   "metadata": {
    "execution": {
     "iopub.execute_input": "2022-01-03T12:58:15.497245Z",
     "iopub.status.busy": "2022-01-03T12:58:15.496361Z",
     "iopub.status.idle": "2022-01-03T12:58:15.516484Z",
     "shell.execute_reply": "2022-01-03T12:58:15.516939Z",
     "shell.execute_reply.started": "2022-01-03T12:51:56.199912Z"
    },
    "papermill": {
     "duration": 0.070139,
     "end_time": "2022-01-03T12:58:15.517099",
     "exception": false,
     "start_time": "2022-01-03T12:58:15.446960",
     "status": "completed"
    },
    "tags": []
   },
   "outputs": [
    {
     "data": {
      "text/html": [
       "<div>\n",
       "<style scoped>\n",
       "    .dataframe tbody tr th:only-of-type {\n",
       "        vertical-align: middle;\n",
       "    }\n",
       "\n",
       "    .dataframe tbody tr th {\n",
       "        vertical-align: top;\n",
       "    }\n",
       "\n",
       "    .dataframe thead th {\n",
       "        text-align: right;\n",
       "    }\n",
       "</style>\n",
       "<table border=\"1\" class=\"dataframe\">\n",
       "  <thead>\n",
       "    <tr style=\"text-align: right;\">\n",
       "      <th></th>\n",
       "      <th>UDI</th>\n",
       "      <th>Product ID</th>\n",
       "      <th>Type</th>\n",
       "      <th>Air temperature [K]</th>\n",
       "      <th>Process temperature [K]</th>\n",
       "      <th>Rotational speed [rpm]</th>\n",
       "      <th>Torque [Nm]</th>\n",
       "      <th>Tool wear [min]</th>\n",
       "      <th>Target</th>\n",
       "      <th>Failure Type</th>\n",
       "    </tr>\n",
       "  </thead>\n",
       "  <tbody>\n",
       "    <tr>\n",
       "      <th>0</th>\n",
       "      <td>1</td>\n",
       "      <td>M14860</td>\n",
       "      <td>M</td>\n",
       "      <td>298.1</td>\n",
       "      <td>308.6</td>\n",
       "      <td>1551</td>\n",
       "      <td>42.8</td>\n",
       "      <td>0</td>\n",
       "      <td>0</td>\n",
       "      <td>No Failure</td>\n",
       "    </tr>\n",
       "    <tr>\n",
       "      <th>1</th>\n",
       "      <td>2</td>\n",
       "      <td>L47181</td>\n",
       "      <td>L</td>\n",
       "      <td>298.2</td>\n",
       "      <td>308.7</td>\n",
       "      <td>1408</td>\n",
       "      <td>46.3</td>\n",
       "      <td>3</td>\n",
       "      <td>0</td>\n",
       "      <td>No Failure</td>\n",
       "    </tr>\n",
       "    <tr>\n",
       "      <th>2</th>\n",
       "      <td>3</td>\n",
       "      <td>L47182</td>\n",
       "      <td>L</td>\n",
       "      <td>298.1</td>\n",
       "      <td>308.5</td>\n",
       "      <td>1498</td>\n",
       "      <td>49.4</td>\n",
       "      <td>5</td>\n",
       "      <td>0</td>\n",
       "      <td>No Failure</td>\n",
       "    </tr>\n",
       "    <tr>\n",
       "      <th>3</th>\n",
       "      <td>4</td>\n",
       "      <td>L47183</td>\n",
       "      <td>L</td>\n",
       "      <td>298.2</td>\n",
       "      <td>308.6</td>\n",
       "      <td>1433</td>\n",
       "      <td>39.5</td>\n",
       "      <td>7</td>\n",
       "      <td>0</td>\n",
       "      <td>No Failure</td>\n",
       "    </tr>\n",
       "    <tr>\n",
       "      <th>4</th>\n",
       "      <td>5</td>\n",
       "      <td>L47184</td>\n",
       "      <td>L</td>\n",
       "      <td>298.2</td>\n",
       "      <td>308.7</td>\n",
       "      <td>1408</td>\n",
       "      <td>40.0</td>\n",
       "      <td>9</td>\n",
       "      <td>0</td>\n",
       "      <td>No Failure</td>\n",
       "    </tr>\n",
       "  </tbody>\n",
       "</table>\n",
       "</div>"
      ],
      "text/plain": [
       "   UDI Product ID Type  Air temperature [K]  Process temperature [K]  \\\n",
       "0    1     M14860    M                298.1                    308.6   \n",
       "1    2     L47181    L                298.2                    308.7   \n",
       "2    3     L47182    L                298.1                    308.5   \n",
       "3    4     L47183    L                298.2                    308.6   \n",
       "4    5     L47184    L                298.2                    308.7   \n",
       "\n",
       "   Rotational speed [rpm]  Torque [Nm]  Tool wear [min]  Target Failure Type  \n",
       "0                    1551         42.8                0       0   No Failure  \n",
       "1                    1408         46.3                3       0   No Failure  \n",
       "2                    1498         49.4                5       0   No Failure  \n",
       "3                    1433         39.5                7       0   No Failure  \n",
       "4                    1408         40.0                9       0   No Failure  "
      ]
     },
     "execution_count": 7,
     "metadata": {},
     "output_type": "execute_result"
    }
   ],
   "source": [
    "df_original.head()"
   ]
  },
  {
   "cell_type": "markdown",
   "id": "260f288b",
   "metadata": {
    "papermill": {
     "duration": 0.046377,
     "end_time": "2022-01-03T12:58:15.611181",
     "exception": false,
     "start_time": "2022-01-03T12:58:15.564804",
     "status": "completed"
    },
    "tags": []
   },
   "source": [
    "#### Renaming feature names for convenience"
   ]
  },
  {
   "cell_type": "code",
   "execution_count": 8,
   "id": "69113305",
   "metadata": {
    "execution": {
     "iopub.execute_input": "2022-01-03T12:58:15.708997Z",
     "iopub.status.busy": "2022-01-03T12:58:15.708077Z",
     "iopub.status.idle": "2022-01-03T12:58:15.715600Z",
     "shell.execute_reply": "2022-01-03T12:58:15.716110Z",
     "shell.execute_reply.started": "2022-01-03T12:51:56.229313Z"
    },
    "papermill": {
     "duration": 0.058074,
     "end_time": "2022-01-03T12:58:15.716266",
     "exception": false,
     "start_time": "2022-01-03T12:58:15.658192",
     "status": "completed"
    },
    "tags": []
   },
   "outputs": [],
   "source": [
    "df_original.rename(columns = {'Air temperature [K]': 'Air_temperature', 'Process temperature [K]': 'Process_temperature', 'Rotational speed [rpm]': 'Rotational_speed', 'Torque [Nm]': 'Torque', 'Tool wear [min]': 'Tool_wear'}, inplace = True)"
   ]
  },
  {
   "cell_type": "code",
   "execution_count": 9,
   "id": "57fe9a1d",
   "metadata": {
    "execution": {
     "iopub.execute_input": "2022-01-03T12:58:15.812894Z",
     "iopub.status.busy": "2022-01-03T12:58:15.811991Z",
     "iopub.status.idle": "2022-01-03T12:58:15.816857Z",
     "shell.execute_reply": "2022-01-03T12:58:15.817424Z",
     "shell.execute_reply.started": "2022-01-03T12:51:56.239845Z"
    },
    "papermill": {
     "duration": 0.054935,
     "end_time": "2022-01-03T12:58:15.817581",
     "exception": false,
     "start_time": "2022-01-03T12:58:15.762646",
     "status": "completed"
    },
    "tags": []
   },
   "outputs": [
    {
     "data": {
      "text/plain": [
       "(10000, 10)"
      ]
     },
     "execution_count": 9,
     "metadata": {},
     "output_type": "execute_result"
    }
   ],
   "source": [
    "df_original.shape"
   ]
  },
  {
   "cell_type": "code",
   "execution_count": 10,
   "id": "fd69f488",
   "metadata": {
    "execution": {
     "iopub.execute_input": "2022-01-03T12:58:15.919349Z",
     "iopub.status.busy": "2022-01-03T12:58:15.918477Z",
     "iopub.status.idle": "2022-01-03T12:58:15.928128Z",
     "shell.execute_reply": "2022-01-03T12:58:15.928773Z",
     "shell.execute_reply.started": "2022-01-03T12:51:56.256774Z"
    },
    "papermill": {
     "duration": 0.064313,
     "end_time": "2022-01-03T12:58:15.928963",
     "exception": false,
     "start_time": "2022-01-03T12:58:15.864650",
     "status": "completed"
    },
    "tags": []
   },
   "outputs": [
    {
     "data": {
      "text/plain": [
       "10000"
      ]
     },
     "execution_count": 10,
     "metadata": {},
     "output_type": "execute_result"
    }
   ],
   "source": [
    "df_original['UDI'].nunique()"
   ]
  },
  {
   "cell_type": "code",
   "execution_count": 11,
   "id": "f0eb67ec",
   "metadata": {
    "execution": {
     "iopub.execute_input": "2022-01-03T12:58:16.049578Z",
     "iopub.status.busy": "2022-01-03T12:58:16.048994Z",
     "iopub.status.idle": "2022-01-03T12:58:16.055076Z",
     "shell.execute_reply": "2022-01-03T12:58:16.055604Z",
     "shell.execute_reply.started": "2022-01-03T12:51:56.274504Z"
    },
    "papermill": {
     "duration": 0.069563,
     "end_time": "2022-01-03T12:58:16.055781",
     "exception": false,
     "start_time": "2022-01-03T12:58:15.986218",
     "status": "completed"
    },
    "tags": []
   },
   "outputs": [
    {
     "data": {
      "text/plain": [
       "10000"
      ]
     },
     "execution_count": 11,
     "metadata": {},
     "output_type": "execute_result"
    }
   ],
   "source": [
    "df_original['Product ID'].nunique()"
   ]
  },
  {
   "cell_type": "markdown",
   "id": "928391fa",
   "metadata": {
    "papermill": {
     "duration": 0.047065,
     "end_time": "2022-01-03T12:58:16.151116",
     "exception": false,
     "start_time": "2022-01-03T12:58:16.104051",
     "status": "completed"
    },
    "tags": []
   },
   "source": [
    "Dropping 'UDI', 'Product ID' and 'Failure Type'"
   ]
  },
  {
   "cell_type": "code",
   "execution_count": 12,
   "id": "bd968021",
   "metadata": {
    "execution": {
     "iopub.execute_input": "2022-01-03T12:58:16.248607Z",
     "iopub.status.busy": "2022-01-03T12:58:16.248068Z",
     "iopub.status.idle": "2022-01-03T12:58:16.255369Z",
     "shell.execute_reply": "2022-01-03T12:58:16.255849Z",
     "shell.execute_reply.started": "2022-01-03T12:51:56.289876Z"
    },
    "papermill": {
     "duration": 0.05727,
     "end_time": "2022-01-03T12:58:16.256002",
     "exception": false,
     "start_time": "2022-01-03T12:58:16.198732",
     "status": "completed"
    },
    "tags": []
   },
   "outputs": [],
   "source": [
    "df_original.drop(['UDI', 'Product ID', 'Failure Type'], axis = 1, inplace = True)"
   ]
  },
  {
   "cell_type": "markdown",
   "id": "b0cf260a",
   "metadata": {
    "papermill": {
     "duration": 0.046845,
     "end_time": "2022-01-03T12:58:16.350267",
     "exception": false,
     "start_time": "2022-01-03T12:58:16.303422",
     "status": "completed"
    },
    "tags": []
   },
   "source": [
    "#### Train test split"
   ]
  },
  {
   "cell_type": "code",
   "execution_count": 13,
   "id": "260437d0",
   "metadata": {
    "execution": {
     "iopub.execute_input": "2022-01-03T12:58:16.447559Z",
     "iopub.status.busy": "2022-01-03T12:58:16.446969Z",
     "iopub.status.idle": "2022-01-03T12:58:16.623384Z",
     "shell.execute_reply": "2022-01-03T12:58:16.622696Z",
     "shell.execute_reply.started": "2022-01-03T12:51:56.305011Z"
    },
    "papermill": {
     "duration": 0.226093,
     "end_time": "2022-01-03T12:58:16.623533",
     "exception": false,
     "start_time": "2022-01-03T12:58:16.397440",
     "status": "completed"
    },
    "tags": []
   },
   "outputs": [],
   "source": [
    "from sklearn.model_selection import train_test_split\n",
    "\n",
    "X = df_original.drop('Target', axis = 1)\n",
    "Y = df_original['Target']\n",
    "\n",
    "X_train, X_test, y_train, y_test = train_test_split(X, Y, random_state = RS, test_size = 0.05, stratify = Y)"
   ]
  },
  {
   "cell_type": "code",
   "execution_count": 14,
   "id": "76175ec4",
   "metadata": {
    "execution": {
     "iopub.execute_input": "2022-01-03T12:58:16.722361Z",
     "iopub.status.busy": "2022-01-03T12:58:16.721712Z",
     "iopub.status.idle": "2022-01-03T12:58:16.727101Z",
     "shell.execute_reply": "2022-01-03T12:58:16.727609Z",
     "shell.execute_reply.started": "2022-01-03T12:51:56.541285Z"
    },
    "papermill": {
     "duration": 0.056441,
     "end_time": "2022-01-03T12:58:16.727791",
     "exception": false,
     "start_time": "2022-01-03T12:58:16.671350",
     "status": "completed"
    },
    "tags": []
   },
   "outputs": [
    {
     "data": {
      "text/plain": [
       "((9500, 6), (500, 6), (9500,), (500,))"
      ]
     },
     "execution_count": 14,
     "metadata": {},
     "output_type": "execute_result"
    }
   ],
   "source": [
    "X_train.shape, X_test.shape, y_train.shape, y_test.shape"
   ]
  },
  {
   "cell_type": "code",
   "execution_count": 15,
   "id": "996031e9",
   "metadata": {
    "execution": {
     "iopub.execute_input": "2022-01-03T12:58:16.826448Z",
     "iopub.status.busy": "2022-01-03T12:58:16.825924Z",
     "iopub.status.idle": "2022-01-03T12:58:16.842269Z",
     "shell.execute_reply": "2022-01-03T12:58:16.841706Z",
     "shell.execute_reply.started": "2022-01-03T12:51:56.551201Z"
    },
    "papermill": {
     "duration": 0.066632,
     "end_time": "2022-01-03T12:58:16.842403",
     "exception": false,
     "start_time": "2022-01-03T12:58:16.775771",
     "status": "completed"
    },
    "tags": []
   },
   "outputs": [],
   "source": [
    "df = X_train.join(y_train, how = 'inner')\n",
    "df.sort_index(axis = 0, inplace = True)"
   ]
  },
  {
   "cell_type": "markdown",
   "id": "f5d3276d",
   "metadata": {
    "papermill": {
     "duration": 0.047211,
     "end_time": "2022-01-03T12:58:16.938203",
     "exception": false,
     "start_time": "2022-01-03T12:58:16.890992",
     "status": "completed"
    },
    "tags": []
   },
   "source": [
    "#### Checking for duplicate entries"
   ]
  },
  {
   "cell_type": "code",
   "execution_count": 16,
   "id": "92bbf3e5",
   "metadata": {
    "execution": {
     "iopub.execute_input": "2022-01-03T12:58:17.038904Z",
     "iopub.status.busy": "2022-01-03T12:58:17.038029Z",
     "iopub.status.idle": "2022-01-03T12:58:17.051289Z",
     "shell.execute_reply": "2022-01-03T12:58:17.052006Z",
     "shell.execute_reply.started": "2022-01-03T12:51:56.577602Z"
    },
    "papermill": {
     "duration": 0.06577,
     "end_time": "2022-01-03T12:58:17.052218",
     "exception": false,
     "start_time": "2022-01-03T12:58:16.986448",
     "status": "completed"
    },
    "tags": []
   },
   "outputs": [
    {
     "name": "stdout",
     "output_type": "stream",
     "text": [
      "Duplicate Entries:  (0, 7)\n"
     ]
    }
   ],
   "source": [
    "Duplicate = df[df.duplicated(keep = 'first')]\n",
    "print('Duplicate Entries: ', Duplicate.shape)"
   ]
  },
  {
   "cell_type": "markdown",
   "id": "81c112e5",
   "metadata": {
    "papermill": {
     "duration": 0.048007,
     "end_time": "2022-01-03T12:58:17.149208",
     "exception": false,
     "start_time": "2022-01-03T12:58:17.101201",
     "status": "completed"
    },
    "tags": []
   },
   "source": [
    "There are no duplicate entries in the dataset."
   ]
  },
  {
   "cell_type": "markdown",
   "id": "e2187011",
   "metadata": {
    "papermill": {
     "duration": 0.047546,
     "end_time": "2022-01-03T12:58:17.247065",
     "exception": false,
     "start_time": "2022-01-03T12:58:17.199519",
     "status": "completed"
    },
    "tags": []
   },
   "source": [
    "## EXPLORATORY DATA ANALYSIS "
   ]
  },
  {
   "cell_type": "code",
   "execution_count": 17,
   "id": "deabccc1",
   "metadata": {
    "execution": {
     "iopub.execute_input": "2022-01-03T12:58:17.346269Z",
     "iopub.status.busy": "2022-01-03T12:58:17.345654Z",
     "iopub.status.idle": "2022-01-03T12:58:17.359523Z",
     "shell.execute_reply": "2022-01-03T12:58:17.360022Z",
     "shell.execute_reply.started": "2022-01-03T12:51:56.598248Z"
    },
    "papermill": {
     "duration": 0.065036,
     "end_time": "2022-01-03T12:58:17.360221",
     "exception": false,
     "start_time": "2022-01-03T12:58:17.295185",
     "status": "completed"
    },
    "tags": []
   },
   "outputs": [
    {
     "name": "stdout",
     "output_type": "stream",
     "text": [
      "<class 'pandas.core.frame.DataFrame'>\n",
      "Index: 9500 entries, 0 to 9999\n",
      "Data columns (total 7 columns):\n",
      " #   Column               Non-Null Count  Dtype  \n",
      "---  ------               --------------  -----  \n",
      " 0   Type                 9500 non-null   object \n",
      " 1   Air_temperature      9500 non-null   float64\n",
      " 2   Process_temperature  9500 non-null   float64\n",
      " 3   Rotational_speed     9500 non-null   int64  \n",
      " 4   Torque               9500 non-null   float64\n",
      " 5   Tool_wear            9500 non-null   int64  \n",
      " 6   Target               9500 non-null   int64  \n",
      "dtypes: float64(3), int64(3), object(1)\n",
      "memory usage: 593.8+ KB\n"
     ]
    }
   ],
   "source": [
    "df.info()"
   ]
  },
  {
   "cell_type": "markdown",
   "id": "5f501027",
   "metadata": {
    "papermill": {
     "duration": 0.04787,
     "end_time": "2022-01-03T12:58:17.459603",
     "exception": false,
     "start_time": "2022-01-03T12:58:17.411733",
     "status": "completed"
    },
    "tags": []
   },
   "source": [
    "There are no missing values in the dataset"
   ]
  },
  {
   "cell_type": "markdown",
   "id": "e8a80408",
   "metadata": {
    "papermill": {
     "duration": 0.047807,
     "end_time": "2022-01-03T12:58:17.555292",
     "exception": false,
     "start_time": "2022-01-03T12:58:17.507485",
     "status": "completed"
    },
    "tags": []
   },
   "source": [
    "#### Discrete features"
   ]
  },
  {
   "cell_type": "code",
   "execution_count": 18,
   "id": "f8c2c0eb",
   "metadata": {
    "execution": {
     "iopub.execute_input": "2022-01-03T12:58:17.654610Z",
     "iopub.status.busy": "2022-01-03T12:58:17.654016Z",
     "iopub.status.idle": "2022-01-03T12:58:17.661260Z",
     "shell.execute_reply": "2022-01-03T12:58:17.660774Z",
     "shell.execute_reply.started": "2022-01-03T12:51:56.620738Z"
    },
    "papermill": {
     "duration": 0.058023,
     "end_time": "2022-01-03T12:58:17.661396",
     "exception": false,
     "start_time": "2022-01-03T12:58:17.603373",
     "status": "completed"
    },
    "tags": []
   },
   "outputs": [
    {
     "name": "stdout",
     "output_type": "stream",
     "text": [
      "Discrete variables count: 1\n"
     ]
    }
   ],
   "source": [
    "discrete_feature = [feature for feature in df.columns if len(df[feature].unique())<25 and feature not in ['Target']]\n",
    "print('Discrete variables count: {}'.format(len(discrete_feature)))"
   ]
  },
  {
   "cell_type": "code",
   "execution_count": 19,
   "id": "6cfdd402",
   "metadata": {
    "execution": {
     "iopub.execute_input": "2022-01-03T12:58:17.764707Z",
     "iopub.status.busy": "2022-01-03T12:58:17.764132Z",
     "iopub.status.idle": "2022-01-03T12:58:17.766350Z",
     "shell.execute_reply": "2022-01-03T12:58:17.766808Z",
     "shell.execute_reply.started": "2022-01-03T12:51:56.633609Z"
    },
    "papermill": {
     "duration": 0.056447,
     "end_time": "2022-01-03T12:58:17.766968",
     "exception": false,
     "start_time": "2022-01-03T12:58:17.710521",
     "status": "completed"
    },
    "scrolled": true,
    "tags": []
   },
   "outputs": [
    {
     "data": {
      "text/plain": [
       "['Type']"
      ]
     },
     "execution_count": 19,
     "metadata": {},
     "output_type": "execute_result"
    }
   ],
   "source": [
    "discrete_feature"
   ]
  },
  {
   "cell_type": "code",
   "execution_count": 25,
   "id": "f94182b2",
   "metadata": {
    "execution": {
     "iopub.execute_input": "2022-01-03T12:58:17.871412Z",
     "iopub.status.busy": "2022-01-03T12:58:17.866843Z",
     "iopub.status.idle": "2022-01-03T12:58:18.072513Z",
     "shell.execute_reply": "2022-01-03T12:58:18.073099Z",
     "shell.execute_reply.started": "2022-01-03T12:51:56.647013Z"
    },
    "papermill": {
     "duration": 0.257401,
     "end_time": "2022-01-03T12:58:18.073287",
     "exception": false,
     "start_time": "2022-01-03T12:58:17.815886",
     "status": "completed"
    },
    "scrolled": true,
    "tags": []
   },
   "outputs": [
    {
     "name": "stdout",
     "output_type": "stream",
     "text": [
      "1\n"
     ]
    },
    {
     "ename": "ValueError",
     "evalue": "could not convert string to float: 'M'",
     "output_type": "error",
     "traceback": [
      "\u001b[0;31m---------------------------------------------------------------------------\u001b[0m",
      "\u001b[0;31mValueError\u001b[0m                                Traceback (most recent call last)",
      "\u001b[1;32m/home/satwik/Data/EPICS/feature-selection-hyperparameter-tuning.ipynb Cell 25\u001b[0m line \u001b[0;36m4\n\u001b[1;32m      <a href='vscode-notebook-cell:/home/satwik/Data/EPICS/feature-selection-hyperparameter-tuning.ipynb#X33sZmlsZQ%3D%3D?line=1'>2</a>\u001b[0m plt\u001b[39m.\u001b[39mfigure(figsize\u001b[39m=\u001b[39m(\u001b[39m10\u001b[39m,\u001b[39m5\u001b[39m))\n\u001b[1;32m      <a href='vscode-notebook-cell:/home/satwik/Data/EPICS/feature-selection-hyperparameter-tuning.ipynb#X33sZmlsZQ%3D%3D?line=2'>3</a>\u001b[0m \u001b[39mprint\u001b[39m(\u001b[39m'\u001b[39m\u001b[39m1\u001b[39m\u001b[39m'\u001b[39m)\n\u001b[0;32m----> <a href='vscode-notebook-cell:/home/satwik/Data/EPICS/feature-selection-hyperparameter-tuning.ipynb#X33sZmlsZQ%3D%3D?line=3'>4</a>\u001b[0m plot\u001b[39m=\u001b[39msns\u001b[39m.\u001b[39;49mcountplot(df[\u001b[39m'\u001b[39;49m\u001b[39mType\u001b[39;49m\u001b[39m'\u001b[39;49m])\n\u001b[1;32m      <a href='vscode-notebook-cell:/home/satwik/Data/EPICS/feature-selection-hyperparameter-tuning.ipynb#X33sZmlsZQ%3D%3D?line=4'>5</a>\u001b[0m \u001b[39mprint\u001b[39m(\u001b[39m2\u001b[39m)\n\u001b[1;32m      <a href='vscode-notebook-cell:/home/satwik/Data/EPICS/feature-selection-hyperparameter-tuning.ipynb#X33sZmlsZQ%3D%3D?line=6'>7</a>\u001b[0m total \u001b[39m=\u001b[39m \u001b[39mlen\u001b[39m(df[feature])\n",
      "File \u001b[0;32m~/.local/lib/python3.10/site-packages/seaborn/categorical.py:2943\u001b[0m, in \u001b[0;36mcountplot\u001b[0;34m(data, x, y, hue, order, hue_order, orient, color, palette, saturation, width, dodge, ax, **kwargs)\u001b[0m\n\u001b[1;32m   2940\u001b[0m \u001b[39melif\u001b[39;00m x \u001b[39mis\u001b[39;00m \u001b[39mnot\u001b[39;00m \u001b[39mNone\u001b[39;00m \u001b[39mand\u001b[39;00m y \u001b[39mis\u001b[39;00m \u001b[39mnot\u001b[39;00m \u001b[39mNone\u001b[39;00m:\n\u001b[1;32m   2941\u001b[0m     \u001b[39mraise\u001b[39;00m \u001b[39mValueError\u001b[39;00m(\u001b[39m\"\u001b[39m\u001b[39mCannot pass values for both `x` and `y`\u001b[39m\u001b[39m\"\u001b[39m)\n\u001b[0;32m-> 2943\u001b[0m plotter \u001b[39m=\u001b[39m _CountPlotter(\n\u001b[1;32m   2944\u001b[0m     x, y, hue, data, order, hue_order,\n\u001b[1;32m   2945\u001b[0m     estimator, errorbar, n_boot, units, seed,\n\u001b[1;32m   2946\u001b[0m     orient, color, palette, saturation,\n\u001b[1;32m   2947\u001b[0m     width, errcolor, errwidth, capsize, dodge\n\u001b[1;32m   2948\u001b[0m )\n\u001b[1;32m   2950\u001b[0m plotter\u001b[39m.\u001b[39mvalue_label \u001b[39m=\u001b[39m \u001b[39m\"\u001b[39m\u001b[39mcount\u001b[39m\u001b[39m\"\u001b[39m\n\u001b[1;32m   2952\u001b[0m \u001b[39mif\u001b[39;00m ax \u001b[39mis\u001b[39;00m \u001b[39mNone\u001b[39;00m:\n",
      "File \u001b[0;32m~/.local/lib/python3.10/site-packages/seaborn/categorical.py:1530\u001b[0m, in \u001b[0;36m_BarPlotter.__init__\u001b[0;34m(self, x, y, hue, data, order, hue_order, estimator, errorbar, n_boot, units, seed, orient, color, palette, saturation, width, errcolor, errwidth, capsize, dodge)\u001b[0m\n\u001b[1;32m   1525\u001b[0m \u001b[39mdef\u001b[39;00m \u001b[39m__init__\u001b[39m(\u001b[39mself\u001b[39m, x, y, hue, data, order, hue_order,\n\u001b[1;32m   1526\u001b[0m              estimator, errorbar, n_boot, units, seed,\n\u001b[1;32m   1527\u001b[0m              orient, color, palette, saturation, width,\n\u001b[1;32m   1528\u001b[0m              errcolor, errwidth, capsize, dodge):\n\u001b[1;32m   1529\u001b[0m \u001b[39m    \u001b[39m\u001b[39m\"\"\"Initialize the plotter.\"\"\"\u001b[39;00m\n\u001b[0;32m-> 1530\u001b[0m     \u001b[39mself\u001b[39;49m\u001b[39m.\u001b[39;49mestablish_variables(x, y, hue, data, orient,\n\u001b[1;32m   1531\u001b[0m                              order, hue_order, units)\n\u001b[1;32m   1532\u001b[0m     \u001b[39mself\u001b[39m\u001b[39m.\u001b[39mestablish_colors(color, palette, saturation)\n\u001b[1;32m   1533\u001b[0m     \u001b[39mself\u001b[39m\u001b[39m.\u001b[39mestimate_statistic(estimator, errorbar, n_boot, seed)\n",
      "File \u001b[0;32m~/.local/lib/python3.10/site-packages/seaborn/categorical.py:516\u001b[0m, in \u001b[0;36m_CategoricalPlotter.establish_variables\u001b[0;34m(self, x, y, hue, data, orient, order, hue_order, units)\u001b[0m\n\u001b[1;32m    513\u001b[0m     plot_data \u001b[39m=\u001b[39m data\n\u001b[1;32m    515\u001b[0m \u001b[39m# Convert to a list of arrays, the common representation\u001b[39;00m\n\u001b[0;32m--> 516\u001b[0m plot_data \u001b[39m=\u001b[39m [np\u001b[39m.\u001b[39masarray(d, \u001b[39mfloat\u001b[39m) \u001b[39mfor\u001b[39;00m d \u001b[39min\u001b[39;00m plot_data]\n\u001b[1;32m    518\u001b[0m \u001b[39m# The group names will just be numeric indices\u001b[39;00m\n\u001b[1;32m    519\u001b[0m group_names \u001b[39m=\u001b[39m \u001b[39mlist\u001b[39m(\u001b[39mrange\u001b[39m(\u001b[39mlen\u001b[39m(plot_data)))\n",
      "File \u001b[0;32m~/.local/lib/python3.10/site-packages/seaborn/categorical.py:516\u001b[0m, in \u001b[0;36m<listcomp>\u001b[0;34m(.0)\u001b[0m\n\u001b[1;32m    513\u001b[0m     plot_data \u001b[39m=\u001b[39m data\n\u001b[1;32m    515\u001b[0m \u001b[39m# Convert to a list of arrays, the common representation\u001b[39;00m\n\u001b[0;32m--> 516\u001b[0m plot_data \u001b[39m=\u001b[39m [np\u001b[39m.\u001b[39;49masarray(d, \u001b[39mfloat\u001b[39;49m) \u001b[39mfor\u001b[39;00m d \u001b[39min\u001b[39;00m plot_data]\n\u001b[1;32m    518\u001b[0m \u001b[39m# The group names will just be numeric indices\u001b[39;00m\n\u001b[1;32m    519\u001b[0m group_names \u001b[39m=\u001b[39m \u001b[39mlist\u001b[39m(\u001b[39mrange\u001b[39m(\u001b[39mlen\u001b[39m(plot_data)))\n",
      "File \u001b[0;32m~/.local/lib/python3.10/site-packages/pandas/core/series.py:917\u001b[0m, in \u001b[0;36mSeries.__array__\u001b[0;34m(self, dtype)\u001b[0m\n\u001b[1;32m    870\u001b[0m \u001b[39m\u001b[39m\u001b[39m\"\"\"\u001b[39;00m\n\u001b[1;32m    871\u001b[0m \u001b[39mReturn the values as a NumPy array.\u001b[39;00m\n\u001b[1;32m    872\u001b[0m \n\u001b[0;32m   (...)\u001b[0m\n\u001b[1;32m    914\u001b[0m \u001b[39m      dtype='datetime64[ns]')\u001b[39;00m\n\u001b[1;32m    915\u001b[0m \u001b[39m\"\"\"\u001b[39;00m\n\u001b[1;32m    916\u001b[0m values \u001b[39m=\u001b[39m \u001b[39mself\u001b[39m\u001b[39m.\u001b[39m_values\n\u001b[0;32m--> 917\u001b[0m arr \u001b[39m=\u001b[39m np\u001b[39m.\u001b[39;49masarray(values, dtype\u001b[39m=\u001b[39;49mdtype)\n\u001b[1;32m    918\u001b[0m \u001b[39mif\u001b[39;00m using_copy_on_write() \u001b[39mand\u001b[39;00m astype_is_view(values\u001b[39m.\u001b[39mdtype, arr\u001b[39m.\u001b[39mdtype):\n\u001b[1;32m    919\u001b[0m     arr \u001b[39m=\u001b[39m arr\u001b[39m.\u001b[39mview()\n",
      "\u001b[0;31mValueError\u001b[0m: could not convert string to float: 'M'"
     ]
    },
    {
     "data": {
      "text/plain": [
       "<Figure size 1000x500 with 0 Axes>"
      ]
     },
     "metadata": {},
     "output_type": "display_data"
    }
   ],
   "source": [
    "for feature in discrete_feature:\n",
    "    plt.figure(figsize=(10,5))\n",
    "    print('1')\n",
    "    plot=sns.countplot(df['Type'])\n",
    "    print(2)\n",
    "\n",
    "    total = len(df[feature])\n",
    "    for p in plot.patches:\n",
    "        percentage = '{:.1f}%'.format(100 * p.get_height()/total)\n",
    "        x = p.get_x() + p.get_width() / 2 - 0.05\n",
    "        y = p.get_y() + p.get_height()\n",
    "        plot.annotate(percentage, (x, y), size = 10)\n",
    "\n",
    "    plt.show() "
   ]
  },
  {
   "cell_type": "markdown",
   "id": "3e1bfbfa",
   "metadata": {
    "papermill": {
     "duration": 0.049382,
     "end_time": "2022-01-03T12:58:18.172405",
     "exception": false,
     "start_time": "2022-01-03T12:58:18.123023",
     "status": "completed"
    },
    "tags": []
   },
   "source": [
    "L, M, or H for low (50% of all products), medium (30%) and high (20%) as product quality.\n",
    "\n",
    "The dataset has 60% of low type product."
   ]
  },
  {
   "cell_type": "code",
   "execution_count": 21,
   "id": "a084519b",
   "metadata": {
    "execution": {
     "iopub.execute_input": "2022-01-03T12:58:18.275940Z",
     "iopub.status.busy": "2022-01-03T12:58:18.275024Z",
     "iopub.status.idle": "2022-01-03T12:58:18.467481Z",
     "shell.execute_reply": "2022-01-03T12:58:18.466701Z",
     "shell.execute_reply.started": "2022-01-03T12:51:56.909446Z"
    },
    "papermill": {
     "duration": 0.244686,
     "end_time": "2022-01-03T12:58:18.467677",
     "exception": false,
     "start_time": "2022-01-03T12:58:18.222991",
     "status": "completed"
    },
    "scrolled": true,
    "tags": []
   },
   "outputs": [
    {
     "ename": "ValueError",
     "evalue": "Cannot use `hue` without `x` and `y`",
     "output_type": "error",
     "traceback": [
      "\u001b[0;31m---------------------------------------------------------------------------\u001b[0m",
      "\u001b[0;31mValueError\u001b[0m                                Traceback (most recent call last)",
      "\u001b[1;32m/home/satwik/Data/EPICS/feature-selection-hyperparameter-tuning.ipynb Cell 27\u001b[0m line \u001b[0;36m3\n\u001b[1;32m      <a href='vscode-notebook-cell:/home/satwik/Data/EPICS/feature-selection-hyperparameter-tuning.ipynb#X35sZmlsZQ%3D%3D?line=0'>1</a>\u001b[0m \u001b[39mfor\u001b[39;00m i \u001b[39min\u001b[39;00m discrete_feature:\n\u001b[1;32m      <a href='vscode-notebook-cell:/home/satwik/Data/EPICS/feature-selection-hyperparameter-tuning.ipynb#X35sZmlsZQ%3D%3D?line=1'>2</a>\u001b[0m         plt\u001b[39m.\u001b[39mfigure(figsize\u001b[39m=\u001b[39m(\u001b[39m10\u001b[39m,\u001b[39m5\u001b[39m))\n\u001b[0;32m----> <a href='vscode-notebook-cell:/home/satwik/Data/EPICS/feature-selection-hyperparameter-tuning.ipynb#X35sZmlsZQ%3D%3D?line=2'>3</a>\u001b[0m         sns\u001b[39m.\u001b[39;49mcountplot(df[i],hue\u001b[39m=\u001b[39;49mdf[\u001b[39m'\u001b[39;49m\u001b[39mTarget\u001b[39;49m\u001b[39m'\u001b[39;49m])\n\u001b[1;32m      <a href='vscode-notebook-cell:/home/satwik/Data/EPICS/feature-selection-hyperparameter-tuning.ipynb#X35sZmlsZQ%3D%3D?line=3'>4</a>\u001b[0m         plt\u001b[39m.\u001b[39mshow()\n",
      "File \u001b[0;32m~/.local/lib/python3.10/site-packages/seaborn/categorical.py:2943\u001b[0m, in \u001b[0;36mcountplot\u001b[0;34m(data, x, y, hue, order, hue_order, orient, color, palette, saturation, width, dodge, ax, **kwargs)\u001b[0m\n\u001b[1;32m   2940\u001b[0m \u001b[39melif\u001b[39;00m x \u001b[39mis\u001b[39;00m \u001b[39mnot\u001b[39;00m \u001b[39mNone\u001b[39;00m \u001b[39mand\u001b[39;00m y \u001b[39mis\u001b[39;00m \u001b[39mnot\u001b[39;00m \u001b[39mNone\u001b[39;00m:\n\u001b[1;32m   2941\u001b[0m     \u001b[39mraise\u001b[39;00m \u001b[39mValueError\u001b[39;00m(\u001b[39m\"\u001b[39m\u001b[39mCannot pass values for both `x` and `y`\u001b[39m\u001b[39m\"\u001b[39m)\n\u001b[0;32m-> 2943\u001b[0m plotter \u001b[39m=\u001b[39m _CountPlotter(\n\u001b[1;32m   2944\u001b[0m     x, y, hue, data, order, hue_order,\n\u001b[1;32m   2945\u001b[0m     estimator, errorbar, n_boot, units, seed,\n\u001b[1;32m   2946\u001b[0m     orient, color, palette, saturation,\n\u001b[1;32m   2947\u001b[0m     width, errcolor, errwidth, capsize, dodge\n\u001b[1;32m   2948\u001b[0m )\n\u001b[1;32m   2950\u001b[0m plotter\u001b[39m.\u001b[39mvalue_label \u001b[39m=\u001b[39m \u001b[39m\"\u001b[39m\u001b[39mcount\u001b[39m\u001b[39m\"\u001b[39m\n\u001b[1;32m   2952\u001b[0m \u001b[39mif\u001b[39;00m ax \u001b[39mis\u001b[39;00m \u001b[39mNone\u001b[39;00m:\n",
      "File \u001b[0;32m~/.local/lib/python3.10/site-packages/seaborn/categorical.py:1530\u001b[0m, in \u001b[0;36m_BarPlotter.__init__\u001b[0;34m(self, x, y, hue, data, order, hue_order, estimator, errorbar, n_boot, units, seed, orient, color, palette, saturation, width, errcolor, errwidth, capsize, dodge)\u001b[0m\n\u001b[1;32m   1525\u001b[0m \u001b[39mdef\u001b[39;00m \u001b[39m__init__\u001b[39m(\u001b[39mself\u001b[39m, x, y, hue, data, order, hue_order,\n\u001b[1;32m   1526\u001b[0m              estimator, errorbar, n_boot, units, seed,\n\u001b[1;32m   1527\u001b[0m              orient, color, palette, saturation, width,\n\u001b[1;32m   1528\u001b[0m              errcolor, errwidth, capsize, dodge):\n\u001b[1;32m   1529\u001b[0m \u001b[39m    \u001b[39m\u001b[39m\"\"\"Initialize the plotter.\"\"\"\u001b[39;00m\n\u001b[0;32m-> 1530\u001b[0m     \u001b[39mself\u001b[39;49m\u001b[39m.\u001b[39;49mestablish_variables(x, y, hue, data, orient,\n\u001b[1;32m   1531\u001b[0m                              order, hue_order, units)\n\u001b[1;32m   1532\u001b[0m     \u001b[39mself\u001b[39m\u001b[39m.\u001b[39mestablish_colors(color, palette, saturation)\n\u001b[1;32m   1533\u001b[0m     \u001b[39mself\u001b[39m\u001b[39m.\u001b[39mestimate_statistic(estimator, errorbar, n_boot, seed)\n",
      "File \u001b[0;32m~/.local/lib/python3.10/site-packages/seaborn/categorical.py:437\u001b[0m, in \u001b[0;36m_CategoricalPlotter.establish_variables\u001b[0;34m(self, x, y, hue, data, orient, order, hue_order, units)\u001b[0m\n\u001b[1;32m    435\u001b[0m \u001b[39mif\u001b[39;00m hue \u001b[39mis\u001b[39;00m \u001b[39mnot\u001b[39;00m \u001b[39mNone\u001b[39;00m:\n\u001b[1;32m    436\u001b[0m     error \u001b[39m=\u001b[39m \u001b[39m\"\u001b[39m\u001b[39mCannot use `hue` without `x` and `y`\u001b[39m\u001b[39m\"\u001b[39m\n\u001b[0;32m--> 437\u001b[0m     \u001b[39mraise\u001b[39;00m \u001b[39mValueError\u001b[39;00m(error)\n\u001b[1;32m    439\u001b[0m \u001b[39m# No hue grouping with wide inputs\u001b[39;00m\n\u001b[1;32m    440\u001b[0m plot_hues \u001b[39m=\u001b[39m \u001b[39mNone\u001b[39;00m\n",
      "\u001b[0;31mValueError\u001b[0m: Cannot use `hue` without `x` and `y`"
     ]
    },
    {
     "data": {
      "text/plain": [
       "<Figure size 1000x500 with 0 Axes>"
      ]
     },
     "metadata": {},
     "output_type": "display_data"
    }
   ],
   "source": [
    "for i in discrete_feature:\n",
    "        plt.figure(figsize=(10,5))\n",
    "        sns.countplot(df[i],hue=df['Target'])\n",
    "        plt.show()"
   ]
  },
  {
   "cell_type": "markdown",
   "id": "4c5ddd24",
   "metadata": {
    "papermill": {
     "duration": 0.049959,
     "end_time": "2022-01-03T12:58:18.568541",
     "exception": false,
     "start_time": "2022-01-03T12:58:18.518582",
     "status": "completed"
    },
    "tags": []
   },
   "source": [
    "#### Numerical features"
   ]
  },
  {
   "cell_type": "code",
   "execution_count": null,
   "id": "fcbe6707",
   "metadata": {
    "execution": {
     "iopub.execute_input": "2022-01-03T12:58:18.672308Z",
     "iopub.status.busy": "2022-01-03T12:58:18.671640Z",
     "iopub.status.idle": "2022-01-03T12:58:18.678394Z",
     "shell.execute_reply": "2022-01-03T12:58:18.679195Z",
     "shell.execute_reply.started": "2022-01-03T12:51:57.147662Z"
    },
    "papermill": {
     "duration": 0.060829,
     "end_time": "2022-01-03T12:58:18.679416",
     "exception": false,
     "start_time": "2022-01-03T12:58:18.618587",
     "status": "completed"
    },
    "tags": []
   },
   "outputs": [
    {
     "name": "stdout",
     "output_type": "stream",
     "text": [
      "Number of numerical features:  5\n"
     ]
    }
   ],
   "source": [
    "continuous_feature = [feature for feature in df.columns if df[feature].dtypes != 'O' and feature not in discrete_feature+['Target']]\n",
    "\n",
    "print(\"Number of numerical features: \", len(continuous_feature))"
   ]
  },
  {
   "cell_type": "code",
   "execution_count": null,
   "id": "2b46e5b2",
   "metadata": {
    "execution": {
     "iopub.execute_input": "2022-01-03T12:58:18.785515Z",
     "iopub.status.busy": "2022-01-03T12:58:18.784623Z",
     "iopub.status.idle": "2022-01-03T12:58:18.789596Z",
     "shell.execute_reply": "2022-01-03T12:58:18.790126Z",
     "shell.execute_reply.started": "2022-01-03T12:51:57.158513Z"
    },
    "papermill": {
     "duration": 0.059097,
     "end_time": "2022-01-03T12:58:18.790283",
     "exception": false,
     "start_time": "2022-01-03T12:58:18.731186",
     "status": "completed"
    },
    "scrolled": true,
    "tags": []
   },
   "outputs": [
    {
     "data": {
      "text/plain": [
       "['Air_temperature',\n",
       " 'Process_temperature',\n",
       " 'Rotational_speed',\n",
       " 'Torque',\n",
       " 'Tool_wear']"
      ]
     },
     "execution_count": 20,
     "metadata": {},
     "output_type": "execute_result"
    }
   ],
   "source": [
    "continuous_feature"
   ]
  },
  {
   "cell_type": "code",
   "execution_count": null,
   "id": "708db39d",
   "metadata": {
    "execution": {
     "iopub.execute_input": "2022-01-03T12:58:18.895869Z",
     "iopub.status.busy": "2022-01-03T12:58:18.894960Z",
     "iopub.status.idle": "2022-01-03T12:58:19.972140Z",
     "shell.execute_reply": "2022-01-03T12:58:19.972713Z",
     "shell.execute_reply.started": "2022-01-03T12:51:57.180083Z"
    },
    "papermill": {
     "duration": 1.132024,
     "end_time": "2022-01-03T12:58:19.972949",
     "exception": false,
     "start_time": "2022-01-03T12:58:18.840925",
     "status": "completed"
    },
    "scrolled": true,
    "tags": []
   },
   "outputs": [
    {
     "data": {
      "image/png": "[encoded data removed]",
      "text/plain": [
       "<Figure size 432x288 with 1 Axes>"
      ]
     },
     "metadata": {
      "needs_background": "light"
     },
     "output_type": "display_data"
    },
    {
     "data": {
      "image/png": "[encoded data removed]",
      "text/plain": [
       "<Figure size 432x288 with 1 Axes>"
      ]
     },
     "metadata": {
      "needs_background": "light"
     },
     "output_type": "display_data"
    },
    {
     "data": {
      "image/png": "[encoded data removed]",
      "text/plain": [
       "<Figure size 432x288 with 1 Axes>"
      ]
     },
     "metadata": {
      "needs_background": "light"
     },
     "output_type": "display_data"
    },
    {
     "data": {
      "image/png": "[encoded data removed]",
      "text/plain": [
       "<Figure size 432x288 with 1 Axes>"
      ]
     },
     "metadata": {
      "needs_background": "light"
     },
     "output_type": "display_data"
    },
    {
     "data": {
      "image/png": "[encoded data removed]",
      "text/plain": [
       "<Figure size 432x288 with 1 Axes>"
      ]
     },
     "metadata": {
      "needs_background": "light"
     },
     "output_type": "display_data"
    }
   ],
   "source": [
    "for feature in continuous_feature:\n",
    "    data=df.copy()\n",
    "    data[feature].hist(bins=25)\n",
    "    plt.xlabel(feature)\n",
    "    plt.ylabel(\"Count\")\n",
    "    plt.title(feature)\n",
    "    plt.show()"
   ]
  },
  {
   "cell_type": "markdown",
   "id": "a30536f7",
   "metadata": {
    "papermill": {
     "duration": 0.055772,
     "end_time": "2022-01-03T12:58:20.083662",
     "exception": false,
     "start_time": "2022-01-03T12:58:20.027890",
     "status": "completed"
    },
    "tags": []
   },
   "source": [
    "Some of the features are skewed."
   ]
  },
  {
   "cell_type": "code",
   "execution_count": null,
   "id": "eec24157",
   "metadata": {
    "execution": {
     "iopub.execute_input": "2022-01-03T12:58:20.197177Z",
     "iopub.status.busy": "2022-01-03T12:58:20.196256Z",
     "iopub.status.idle": "2022-01-03T12:58:20.214819Z",
     "shell.execute_reply": "2022-01-03T12:58:20.215595Z",
     "shell.execute_reply.started": "2022-01-03T12:51:58.480292Z"
    },
    "papermill": {
     "duration": 0.077273,
     "end_time": "2022-01-03T12:58:20.215962",
     "exception": false,
     "start_time": "2022-01-03T12:58:20.138689",
     "status": "completed"
    },
    "scrolled": true,
    "tags": []
   },
   "outputs": [
    {
     "name": "stdout",
     "output_type": "stream",
     "text": [
      "Air_temperature\n",
      "stat = 0.98, p = 0.000000000000000000000000000000\n",
      "Not a normal distribution\n",
      "\n",
      "Process_temperature\n",
      "stat = 0.99, p = 0.000000000000000000000243515682\n",
      "Not a normal distribution\n",
      "\n",
      "Rotational_speed\n",
      "stat = 0.86, p = 0.000000000000000000000000000000\n",
      "Not a normal distribution\n",
      "\n",
      "Torque\n",
      "stat = 1.00, p = 0.539811491966247558593750000000\n",
      "Normal distribution\n",
      "\n",
      "Tool_wear\n",
      "stat = 0.96, p = 0.000000000000000000000000000000\n",
      "Not a normal distribution\n",
      "\n"
     ]
    },
    {
     "name": "stderr",
     "output_type": "stream",
     "text": [
      "/opt/conda/lib/python3.7/site-packages/scipy/stats/morestats.py:1760: UserWarning: p-value may not be accurate for N > 5000.\n",
      "  warnings.warn(\"p-value may not be accurate for N > 5000.\")\n"
     ]
    }
   ],
   "source": [
    "from scipy.stats import shapiro\n",
    "\n",
    "for feature in continuous_feature:\n",
    "    data = df.copy()\n",
    "    DataToTest = data[feature]\n",
    "    stat, p = shapiro(DataToTest)\n",
    "    print(feature)\n",
    "    print('stat = %.2f, p = %.30f' % (stat, p))\n",
    "    \n",
    "    if p > 0.05:\n",
    "        print('Normal distribution')\n",
    "        print()\n",
    "    else:\n",
    "        print('Not a normal distribution')\n",
    "        print()"
   ]
  },
  {
   "cell_type": "markdown",
   "id": "cdd3436b",
   "metadata": {
    "papermill": {
     "duration": 0.054226,
     "end_time": "2022-01-03T12:58:20.325631",
     "exception": false,
     "start_time": "2022-01-03T12:58:20.271405",
     "status": "completed"
    },
    "tags": []
   },
   "source": [
    "- Except Torque all other features are not normally distributed. \n",
    "\n",
    "- Let us apply log transformation for the skewed features."
   ]
  },
  {
   "cell_type": "code",
   "execution_count": null,
   "id": "90b3eb76",
   "metadata": {
    "execution": {
     "iopub.execute_input": "2022-01-03T12:58:20.438603Z",
     "iopub.status.busy": "2022-01-03T12:58:20.438035Z",
     "iopub.status.idle": "2022-01-03T12:58:22.114781Z",
     "shell.execute_reply": "2022-01-03T12:58:22.114282Z",
     "shell.execute_reply.started": "2022-01-03T12:51:58.503763Z"
    },
    "papermill": {
     "duration": 1.734888,
     "end_time": "2022-01-03T12:58:22.114912",
     "exception": false,
     "start_time": "2022-01-03T12:58:20.380024",
     "status": "completed"
    },
    "tags": []
   },
   "outputs": [
    {
     "data": {
      "image/png": "[encoded data removed]",
      "text/plain": [
       "<Figure size 1080x432 with 2 Axes>"
      ]
     },
     "metadata": {
      "needs_background": "light"
     },
     "output_type": "display_data"
    },
    {
     "data": {
      "image/png": "[encoded data removed]",
      "text/plain": [
       "<Figure size 1080x432 with 2 Axes>"
      ]
     },
     "metadata": {
      "needs_background": "light"
     },
     "output_type": "display_data"
    },
    {
     "data": {
      "image/png": "[encoded data removed]",
      "text/plain": [
       "<Figure size 1080x432 with 2 Axes>"
      ]
     },
     "metadata": {
      "needs_background": "light"
     },
     "output_type": "display_data"
    },
    {
     "data": {
      "image/png": "[encoded data removed]",
      "text/plain": [
       "<Figure size 1080x432 with 2 Axes>"
      ]
     },
     "metadata": {
      "needs_background": "light"
     },
     "output_type": "display_data"
    },
    {
     "data": {
      "image/png": "[encoded data removed]",
      "text/plain": [
       "<Figure size 1080x432 with 2 Axes>"
      ]
     },
     "metadata": {
      "needs_background": "light"
     },
     "output_type": "display_data"
    }
   ],
   "source": [
    "for i in continuous_feature:\n",
    "    f,axes=plt.subplots(1,2,figsize=(15,6))\n",
    "    sns.boxplot(x='Target', y=i, data= df, ax=axes[0])\n",
    "    df.groupby(by=['Target'])[i].mean().reset_index().sort_values(i,ascending=True).plot(x='Target',y=i,kind='bar',ax=axes[1])"
   ]
  },
  {
   "cell_type": "markdown",
   "id": "3fdf44d5",
   "metadata": {
    "papermill": {
     "duration": 0.058725,
     "end_time": "2022-01-03T12:58:22.231386",
     "exception": false,
     "start_time": "2022-01-03T12:58:22.172661",
     "status": "completed"
    },
    "tags": []
   },
   "source": [
    "#### Checking for outliers"
   ]
  },
  {
   "cell_type": "code",
   "execution_count": null,
   "id": "53a56268",
   "metadata": {
    "execution": {
     "iopub.execute_input": "2022-01-03T12:58:22.353403Z",
     "iopub.status.busy": "2022-01-03T12:58:22.352647Z",
     "iopub.status.idle": "2022-01-03T12:58:23.162270Z",
     "shell.execute_reply": "2022-01-03T12:58:23.161791Z",
     "shell.execute_reply.started": "2022-01-03T12:52:00.592968Z"
    },
    "papermill": {
     "duration": 0.872316,
     "end_time": "2022-01-03T12:58:23.162398",
     "exception": false,
     "start_time": "2022-01-03T12:58:22.290082",
     "status": "completed"
    },
    "tags": []
   },
   "outputs": [
    {
     "data": {
      "image/png": "[encoded data removed]",
      "text/plain": [
       "<Figure size 432x288 with 1 Axes>"
      ]
     },
     "metadata": {
      "needs_background": "light"
     },
     "output_type": "display_data"
    },
    {
     "data": {
      "image/png": "[encoded data removed]",
      "text/plain": [
       "<Figure size 432x288 with 1 Axes>"
      ]
     },
     "metadata": {
      "needs_background": "light"
     },
     "output_type": "display_data"
    },
    {
     "data": {
      "image/png": "[encoded data removed]",
      "text/plain": [
       "<Figure size 432x288 with 1 Axes>"
      ]
     },
     "metadata": {
      "needs_background": "light"
     },
     "output_type": "display_data"
    },
    {
     "data": {
      "image/png": "[encoded data removed]",
      "text/plain": [
       "<Figure size 432x288 with 1 Axes>"
      ]
     },
     "metadata": {
      "needs_background": "light"
     },
     "output_type": "display_data"
    },
    {
     "data": {
      "image/png": "[encoded data removed]",
      "text/plain": [
       "<Figure size 432x288 with 1 Axes>"
      ]
     },
     "metadata": {
      "needs_background": "light"
     },
     "output_type": "display_data"
    }
   ],
   "source": [
    "for feature in continuous_feature:\n",
    "    \n",
    "    data = df.copy()\n",
    "    data.boxplot(column=feature)\n",
    "    plt.ylabel(feature)\n",
    "    plt.title(feature)\n",
    "    plt.show()"
   ]
  },
  {
   "cell_type": "markdown",
   "id": "3d8df650",
   "metadata": {
    "papermill": {
     "duration": 0.060611,
     "end_time": "2022-01-03T12:58:23.283906",
     "exception": false,
     "start_time": "2022-01-03T12:58:23.223295",
     "status": "completed"
    },
    "tags": []
   },
   "source": [
    "- Rotational_speed and Torque have outliers in them.\n",
    "\n",
    "- We will be using machine learning models that are robust to outliers"
   ]
  },
  {
   "cell_type": "code",
   "execution_count": null,
   "id": "f7c0d996",
   "metadata": {
    "execution": {
     "iopub.execute_input": "2022-01-03T12:58:23.412708Z",
     "iopub.status.busy": "2022-01-03T12:58:23.409344Z",
     "iopub.status.idle": "2022-01-03T12:58:23.723533Z",
     "shell.execute_reply": "2022-01-03T12:58:23.723096Z",
     "shell.execute_reply.started": "2022-01-03T12:52:01.543645Z"
    },
    "papermill": {
     "duration": 0.378155,
     "end_time": "2022-01-03T12:58:23.723666",
     "exception": false,
     "start_time": "2022-01-03T12:58:23.345511",
     "status": "completed"
    },
    "tags": []
   },
   "outputs": [
    {
     "data": {
      "image/png": "[encoded data removed]",
      "text/plain": [
       "<Figure size 864x720 with 2 Axes>"
      ]
     },
     "metadata": {
      "needs_background": "light"
     },
     "output_type": "display_data"
    }
   ],
   "source": [
    "corr = df.corr()\n",
    "f, ax = plt.subplots(figsize=(12, 10))\n",
    "mask = np.triu(np.ones_like(corr, dtype=bool))[1:, :-1]\n",
    "corr = corr.iloc[1:,:-1].copy()\n",
    "cmap = sns.diverging_palette(230, 20, as_cmap=True)\n",
    "sns.heatmap(corr, annot=True, mask = mask, cmap=cmap)\n",
    "plt.yticks(rotation=0)\n",
    "plt.show()"
   ]
  },
  {
   "cell_type": "markdown",
   "id": "ca4cc65f",
   "metadata": {
    "papermill": {
     "duration": 0.061845,
     "end_time": "2022-01-03T12:58:23.850049",
     "exception": false,
     "start_time": "2022-01-03T12:58:23.788204",
     "status": "completed"
    },
    "tags": []
   },
   "source": [
    "***OBSERVATIONS***\n",
    "- Process_temperature and Air_temperature are highly positively correlated\n",
    "- Torque and Rotational_speed are highly negatively correlated.\n",
    "\n",
    "In Feature Selection we will check whether these features are really required for predicting the Target."
   ]
  },
  {
   "cell_type": "markdown",
   "id": "4a05d090",
   "metadata": {
    "papermill": {
     "duration": 0.066644,
     "end_time": "2022-01-03T12:58:23.980434",
     "exception": false,
     "start_time": "2022-01-03T12:58:23.913790",
     "status": "completed"
    },
    "tags": []
   },
   "source": [
    "## FEATURE ENGINEERING"
   ]
  },
  {
   "cell_type": "code",
   "execution_count": null,
   "id": "f2e17751",
   "metadata": {
    "execution": {
     "iopub.execute_input": "2022-01-03T12:58:24.111667Z",
     "iopub.status.busy": "2022-01-03T12:58:24.111099Z",
     "iopub.status.idle": "2022-01-03T12:58:24.119621Z",
     "shell.execute_reply": "2022-01-03T12:58:24.119144Z",
     "shell.execute_reply.started": "2022-01-03T12:52:01.907411Z"
    },
    "papermill": {
     "duration": 0.075911,
     "end_time": "2022-01-03T12:58:24.119779",
     "exception": false,
     "start_time": "2022-01-03T12:58:24.043868",
     "status": "completed"
    },
    "tags": []
   },
   "outputs": [],
   "source": [
    "X_train_final, X_validation, y_train_final, y_validation = train_test_split(X_train, y_train,  random_state = RS, test_size = 0.20, stratify = y_train)\n",
    "# X_train_final.sort_index(axis = 0, inplace = True)\n",
    "# X_validation.sort_index(axis = 0, inplace = True)\n",
    "# y_train_final.sort_index(axis = 0, inplace = True)\n",
    "# y_validation.sort_index(axis = 0, inplace = True)"
   ]
  },
  {
   "cell_type": "code",
   "execution_count": null,
   "id": "9a14cbfe",
   "metadata": {
    "execution": {
     "iopub.execute_input": "2022-01-03T12:58:24.259180Z",
     "iopub.status.busy": "2022-01-03T12:58:24.258234Z",
     "iopub.status.idle": "2022-01-03T12:58:24.261338Z",
     "shell.execute_reply": "2022-01-03T12:58:24.261794Z",
     "shell.execute_reply.started": "2022-01-03T12:52:01.924407Z"
    },
    "papermill": {
     "duration": 0.080163,
     "end_time": "2022-01-03T12:58:24.261999",
     "exception": false,
     "start_time": "2022-01-03T12:58:24.181836",
     "status": "completed"
    },
    "tags": []
   },
   "outputs": [
    {
     "name": "stderr",
     "output_type": "stream",
     "text": [
      "/opt/conda/lib/python3.7/site-packages/ipykernel_launcher.py:5: SettingWithCopyWarning: \n",
      "A value is trying to be set on a copy of a slice from a DataFrame.\n",
      "Try using .loc[row_indexer,col_indexer] = value instead\n",
      "\n",
      "See the caveats in the documentation: https://pandas.pydata.org/pandas-docs/stable/user_guide/indexing.html#returning-a-view-versus-a-copy\n",
      "  \"\"\"\n",
      "/opt/conda/lib/python3.7/site-packages/ipykernel_launcher.py:6: SettingWithCopyWarning: \n",
      "A value is trying to be set on a copy of a slice from a DataFrame.\n",
      "Try using .loc[row_indexer,col_indexer] = value instead\n",
      "\n",
      "See the caveats in the documentation: https://pandas.pydata.org/pandas-docs/stable/user_guide/indexing.html#returning-a-view-versus-a-copy\n",
      "  \n"
     ]
    }
   ],
   "source": [
    "from sklearn.preprocessing import OrdinalEncoder\n",
    "\n",
    "ord = ['L', 'M', 'H']\n",
    "ordinal_encoder = OrdinalEncoder(categories = [ord])\n",
    "X_train_final['Type'] = ordinal_encoder.fit_transform(X_train_final[['Type']])\n",
    "X_validation['Type'] = ordinal_encoder.transform(X_validation[['Type']])"
   ]
  },
  {
   "cell_type": "code",
   "execution_count": null,
   "id": "0bdcd23d",
   "metadata": {
    "execution": {
     "iopub.execute_input": "2022-01-03T12:58:24.420534Z",
     "iopub.status.busy": "2022-01-03T12:58:24.419614Z",
     "iopub.status.idle": "2022-01-03T12:58:24.424813Z",
     "shell.execute_reply": "2022-01-03T12:58:24.425355Z",
     "shell.execute_reply.started": "2022-01-03T12:52:01.946388Z"
    },
    "papermill": {
     "duration": 0.087149,
     "end_time": "2022-01-03T12:58:24.425515",
     "exception": false,
     "start_time": "2022-01-03T12:58:24.338366",
     "status": "completed"
    },
    "tags": []
   },
   "outputs": [
    {
     "data": {
      "text/plain": [
       "[array(['L', 'M', 'H'], dtype=object)]"
      ]
     },
     "execution_count": 28,
     "metadata": {},
     "output_type": "execute_result"
    }
   ],
   "source": [
    "ordinal_encoder.categories_"
   ]
  },
  {
   "cell_type": "markdown",
   "id": "f4fca2b1",
   "metadata": {
    "papermill": {
     "duration": 0.068067,
     "end_time": "2022-01-03T12:58:24.568288",
     "exception": false,
     "start_time": "2022-01-03T12:58:24.500221",
     "status": "completed"
    },
    "tags": []
   },
   "source": [
    "#### Applying Transformations"
   ]
  },
  {
   "cell_type": "code",
   "execution_count": null,
   "id": "6861f9ab",
   "metadata": {
    "execution": {
     "iopub.execute_input": "2022-01-03T12:58:24.713354Z",
     "iopub.status.busy": "2022-01-03T12:58:24.712407Z",
     "iopub.status.idle": "2022-01-03T12:58:24.730249Z",
     "shell.execute_reply": "2022-01-03T12:58:24.730691Z",
     "shell.execute_reply.started": "2022-01-03T12:52:01.954202Z"
    },
    "papermill": {
     "duration": 0.085543,
     "end_time": "2022-01-03T12:58:24.730906",
     "exception": false,
     "start_time": "2022-01-03T12:58:24.645363",
     "status": "completed"
    },
    "scrolled": true,
    "tags": []
   },
   "outputs": [
    {
     "name": "stderr",
     "output_type": "stream",
     "text": [
      "/opt/conda/lib/python3.7/site-packages/pandas/core/frame.py:3641: SettingWithCopyWarning: \n",
      "A value is trying to be set on a copy of a slice from a DataFrame.\n",
      "Try using .loc[row_indexer,col_indexer] = value instead\n",
      "\n",
      "See the caveats in the documentation: https://pandas.pydata.org/pandas-docs/stable/user_guide/indexing.html#returning-a-view-versus-a-copy\n",
      "  self[k1] = value[k2]\n"
     ]
    }
   ],
   "source": [
    "from sklearn.preprocessing import FunctionTransformer\n",
    "\n",
    "to_transform = ['Air_temperature', 'Process_temperature', 'Rotational_speed', 'Tool_wear']\n",
    "\n",
    "transformer = FunctionTransformer(np.log1p)\n",
    "X_train_final[to_transform] = transformer.fit_transform(X_train_final[to_transform])\n",
    "X_validation[to_transform] = transformer.transform(X_validation[to_transform])"
   ]
  },
  {
   "cell_type": "markdown",
   "id": "96406e37",
   "metadata": {
    "papermill": {
     "duration": 0.063478,
     "end_time": "2022-01-03T12:58:24.857500",
     "exception": false,
     "start_time": "2022-01-03T12:58:24.794022",
     "status": "completed"
    },
    "tags": []
   },
   "source": [
    "#### Scaling the dataset"
   ]
  },
  {
   "cell_type": "code",
   "execution_count": null,
   "id": "7631a5d5",
   "metadata": {
    "execution": {
     "iopub.execute_input": "2022-01-03T12:58:24.988663Z",
     "iopub.status.busy": "2022-01-03T12:58:24.988055Z",
     "iopub.status.idle": "2022-01-03T12:58:25.005584Z",
     "shell.execute_reply": "2022-01-03T12:58:25.006381Z",
     "shell.execute_reply.started": "2022-01-03T12:52:01.981827Z"
    },
    "papermill": {
     "duration": 0.085369,
     "end_time": "2022-01-03T12:58:25.006670",
     "exception": false,
     "start_time": "2022-01-03T12:58:24.921301",
     "status": "completed"
    },
    "tags": []
   },
   "outputs": [
    {
     "name": "stderr",
     "output_type": "stream",
     "text": [
      "/opt/conda/lib/python3.7/site-packages/pandas/core/frame.py:3678: SettingWithCopyWarning: \n",
      "A value is trying to be set on a copy of a slice from a DataFrame.\n",
      "Try using .loc[row_indexer,col_indexer] = value instead\n",
      "\n",
      "See the caveats in the documentation: https://pandas.pydata.org/pandas-docs/stable/user_guide/indexing.html#returning-a-view-versus-a-copy\n",
      "  self[col] = igetitem(value, i)\n",
      "/opt/conda/lib/python3.7/site-packages/pandas/core/frame.py:3678: SettingWithCopyWarning: \n",
      "A value is trying to be set on a copy of a slice from a DataFrame.\n",
      "Try using .loc[row_indexer,col_indexer] = value instead\n",
      "\n",
      "See the caveats in the documentation: https://pandas.pydata.org/pandas-docs/stable/user_guide/indexing.html#returning-a-view-versus-a-copy\n",
      "  self[col] = igetitem(value, i)\n"
     ]
    }
   ],
   "source": [
    "from sklearn.preprocessing import StandardScaler\n",
    "\n",
    "to_scale = ['Air_temperature', 'Process_temperature', 'Rotational_speed', 'Torque', 'Tool_wear']\n",
    "\n",
    "scaler = StandardScaler()\n",
    "X_train_final[to_scale] = scaler.fit_transform(X_train_final[to_scale])\n",
    "X_validation[to_scale] = scaler.transform(X_validation[to_scale])"
   ]
  },
  {
   "cell_type": "code",
   "execution_count": null,
   "id": "1c5db432",
   "metadata": {
    "execution": {
     "iopub.execute_input": "2022-01-03T12:58:25.147714Z",
     "iopub.status.busy": "2022-01-03T12:58:25.146731Z",
     "iopub.status.idle": "2022-01-03T12:58:25.153806Z",
     "shell.execute_reply": "2022-01-03T12:58:25.154323Z",
     "shell.execute_reply.started": "2022-01-03T12:52:02.006599Z"
    },
    "papermill": {
     "duration": 0.080185,
     "end_time": "2022-01-03T12:58:25.154492",
     "exception": false,
     "start_time": "2022-01-03T12:58:25.074307",
     "status": "completed"
    },
    "scrolled": true,
    "tags": []
   },
   "outputs": [
    {
     "data": {
      "text/html": [
       "<div>\n",
       "<style scoped>\n",
       "    .dataframe tbody tr th:only-of-type {\n",
       "        vertical-align: middle;\n",
       "    }\n",
       "\n",
       "    .dataframe tbody tr th {\n",
       "        vertical-align: top;\n",
       "    }\n",
       "\n",
       "    .dataframe thead th {\n",
       "        text-align: right;\n",
       "    }\n",
       "</style>\n",
       "<table border=\"1\" class=\"dataframe\">\n",
       "  <thead>\n",
       "    <tr style=\"text-align: right;\">\n",
       "      <th></th>\n",
       "      <th>Type</th>\n",
       "      <th>Air_temperature</th>\n",
       "      <th>Process_temperature</th>\n",
       "      <th>Rotational_speed</th>\n",
       "      <th>Torque</th>\n",
       "      <th>Tool_wear</th>\n",
       "    </tr>\n",
       "  </thead>\n",
       "  <tbody>\n",
       "    <tr>\n",
       "      <th>1147</th>\n",
       "      <td>1.0</td>\n",
       "      <td>-1.462450</td>\n",
       "      <td>-1.361179</td>\n",
       "      <td>0.935560</td>\n",
       "      <td>-1.451484</td>\n",
       "      <td>0.696741</td>\n",
       "    </tr>\n",
       "    <tr>\n",
       "      <th>8831</th>\n",
       "      <td>2.0</td>\n",
       "      <td>-1.310989</td>\n",
       "      <td>-0.885450</td>\n",
       "      <td>1.131691</td>\n",
       "      <td>-1.330773</td>\n",
       "      <td>0.690436</td>\n",
       "    </tr>\n",
       "    <tr>\n",
       "      <th>5936</th>\n",
       "      <td>1.0</td>\n",
       "      <td>0.245252</td>\n",
       "      <td>0.265429</td>\n",
       "      <td>0.118935</td>\n",
       "      <td>-0.274550</td>\n",
       "      <td>-0.193807</td>\n",
       "    </tr>\n",
       "    <tr>\n",
       "      <th>7866</th>\n",
       "      <td>0.0</td>\n",
       "      <td>0.245252</td>\n",
       "      <td>1.275705</td>\n",
       "      <td>-0.612284</td>\n",
       "      <td>0.942621</td>\n",
       "      <td>-0.749010</td>\n",
       "    </tr>\n",
       "    <tr>\n",
       "      <th>6480</th>\n",
       "      <td>0.0</td>\n",
       "      <td>0.345104</td>\n",
       "      <td>-0.072411</td>\n",
       "      <td>1.392178</td>\n",
       "      <td>-1.350892</td>\n",
       "      <td>0.631836</td>\n",
       "    </tr>\n",
       "  </tbody>\n",
       "</table>\n",
       "</div>"
      ],
      "text/plain": [
       "      Type  Air_temperature  Process_temperature  Rotational_speed    Torque  \\\n",
       "1147   1.0        -1.462450            -1.361179          0.935560 -1.451484   \n",
       "8831   2.0        -1.310989            -0.885450          1.131691 -1.330773   \n",
       "5936   1.0         0.245252             0.265429          0.118935 -0.274550   \n",
       "7866   0.0         0.245252             1.275705         -0.612284  0.942621   \n",
       "6480   0.0         0.345104            -0.072411          1.392178 -1.350892   \n",
       "\n",
       "      Tool_wear  \n",
       "1147   0.696741  \n",
       "8831   0.690436  \n",
       "5936  -0.193807  \n",
       "7866  -0.749010  \n",
       "6480   0.631836  "
      ]
     },
     "execution_count": 31,
     "metadata": {},
     "output_type": "execute_result"
    }
   ],
   "source": [
    "X_train_final.head()"
   ]
  },
  {
   "cell_type": "markdown",
   "id": "baf46429",
   "metadata": {
    "papermill": {
     "duration": 0.064903,
     "end_time": "2022-01-03T12:58:25.282832",
     "exception": false,
     "start_time": "2022-01-03T12:58:25.217929",
     "status": "completed"
    },
    "tags": []
   },
   "source": [
    "## FEATURE SELECTION"
   ]
  },
  {
   "cell_type": "markdown",
   "id": "ac53d12b",
   "metadata": {
    "papermill": {
     "duration": 0.062843,
     "end_time": "2022-01-03T12:58:25.409731",
     "exception": false,
     "start_time": "2022-01-03T12:58:25.346888",
     "status": "completed"
    },
    "tags": []
   },
   "source": [
    "***Checking for constant, quasi constant features***"
   ]
  },
  {
   "cell_type": "code",
   "execution_count": null,
   "id": "8da1bd38",
   "metadata": {
    "execution": {
     "iopub.execute_input": "2022-01-03T12:58:25.539985Z",
     "iopub.status.busy": "2022-01-03T12:58:25.539027Z",
     "iopub.status.idle": "2022-01-03T12:58:25.698431Z",
     "shell.execute_reply": "2022-01-03T12:58:25.697984Z",
     "shell.execute_reply.started": "2022-01-03T12:52:02.023059Z"
    },
    "papermill": {
     "duration": 0.225468,
     "end_time": "2022-01-03T12:58:25.698564",
     "exception": false,
     "start_time": "2022-01-03T12:58:25.473096",
     "status": "completed"
    },
    "tags": []
   },
   "outputs": [
    {
     "data": {
      "text/plain": [
       "VarianceThreshold(threshold=0.01)"
      ]
     },
     "execution_count": 32,
     "metadata": {},
     "output_type": "execute_result"
    }
   ],
   "source": [
    "from sklearn.feature_selection import VarianceThreshold\n",
    "\n",
    "constant_filter = VarianceThreshold(threshold = 0.01)\n",
    "constant_filter.fit(X_train_final)"
   ]
  },
  {
   "cell_type": "code",
   "execution_count": null,
   "id": "8a50041d",
   "metadata": {
    "execution": {
     "iopub.execute_input": "2022-01-03T12:58:25.828879Z",
     "iopub.status.busy": "2022-01-03T12:58:25.827985Z",
     "iopub.status.idle": "2022-01-03T12:58:25.833242Z",
     "shell.execute_reply": "2022-01-03T12:58:25.833764Z",
     "shell.execute_reply.started": "2022-01-03T12:52:02.209020Z"
    },
    "papermill": {
     "duration": 0.071912,
     "end_time": "2022-01-03T12:58:25.833933",
     "exception": false,
     "start_time": "2022-01-03T12:58:25.762021",
     "status": "completed"
    },
    "tags": []
   },
   "outputs": [
    {
     "data": {
      "text/plain": [
       "6"
      ]
     },
     "execution_count": 33,
     "metadata": {},
     "output_type": "execute_result"
    }
   ],
   "source": [
    "constant_filter.get_support().sum()"
   ]
  },
  {
   "cell_type": "markdown",
   "id": "045d82b7",
   "metadata": {
    "papermill": {
     "duration": 0.064438,
     "end_time": "2022-01-03T12:58:25.961936",
     "exception": false,
     "start_time": "2022-01-03T12:58:25.897498",
     "status": "completed"
    },
    "tags": []
   },
   "source": [
    "There are no constant and quasi constant features in the dataset."
   ]
  },
  {
   "cell_type": "markdown",
   "id": "2ffff974",
   "metadata": {
    "papermill": {
     "duration": 0.063684,
     "end_time": "2022-01-03T12:58:26.088982",
     "exception": false,
     "start_time": "2022-01-03T12:58:26.025298",
     "status": "completed"
    },
    "tags": []
   },
   "source": [
    "***Checking for duplicate features***"
   ]
  },
  {
   "cell_type": "code",
   "execution_count": null,
   "id": "25e93974",
   "metadata": {
    "execution": {
     "iopub.execute_input": "2022-01-03T12:58:26.221635Z",
     "iopub.status.busy": "2022-01-03T12:58:26.220647Z",
     "iopub.status.idle": "2022-01-03T12:58:27.326158Z",
     "shell.execute_reply": "2022-01-03T12:58:27.326676Z",
     "shell.execute_reply.started": "2022-01-03T12:52:02.218538Z"
    },
    "papermill": {
     "duration": 1.174255,
     "end_time": "2022-01-03T12:58:27.326855",
     "exception": false,
     "start_time": "2022-01-03T12:58:26.152600",
     "status": "completed"
    },
    "tags": []
   },
   "outputs": [
    {
     "data": {
      "text/plain": [
       "0"
      ]
     },
     "execution_count": 34,
     "metadata": {},
     "output_type": "execute_result"
    }
   ],
   "source": [
    "X_train_T = X_train_final.T\n",
    "X_train_T.duplicated().sum()"
   ]
  },
  {
   "cell_type": "markdown",
   "id": "d5f20ab5",
   "metadata": {
    "papermill": {
     "duration": 0.0641,
     "end_time": "2022-01-03T12:58:27.455646",
     "exception": false,
     "start_time": "2022-01-03T12:58:27.391546",
     "status": "completed"
    },
    "tags": []
   },
   "source": [
    "There are no duplicate features in the dataset"
   ]
  },
  {
   "cell_type": "markdown",
   "id": "b44122c1",
   "metadata": {
    "papermill": {
     "duration": 0.063996,
     "end_time": "2022-01-03T12:58:27.583783",
     "exception": false,
     "start_time": "2022-01-03T12:58:27.519787",
     "status": "completed"
    },
    "tags": []
   },
   "source": [
    "***Checking for multicollinearity***"
   ]
  },
  {
   "cell_type": "code",
   "execution_count": null,
   "id": "1ccfa07f",
   "metadata": {
    "execution": {
     "iopub.execute_input": "2022-01-03T12:58:27.715571Z",
     "iopub.status.busy": "2022-01-03T12:58:27.714972Z",
     "iopub.status.idle": "2022-01-03T12:58:27.964654Z",
     "shell.execute_reply": "2022-01-03T12:58:27.964189Z",
     "shell.execute_reply.started": "2022-01-03T12:52:03.644047Z"
    },
    "papermill": {
     "duration": 0.317019,
     "end_time": "2022-01-03T12:58:27.964805",
     "exception": false,
     "start_time": "2022-01-03T12:58:27.647786",
     "status": "completed"
    },
    "tags": []
   },
   "outputs": [
    {
     "data": {
      "text/plain": [
       "<BarContainer object of 7 artists>"
      ]
     },
     "execution_count": 35,
     "metadata": {},
     "output_type": "execute_result"
    },
    {
     "data": {
      "image/png": "[encoded data removed]",
      "text/plain": [
       "<Figure size 1440x720 with 1 Axes>"
      ]
     },
     "metadata": {
      "needs_background": "light"
     },
     "output_type": "display_data"
    }
   ],
   "source": [
    "df = X_train_final.copy()\n",
    "vif = pd.Series(np.linalg.inv(df.corr().values).diagonal(),index=df.columns,\n",
    "          name='VIF').abs().sort_values(ascending=False).round(2)\n",
    "df = pd.cut(vif.round(1),[0,1,5,10,20,30,40,float('inf')]).value_counts().sort_index()\n",
    "df.index = df.index.map(str)\n",
    "\n",
    "plt.subplots(figsize=(20, 10))\n",
    "plt.bar(x=df.index, height=df)"
   ]
  },
  {
   "cell_type": "markdown",
   "id": "c2f0ed6f",
   "metadata": {
    "papermill": {
     "duration": 0.065563,
     "end_time": "2022-01-03T12:58:28.096550",
     "exception": false,
     "start_time": "2022-01-03T12:58:28.030987",
     "status": "completed"
    },
    "tags": []
   },
   "source": [
    "- Generally VIF > 10 is considered as high, None of the features have VIF value greater than 10."
   ]
  },
  {
   "cell_type": "markdown",
   "id": "ead61f33",
   "metadata": {
    "papermill": {
     "duration": 0.065227,
     "end_time": "2022-01-03T12:58:28.227938",
     "exception": false,
     "start_time": "2022-01-03T12:58:28.162711",
     "status": "completed"
    },
    "tags": []
   },
   "source": [
    "***Feature selection by Recursive Feature Elimination***"
   ]
  },
  {
   "cell_type": "code",
   "execution_count": null,
   "id": "2e948ae6",
   "metadata": {
    "execution": {
     "iopub.execute_input": "2022-01-03T12:58:28.363506Z",
     "iopub.status.busy": "2022-01-03T12:58:28.362783Z",
     "iopub.status.idle": "2022-01-03T12:58:31.189853Z",
     "shell.execute_reply": "2022-01-03T12:58:31.189284Z",
     "shell.execute_reply.started": "2022-01-03T12:52:03.992749Z"
    },
    "papermill": {
     "duration": 2.896918,
     "end_time": "2022-01-03T12:58:31.189991",
     "exception": false,
     "start_time": "2022-01-03T12:58:28.293073",
     "status": "completed"
    },
    "tags": []
   },
   "outputs": [
    {
     "data": {
      "text/plain": [
       "array([False, False,  True, False,  True,  True])"
      ]
     },
     "execution_count": 36,
     "metadata": {},
     "output_type": "execute_result"
    }
   ],
   "source": [
    "from sklearn.ensemble import RandomForestRegressor\n",
    "from sklearn.feature_selection import RFE\n",
    "\n",
    "sel = RFE(RandomForestRegressor(n_estimators = 100, random_state = 0, n_jobs = -1))\n",
    "sel.fit(X_train_final, y_train_final)\n",
    "sel.get_support()"
   ]
  },
  {
   "cell_type": "code",
   "execution_count": null,
   "id": "89d942a0",
   "metadata": {
    "execution": {
     "iopub.execute_input": "2022-01-03T12:58:31.324563Z",
     "iopub.status.busy": "2022-01-03T12:58:31.323668Z",
     "iopub.status.idle": "2022-01-03T12:58:31.329698Z",
     "shell.execute_reply": "2022-01-03T12:58:31.329272Z",
     "shell.execute_reply.started": "2022-01-03T12:52:07.109875Z"
    },
    "papermill": {
     "duration": 0.074373,
     "end_time": "2022-01-03T12:58:31.329847",
     "exception": false,
     "start_time": "2022-01-03T12:58:31.255474",
     "status": "completed"
    },
    "tags": []
   },
   "outputs": [
    {
     "data": {
      "text/plain": [
       "Index(['Process_temperature', 'Torque', 'Tool_wear'], dtype='object')"
      ]
     },
     "execution_count": 37,
     "metadata": {},
     "output_type": "execute_result"
    }
   ],
   "source": [
    "features = X_train_final.columns[sel.get_support()]\n",
    "features"
   ]
  },
  {
   "cell_type": "markdown",
   "id": "846f579d",
   "metadata": {
    "papermill": {
     "duration": 0.06586,
     "end_time": "2022-01-03T12:58:31.461625",
     "exception": false,
     "start_time": "2022-01-03T12:58:31.395765",
     "status": "completed"
    },
    "tags": []
   },
   "source": [
    "Only these features contribute in predicting."
   ]
  },
  {
   "cell_type": "code",
   "execution_count": null,
   "id": "c6b8f6fa",
   "metadata": {
    "execution": {
     "iopub.execute_input": "2022-01-03T12:58:31.596052Z",
     "iopub.status.busy": "2022-01-03T12:58:31.595412Z",
     "iopub.status.idle": "2022-01-03T12:58:31.602558Z",
     "shell.execute_reply": "2022-01-03T12:58:31.602987Z",
     "shell.execute_reply.started": "2022-01-03T12:52:07.118903Z"
    },
    "papermill": {
     "duration": 0.0758,
     "end_time": "2022-01-03T12:58:31.603155",
     "exception": false,
     "start_time": "2022-01-03T12:58:31.527355",
     "status": "completed"
    },
    "tags": []
   },
   "outputs": [
    {
     "data": {
      "text/plain": [
       "((7600, 3), (7600,))"
      ]
     },
     "execution_count": 38,
     "metadata": {},
     "output_type": "execute_result"
    }
   ],
   "source": [
    "X_train_sel = pd.DataFrame(sel.transform(X_train_final), columns = features)\n",
    "X_train_sel.shape, y_train_final.shape"
   ]
  },
  {
   "cell_type": "markdown",
   "id": "dc88562d",
   "metadata": {
    "papermill": {
     "duration": 0.065585,
     "end_time": "2022-01-03T12:58:31.734431",
     "exception": false,
     "start_time": "2022-01-03T12:58:31.668846",
     "status": "completed"
    },
    "tags": []
   },
   "source": [
    "### SMOTE"
   ]
  },
  {
   "cell_type": "code",
   "execution_count": null,
   "id": "1b41f88d",
   "metadata": {
    "execution": {
     "iopub.execute_input": "2022-01-03T12:58:31.870133Z",
     "iopub.status.busy": "2022-01-03T12:58:31.869343Z",
     "iopub.status.idle": "2022-01-03T12:58:31.997448Z",
     "shell.execute_reply": "2022-01-03T12:58:31.996823Z",
     "shell.execute_reply.started": "2022-01-03T12:52:07.136719Z"
    },
    "papermill": {
     "duration": 0.197574,
     "end_time": "2022-01-03T12:58:31.997590",
     "exception": false,
     "start_time": "2022-01-03T12:58:31.800016",
     "status": "completed"
    },
    "tags": []
   },
   "outputs": [],
   "source": [
    "from imblearn.over_sampling import SMOTE\n",
    "oversample = SMOTE(random_state = RS)\n",
    "X_train_upsampled, y_train_upsampled = oversample.fit_resample(X_train_sel, y_train_final)"
   ]
  },
  {
   "cell_type": "code",
   "execution_count": null,
   "id": "7069f04b",
   "metadata": {
    "execution": {
     "iopub.execute_input": "2022-01-03T12:58:32.134095Z",
     "iopub.status.busy": "2022-01-03T12:58:32.133172Z",
     "iopub.status.idle": "2022-01-03T12:58:32.138227Z",
     "shell.execute_reply": "2022-01-03T12:58:32.138732Z",
     "shell.execute_reply.started": "2022-01-03T12:52:07.290934Z"
    },
    "papermill": {
     "duration": 0.075297,
     "end_time": "2022-01-03T12:58:32.138910",
     "exception": false,
     "start_time": "2022-01-03T12:58:32.063613",
     "status": "completed"
    },
    "tags": []
   },
   "outputs": [
    {
     "data": {
      "text/plain": [
       "((14684, 3), (14684,))"
      ]
     },
     "execution_count": 40,
     "metadata": {},
     "output_type": "execute_result"
    }
   ],
   "source": [
    "X_train_upsampled.shape, y_train_upsampled.shape"
   ]
  },
  {
   "cell_type": "code",
   "execution_count": null,
   "id": "c2ac94d2",
   "metadata": {
    "execution": {
     "iopub.execute_input": "2022-01-03T12:58:32.278732Z",
     "iopub.status.busy": "2022-01-03T12:58:32.278056Z",
     "iopub.status.idle": "2022-01-03T12:58:32.280908Z",
     "shell.execute_reply": "2022-01-03T12:58:32.281340Z",
     "shell.execute_reply.started": "2022-01-03T12:52:07.302308Z"
    },
    "papermill": {
     "duration": 0.076703,
     "end_time": "2022-01-03T12:58:32.281494",
     "exception": false,
     "start_time": "2022-01-03T12:58:32.204791",
     "status": "completed"
    },
    "tags": []
   },
   "outputs": [
    {
     "data": {
      "text/plain": [
       "((1900, 3), (1900,))"
      ]
     },
     "execution_count": 41,
     "metadata": {},
     "output_type": "execute_result"
    }
   ],
   "source": [
    "X_validation_sel = pd.DataFrame(sel.transform(X_validation), columns = features)\n",
    "X_validation_sel.shape, y_validation.shape"
   ]
  },
  {
   "cell_type": "markdown",
   "id": "37a6b8c3",
   "metadata": {
    "papermill": {
     "duration": 0.066334,
     "end_time": "2022-01-03T12:58:32.413652",
     "exception": false,
     "start_time": "2022-01-03T12:58:32.347318",
     "status": "completed"
    },
    "tags": []
   },
   "source": [
    "## MODEL BUILDING"
   ]
  },
  {
   "cell_type": "code",
   "execution_count": null,
   "id": "da35abb7",
   "metadata": {
    "execution": {
     "iopub.execute_input": "2022-01-03T12:58:32.551678Z",
     "iopub.status.busy": "2022-01-03T12:58:32.550783Z",
     "iopub.status.idle": "2022-01-03T12:58:32.553543Z",
     "shell.execute_reply": "2022-01-03T12:58:32.552999Z",
     "shell.execute_reply.started": "2022-01-03T12:52:07.316540Z"
    },
    "papermill": {
     "duration": 0.074109,
     "end_time": "2022-01-03T12:58:32.553670",
     "exception": false,
     "start_time": "2022-01-03T12:58:32.479561",
     "status": "completed"
    },
    "tags": []
   },
   "outputs": [],
   "source": [
    "def fit_models(model, X_train, X_test, y_train, y_test):\n",
    "    \n",
    "    model.fit(X_train, y_train)\n",
    "    pred = model.predict(X_test)\n",
    "    \n",
    "    accuracy = metrics.accuracy_score(y_test,pred)  \n",
    "    precision = metrics.precision_score(y_test,pred)   \n",
    "    recall = metrics.recall_score(y_test,pred)  \n",
    "    f1 = metrics.f1_score(y_test,pred)\n",
    "    loss = metrics.log_loss(y_test,pred)\n",
    "    \n",
    "    return accuracy, precision, recall, f1, loss"
   ]
  },
  {
   "cell_type": "code",
   "execution_count": null,
   "id": "f9197d15",
   "metadata": {
    "execution": {
     "iopub.execute_input": "2022-01-03T12:58:32.694831Z",
     "iopub.status.busy": "2022-01-03T12:58:32.694139Z",
     "iopub.status.idle": "2022-01-03T12:58:43.875918Z",
     "shell.execute_reply": "2022-01-03T12:58:43.876431Z",
     "shell.execute_reply.started": "2022-01-03T12:52:07.331143Z"
    },
    "papermill": {
     "duration": 11.257039,
     "end_time": "2022-01-03T12:58:43.876600",
     "exception": false,
     "start_time": "2022-01-03T12:58:32.619561",
     "status": "completed"
    },
    "tags": []
   },
   "outputs": [
    {
     "name": "stderr",
     "output_type": "stream",
     "text": [
      "/opt/conda/lib/python3.7/site-packages/xgboost/sklearn.py:1224: UserWarning: The use of label encoder in XGBClassifier is deprecated and will be removed in a future release. To remove this warning, do the following: 1) Pass option use_label_encoder=False when constructing XGBClassifier object; and 2) Encode your labels (y) as integers starting with 0, i.e. 0, 1, 2, ..., [num_class - 1].\n",
      "  warnings.warn(label_encoder_deprecation_msg, UserWarning)\n"
     ]
    },
    {
     "name": "stdout",
     "output_type": "stream",
     "text": [
      "[12:58:43] WARNING: ../src/learner.cc:1115: Starting in XGBoost 1.3.0, the default evaluation metric used with the objective 'binary:logistic' was changed from 'error' to 'logloss'. Explicitly set eval_metric if you'd like to restore the old behavior.\n"
     ]
    }
   ],
   "source": [
    "from scipy import stats\n",
    "from sklearn import metrics\n",
    "from sklearn.model_selection import cross_validate\n",
    "from sklearn.linear_model import LogisticRegression\n",
    "from sklearn.naive_bayes import GaussianNB\n",
    "from sklearn.neighbors import KNeighborsClassifier\n",
    "from sklearn.svm import SVC\n",
    "from sklearn.tree import DecisionTreeClassifier\n",
    "from sklearn.ensemble import BaggingClassifier\n",
    "from sklearn.ensemble import AdaBoostClassifier\n",
    "from sklearn.ensemble import GradientBoostingClassifier\n",
    "from sklearn.ensemble import RandomForestClassifier\n",
    "from xgboost import XGBClassifier\n",
    "\n",
    "lr = LogisticRegression(random_state = RS)\n",
    "gnb = GaussianNB()\n",
    "knn = KNeighborsClassifier()\n",
    "svm = SVC(random_state = RS)\n",
    "dT_gini = DecisionTreeClassifier(random_state = RS)\n",
    "dT_entropy = DecisionTreeClassifier(random_state = RS)\n",
    "bgcl = BaggingClassifier(n_estimators=100,random_state = RS)\n",
    "abcl = AdaBoostClassifier(n_estimators=100, random_state = RS)\n",
    "gbcl = GradientBoostingClassifier(n_estimators = 100,random_state = RS)\n",
    "rfcl = RandomForestClassifier(n_estimators = 100, random_state = RS)\n",
    "xgbcl = XGBClassifier(n_estimators = 100, random_state = RS)\n",
    "\n",
    "result = {}\n",
    "\n",
    "for model,name in zip([lr, gnb, knn, svm, dT_gini, dT_entropy, bgcl, abcl, gbcl, rfcl, xgbcl],\n",
    "                     ['Logistic Regression', 'Gaussian NB', 'KNN', 'SVC', 'Decision Tree(gini)',\n",
    "                     'Decision Tree(entropy)', 'Bagging Classifier', 'Adaptive Boosting', \n",
    "                      'Gradient Boosting', 'Random Forest Classifier', 'XGB Classifier']):\n",
    "    result[name] = fit_models(model,X_train_upsampled, X_validation_sel, y_train_upsampled, y_validation)"
   ]
  },
  {
   "cell_type": "code",
   "execution_count": null,
   "id": "eb50e51b",
   "metadata": {
    "execution": {
     "iopub.execute_input": "2022-01-03T12:58:44.020540Z",
     "iopub.status.busy": "2022-01-03T12:58:44.016915Z",
     "iopub.status.idle": "2022-01-03T12:58:44.030015Z",
     "shell.execute_reply": "2022-01-03T12:58:44.029564Z",
     "shell.execute_reply.started": "2022-01-03T12:52:19.158082Z"
    },
    "papermill": {
     "duration": 0.082638,
     "end_time": "2022-01-03T12:58:44.030155",
     "exception": false,
     "start_time": "2022-01-03T12:58:43.947517",
     "status": "completed"
    },
    "scrolled": true,
    "tags": []
   },
   "outputs": [
    {
     "data": {
      "text/html": [
       "<div>\n",
       "<style scoped>\n",
       "    .dataframe tbody tr th:only-of-type {\n",
       "        vertical-align: middle;\n",
       "    }\n",
       "\n",
       "    .dataframe tbody tr th {\n",
       "        vertical-align: top;\n",
       "    }\n",
       "\n",
       "    .dataframe thead th {\n",
       "        text-align: right;\n",
       "    }\n",
       "</style>\n",
       "<table border=\"1\" class=\"dataframe\">\n",
       "  <thead>\n",
       "    <tr style=\"text-align: right;\">\n",
       "      <th></th>\n",
       "      <th>ACCURACY</th>\n",
       "      <th>PRECISION</th>\n",
       "      <th>RECALL</th>\n",
       "      <th>F1-SCORE</th>\n",
       "      <th>LOG LOSS</th>\n",
       "    </tr>\n",
       "    <tr>\n",
       "      <th>Model</th>\n",
       "      <th></th>\n",
       "      <th></th>\n",
       "      <th></th>\n",
       "      <th></th>\n",
       "      <th></th>\n",
       "    </tr>\n",
       "  </thead>\n",
       "  <tbody>\n",
       "    <tr>\n",
       "      <th>Logistic Regression</th>\n",
       "      <td>0.732105</td>\n",
       "      <td>0.085661</td>\n",
       "      <td>0.718750</td>\n",
       "      <td>0.153078</td>\n",
       "      <td>9.252963</td>\n",
       "    </tr>\n",
       "    <tr>\n",
       "      <th>Gaussian NB</th>\n",
       "      <td>0.788947</td>\n",
       "      <td>0.112644</td>\n",
       "      <td>0.765625</td>\n",
       "      <td>0.196393</td>\n",
       "      <td>7.289662</td>\n",
       "    </tr>\n",
       "    <tr>\n",
       "      <th>KNN</th>\n",
       "      <td>0.896316</td>\n",
       "      <td>0.199095</td>\n",
       "      <td>0.687500</td>\n",
       "      <td>0.308772</td>\n",
       "      <td>3.581200</td>\n",
       "    </tr>\n",
       "    <tr>\n",
       "      <th>SVC</th>\n",
       "      <td>0.824737</td>\n",
       "      <td>0.146982</td>\n",
       "      <td>0.875000</td>\n",
       "      <td>0.251685</td>\n",
       "      <td>6.053512</td>\n",
       "    </tr>\n",
       "    <tr>\n",
       "      <th>Decision Tree(gini)</th>\n",
       "      <td>0.931579</td>\n",
       "      <td>0.260870</td>\n",
       "      <td>0.562500</td>\n",
       "      <td>0.356436</td>\n",
       "      <td>2.363222</td>\n",
       "    </tr>\n",
       "    <tr>\n",
       "      <th>Decision Tree(entropy)</th>\n",
       "      <td>0.931579</td>\n",
       "      <td>0.260870</td>\n",
       "      <td>0.562500</td>\n",
       "      <td>0.356436</td>\n",
       "      <td>2.363222</td>\n",
       "    </tr>\n",
       "    <tr>\n",
       "      <th>Bagging Classifier</th>\n",
       "      <td>0.937368</td>\n",
       "      <td>0.286822</td>\n",
       "      <td>0.578125</td>\n",
       "      <td>0.383420</td>\n",
       "      <td>2.163257</td>\n",
       "    </tr>\n",
       "    <tr>\n",
       "      <th>Adaptive Boosting</th>\n",
       "      <td>0.879474</td>\n",
       "      <td>0.193309</td>\n",
       "      <td>0.812500</td>\n",
       "      <td>0.312312</td>\n",
       "      <td>4.162923</td>\n",
       "    </tr>\n",
       "    <tr>\n",
       "      <th>Gradient Boosting</th>\n",
       "      <td>0.858421</td>\n",
       "      <td>0.172524</td>\n",
       "      <td>0.843750</td>\n",
       "      <td>0.286472</td>\n",
       "      <td>4.890073</td>\n",
       "    </tr>\n",
       "    <tr>\n",
       "      <th>Random Forest Classifier</th>\n",
       "      <td>0.940000</td>\n",
       "      <td>0.301587</td>\n",
       "      <td>0.593750</td>\n",
       "      <td>0.400000</td>\n",
       "      <td>2.072364</td>\n",
       "    </tr>\n",
       "    <tr>\n",
       "      <th>XGB Classifier</th>\n",
       "      <td>0.962632</td>\n",
       "      <td>0.454545</td>\n",
       "      <td>0.546875</td>\n",
       "      <td>0.496454</td>\n",
       "      <td>1.290677</td>\n",
       "    </tr>\n",
       "  </tbody>\n",
       "</table>\n",
       "</div>"
      ],
      "text/plain": [
       "                          ACCURACY  PRECISION    RECALL  F1-SCORE  LOG LOSS\n",
       "Model                                                                      \n",
       "Logistic Regression       0.732105   0.085661  0.718750  0.153078  9.252963\n",
       "Gaussian NB               0.788947   0.112644  0.765625  0.196393  7.289662\n",
       "KNN                       0.896316   0.199095  0.687500  0.308772  3.581200\n",
       "SVC                       0.824737   0.146982  0.875000  0.251685  6.053512\n",
       "Decision Tree(gini)       0.931579   0.260870  0.562500  0.356436  2.363222\n",
       "Decision Tree(entropy)    0.931579   0.260870  0.562500  0.356436  2.363222\n",
       "Bagging Classifier        0.937368   0.286822  0.578125  0.383420  2.163257\n",
       "Adaptive Boosting         0.879474   0.193309  0.812500  0.312312  4.162923\n",
       "Gradient Boosting         0.858421   0.172524  0.843750  0.286472  4.890073\n",
       "Random Forest Classifier  0.940000   0.301587  0.593750  0.400000  2.072364\n",
       "XGB Classifier            0.962632   0.454545  0.546875  0.496454  1.290677"
      ]
     },
     "execution_count": 44,
     "metadata": {},
     "output_type": "execute_result"
    }
   ],
   "source": [
    "result1 = pd.DataFrame(np.array(list(result.values())),    # make a dataframe out of the metrics from result dictionary \n",
    "                       columns= ['ACCURACY', 'PRECISION', 'RECALL', 'F1-SCORE', 'LOG LOSS'], \n",
    "                       index= result.keys())   # use the model names as index\n",
    "\n",
    "result1.index.name = 'Model'   # name the index of the result1 dataframe as 'Model'\n",
    "\n",
    "result1 "
   ]
  },
  {
   "cell_type": "markdown",
   "id": "63c4d29e",
   "metadata": {
    "papermill": {
     "duration": 0.067439,
     "end_time": "2022-01-03T12:58:44.165136",
     "exception": false,
     "start_time": "2022-01-03T12:58:44.097697",
     "status": "completed"
    },
    "tags": []
   },
   "source": [
    "XGB Classifier outperforms the other models. Let us build our models using XGB Classifier."
   ]
  },
  {
   "cell_type": "markdown",
   "id": "3c30be14",
   "metadata": {
    "papermill": {
     "duration": 0.067839,
     "end_time": "2022-01-03T12:58:44.300370",
     "exception": false,
     "start_time": "2022-01-03T12:58:44.232531",
     "status": "completed"
    },
    "tags": []
   },
   "source": [
    "### XGB Classifier"
   ]
  },
  {
   "cell_type": "code",
   "execution_count": null,
   "id": "fc66437f",
   "metadata": {
    "execution": {
     "iopub.execute_input": "2022-01-03T12:58:44.439434Z",
     "iopub.status.busy": "2022-01-03T12:58:44.438819Z",
     "iopub.status.idle": "2022-01-03T12:58:45.266799Z",
     "shell.execute_reply": "2022-01-03T12:58:45.266220Z",
     "shell.execute_reply.started": "2022-01-03T12:52:19.179352Z"
    },
    "papermill": {
     "duration": 0.899085,
     "end_time": "2022-01-03T12:58:45.266932",
     "exception": false,
     "start_time": "2022-01-03T12:58:44.367847",
     "status": "completed"
    },
    "tags": []
   },
   "outputs": [
    {
     "name": "stderr",
     "output_type": "stream",
     "text": [
      "/opt/conda/lib/python3.7/site-packages/xgboost/sklearn.py:1224: UserWarning: The use of label encoder in XGBClassifier is deprecated and will be removed in a future release. To remove this warning, do the following: 1) Pass option use_label_encoder=False when constructing XGBClassifier object; and 2) Encode your labels (y) as integers starting with 0, i.e. 0, 1, 2, ..., [num_class - 1].\n",
      "  warnings.warn(label_encoder_deprecation_msg, UserWarning)\n"
     ]
    },
    {
     "name": "stdout",
     "output_type": "stream",
     "text": [
      "[12:58:44] WARNING: ../src/learner.cc:1115: Starting in XGBoost 1.3.0, the default evaluation metric used with the objective 'binary:logistic' was changed from 'error' to 'logloss'. Explicitly set eval_metric if you'd like to restore the old behavior.\n"
     ]
    },
    {
     "data": {
      "text/plain": [
       "XGBClassifier(base_score=0.5, booster='gbtree', colsample_bylevel=1,\n",
       "              colsample_bynode=1, colsample_bytree=1, enable_categorical=False,\n",
       "              gamma=0, gpu_id=-1, importance_type=None,\n",
       "              interaction_constraints='', learning_rate=0.300000012,\n",
       "              max_delta_step=0, max_depth=6, min_child_weight=1, missing=nan,\n",
       "              monotone_constraints='()', n_estimators=100, n_jobs=4,\n",
       "              num_parallel_tree=1, predictor='auto', random_state=42,\n",
       "              reg_alpha=0, reg_lambda=1, scale_pos_weight=1, subsample=1,\n",
       "              tree_method='exact', validate_parameters=1, verbosity=None)"
      ]
     },
     "execution_count": 45,
     "metadata": {},
     "output_type": "execute_result"
    }
   ],
   "source": [
    "xgb_clf = XGBClassifier(n_estimators = 100, random_state = RS)\n",
    "xgb_clf.fit(X_train_upsampled, y_train_upsampled)"
   ]
  },
  {
   "cell_type": "code",
   "execution_count": null,
   "id": "80d8a7f6",
   "metadata": {
    "execution": {
     "iopub.execute_input": "2022-01-03T12:58:45.408813Z",
     "iopub.status.busy": "2022-01-03T12:58:45.408229Z",
     "iopub.status.idle": "2022-01-03T12:58:45.434383Z",
     "shell.execute_reply": "2022-01-03T12:58:45.434901Z",
     "shell.execute_reply.started": "2022-01-03T12:52:21.074477Z"
    },
    "papermill": {
     "duration": 0.099682,
     "end_time": "2022-01-03T12:58:45.435070",
     "exception": false,
     "start_time": "2022-01-03T12:58:45.335388",
     "status": "completed"
    },
    "tags": []
   },
   "outputs": [
    {
     "data": {
      "text/html": [
       "<div>\n",
       "<style scoped>\n",
       "    .dataframe tbody tr th:only-of-type {\n",
       "        vertical-align: middle;\n",
       "    }\n",
       "\n",
       "    .dataframe tbody tr th {\n",
       "        vertical-align: top;\n",
       "    }\n",
       "\n",
       "    .dataframe thead th {\n",
       "        text-align: right;\n",
       "    }\n",
       "</style>\n",
       "<table border=\"1\" class=\"dataframe\">\n",
       "  <thead>\n",
       "    <tr style=\"text-align: right;\">\n",
       "      <th></th>\n",
       "      <th>precision</th>\n",
       "      <th>recall</th>\n",
       "      <th>f1-score</th>\n",
       "      <th>support</th>\n",
       "    </tr>\n",
       "  </thead>\n",
       "  <tbody>\n",
       "    <tr>\n",
       "      <th>0</th>\n",
       "      <td>0.984092</td>\n",
       "      <td>0.977124</td>\n",
       "      <td>0.980596</td>\n",
       "      <td>1836.000000</td>\n",
       "    </tr>\n",
       "    <tr>\n",
       "      <th>1</th>\n",
       "      <td>0.454545</td>\n",
       "      <td>0.546875</td>\n",
       "      <td>0.496454</td>\n",
       "      <td>64.000000</td>\n",
       "    </tr>\n",
       "    <tr>\n",
       "      <th>accuracy</th>\n",
       "      <td>0.962632</td>\n",
       "      <td>0.962632</td>\n",
       "      <td>0.962632</td>\n",
       "      <td>0.962632</td>\n",
       "    </tr>\n",
       "    <tr>\n",
       "      <th>macro avg</th>\n",
       "      <td>0.719319</td>\n",
       "      <td>0.762000</td>\n",
       "      <td>0.738525</td>\n",
       "      <td>1900.000000</td>\n",
       "    </tr>\n",
       "    <tr>\n",
       "      <th>weighted avg</th>\n",
       "      <td>0.966255</td>\n",
       "      <td>0.962632</td>\n",
       "      <td>0.964288</td>\n",
       "      <td>1900.000000</td>\n",
       "    </tr>\n",
       "  </tbody>\n",
       "</table>\n",
       "</div>"
      ],
      "text/plain": [
       "              precision    recall  f1-score      support\n",
       "0              0.984092  0.977124  0.980596  1836.000000\n",
       "1              0.454545  0.546875  0.496454    64.000000\n",
       "accuracy       0.962632  0.962632  0.962632     0.962632\n",
       "macro avg      0.719319  0.762000  0.738525  1900.000000\n",
       "weighted avg   0.966255  0.962632  0.964288  1900.000000"
      ]
     },
     "execution_count": 46,
     "metadata": {},
     "output_type": "execute_result"
    }
   ],
   "source": [
    "from sklearn.metrics import classification_report, confusion_matrix\n",
    "from sklearn.model_selection import GridSearchCV\n",
    "\n",
    "\n",
    "pred = xgb_clf.predict(X_validation_sel)\n",
    "report = pd.DataFrame(classification_report(y_validation, pred, output_dict=True)).T\n",
    "report"
   ]
  },
  {
   "cell_type": "markdown",
   "id": "67333790",
   "metadata": {
    "papermill": {
     "duration": 0.069141,
     "end_time": "2022-01-03T12:58:45.572821",
     "exception": false,
     "start_time": "2022-01-03T12:58:45.503680",
     "status": "completed"
    },
    "tags": []
   },
   "source": [
    "***Hyperparameter tuning***"
   ]
  },
  {
   "cell_type": "code",
   "execution_count": null,
   "id": "762f650d",
   "metadata": {
    "execution": {
     "iopub.execute_input": "2022-01-03T12:58:45.714826Z",
     "iopub.status.busy": "2022-01-03T12:58:45.712958Z",
     "iopub.status.idle": "2022-01-03T12:58:45.717487Z",
     "shell.execute_reply": "2022-01-03T12:58:45.717048Z",
     "shell.execute_reply.started": "2022-01-03T12:52:21.109314Z"
    },
    "papermill": {
     "duration": 0.07554,
     "end_time": "2022-01-03T12:58:45.717619",
     "exception": false,
     "start_time": "2022-01-03T12:58:45.642079",
     "status": "completed"
    },
    "tags": []
   },
   "outputs": [],
   "source": [
    "params={'n_estimators':[500,700,800,900],\n",
    "       'max_depth':[1,3,5,7,9],\n",
    "       'learning_rate':[0.01,0.1],\n",
    "        'objective':['binary:logistic'],\n",
    "        'eval_metric':['error']\n",
    "       }"
   ]
  },
  {
   "cell_type": "code",
   "execution_count": null,
   "id": "0234e799",
   "metadata": {
    "execution": {
     "iopub.execute_input": "2022-01-03T12:58:45.858587Z",
     "iopub.status.busy": "2022-01-03T12:58:45.858013Z",
     "iopub.status.idle": "2022-01-03T12:58:45.859769Z",
     "shell.execute_reply": "2022-01-03T12:58:45.860193Z",
     "shell.execute_reply.started": "2022-01-03T12:52:21.117332Z"
    },
    "papermill": {
     "duration": 0.074652,
     "end_time": "2022-01-03T12:58:45.860343",
     "exception": false,
     "start_time": "2022-01-03T12:58:45.785691",
     "status": "completed"
    },
    "tags": []
   },
   "outputs": [],
   "source": [
    "xgb_clf_hp = XGBClassifier(use_label_encoder=False)\n",
    "\n",
    "grd_xgb = GridSearchCV(xgb_clf_hp, param_grid=params, cv=2)"
   ]
  },
  {
   "cell_type": "code",
   "execution_count": null,
   "id": "7a993448",
   "metadata": {
    "execution": {
     "iopub.execute_input": "2022-01-03T12:58:46.001853Z",
     "iopub.status.busy": "2022-01-03T12:58:46.001265Z",
     "iopub.status.idle": "2022-01-03T13:03:43.462049Z",
     "shell.execute_reply": "2022-01-03T13:03:43.462524Z",
     "shell.execute_reply.started": "2022-01-03T12:52:21.130014Z"
    },
    "papermill": {
     "duration": 297.533864,
     "end_time": "2022-01-03T13:03:43.462696",
     "exception": false,
     "start_time": "2022-01-03T12:58:45.928832",
     "status": "completed"
    },
    "tags": []
   },
   "outputs": [
    {
     "data": {
      "text/plain": [
       "GridSearchCV(cv=2,\n",
       "             estimator=XGBClassifier(base_score=None, booster=None,\n",
       "                                     colsample_bylevel=None,\n",
       "                                     colsample_bynode=None,\n",
       "                                     colsample_bytree=None,\n",
       "                                     enable_categorical=False, gamma=None,\n",
       "                                     gpu_id=None, importance_type=None,\n",
       "                                     interaction_constraints=None,\n",
       "                                     learning_rate=None, max_delta_step=None,\n",
       "                                     max_depth=None, min_child_weight=None,\n",
       "                                     missing=nan, monotone_constraints=None,...\n",
       "                                     num_parallel_tree=None, predictor=None,\n",
       "                                     random_state=None, reg_alpha=None,\n",
       "                                     reg_lambda=None, scale_pos_weight=None,\n",
       "                                     subsample=None, tree_method=None,\n",
       "                                     use_label_encoder=False,\n",
       "                                     validate_parameters=None, verbosity=None),\n",
       "             param_grid={'eval_metric': ['error'], 'learning_rate': [0.01, 0.1],\n",
       "                         'max_depth': [1, 3, 5, 7, 9],\n",
       "                         'n_estimators': [500, 700, 800, 900],\n",
       "                         'objective': ['binary:logistic']})"
      ]
     },
     "execution_count": 49,
     "metadata": {},
     "output_type": "execute_result"
    }
   ],
   "source": [
    "grd_xgb.fit(X_train_upsampled, y_train_upsampled)"
   ]
  },
  {
   "cell_type": "code",
   "execution_count": null,
   "id": "23764b47",
   "metadata": {
    "execution": {
     "iopub.execute_input": "2022-01-03T13:03:43.605798Z",
     "iopub.status.busy": "2022-01-03T13:03:43.605007Z",
     "iopub.status.idle": "2022-01-03T13:03:43.608034Z",
     "shell.execute_reply": "2022-01-03T13:03:43.608483Z",
     "shell.execute_reply.started": "2022-01-03T12:57:27.247059Z"
    },
    "papermill": {
     "duration": 0.077699,
     "end_time": "2022-01-03T13:03:43.608641",
     "exception": false,
     "start_time": "2022-01-03T13:03:43.530942",
     "status": "completed"
    },
    "tags": []
   },
   "outputs": [
    {
     "data": {
      "text/plain": [
       "{'eval_metric': 'error',\n",
       " 'learning_rate': 0.1,\n",
       " 'max_depth': 5,\n",
       " 'n_estimators': 800,\n",
       " 'objective': 'binary:logistic'}"
      ]
     },
     "execution_count": 50,
     "metadata": {},
     "output_type": "execute_result"
    }
   ],
   "source": [
    "grd_xgb.best_params_"
   ]
  },
  {
   "cell_type": "code",
   "execution_count": null,
   "id": "84155d69",
   "metadata": {
    "execution": {
     "iopub.execute_input": "2022-01-03T13:03:43.751896Z",
     "iopub.status.busy": "2022-01-03T13:03:43.750956Z",
     "iopub.status.idle": "2022-01-03T13:03:43.755380Z",
     "shell.execute_reply": "2022-01-03T13:03:43.754776Z",
     "shell.execute_reply.started": "2022-01-03T12:57:27.255198Z"
    },
    "papermill": {
     "duration": 0.076295,
     "end_time": "2022-01-03T13:03:43.755514",
     "exception": false,
     "start_time": "2022-01-03T13:03:43.679219",
     "status": "completed"
    },
    "tags": []
   },
   "outputs": [],
   "source": [
    "xgb_clf_hp = XGBClassifier(**grd_xgb.best_params_)"
   ]
  },
  {
   "cell_type": "code",
   "execution_count": null,
   "id": "67f72152",
   "metadata": {
    "execution": {
     "iopub.execute_input": "2022-01-03T13:03:43.899145Z",
     "iopub.status.busy": "2022-01-03T13:03:43.898187Z",
     "iopub.status.idle": "2022-01-03T13:03:49.511245Z",
     "shell.execute_reply": "2022-01-03T13:03:49.510686Z",
     "shell.execute_reply.started": "2022-01-03T12:57:27.268710Z"
    },
    "papermill": {
     "duration": 5.686438,
     "end_time": "2022-01-03T13:03:49.511395",
     "exception": false,
     "start_time": "2022-01-03T13:03:43.824957",
     "status": "completed"
    },
    "tags": []
   },
   "outputs": [
    {
     "name": "stderr",
     "output_type": "stream",
     "text": [
      "/opt/conda/lib/python3.7/site-packages/xgboost/sklearn.py:1224: UserWarning: The use of label encoder in XGBClassifier is deprecated and will be removed in a future release. To remove this warning, do the following: 1) Pass option use_label_encoder=False when constructing XGBClassifier object; and 2) Encode your labels (y) as integers starting with 0, i.e. 0, 1, 2, ..., [num_class - 1].\n",
      "  warnings.warn(label_encoder_deprecation_msg, UserWarning)\n"
     ]
    },
    {
     "data": {
      "text/plain": [
       "XGBClassifier(base_score=0.5, booster='gbtree', colsample_bylevel=1,\n",
       "              colsample_bynode=1, colsample_bytree=1, enable_categorical=False,\n",
       "              eval_metric='error', gamma=0, gpu_id=-1, importance_type=None,\n",
       "              interaction_constraints='', learning_rate=0.1, max_delta_step=0,\n",
       "              max_depth=5, min_child_weight=1, missing=nan,\n",
       "              monotone_constraints='()', n_estimators=800, n_jobs=4,\n",
       "              num_parallel_tree=1, predictor='auto', random_state=0,\n",
       "              reg_alpha=0, reg_lambda=1, scale_pos_weight=1, subsample=1,\n",
       "              tree_method='exact', validate_parameters=1, verbosity=None)"
      ]
     },
     "execution_count": 52,
     "metadata": {},
     "output_type": "execute_result"
    }
   ],
   "source": [
    "xgb_clf_hp.fit(X_train_upsampled, y_train_upsampled)"
   ]
  },
  {
   "cell_type": "code",
   "execution_count": null,
   "id": "4d7a0887",
   "metadata": {
    "execution": {
     "iopub.execute_input": "2022-01-03T13:03:49.653092Z",
     "iopub.status.busy": "2022-01-03T13:03:49.652437Z",
     "iopub.status.idle": "2022-01-03T13:03:49.687284Z",
     "shell.execute_reply": "2022-01-03T13:03:49.687799Z",
     "shell.execute_reply.started": "2022-01-03T12:57:33.100878Z"
    },
    "papermill": {
     "duration": 0.107439,
     "end_time": "2022-01-03T13:03:49.687963",
     "exception": false,
     "start_time": "2022-01-03T13:03:49.580524",
     "status": "completed"
    },
    "tags": []
   },
   "outputs": [
    {
     "data": {
      "text/html": [
       "<div>\n",
       "<style scoped>\n",
       "    .dataframe tbody tr th:only-of-type {\n",
       "        vertical-align: middle;\n",
       "    }\n",
       "\n",
       "    .dataframe tbody tr th {\n",
       "        vertical-align: top;\n",
       "    }\n",
       "\n",
       "    .dataframe thead th {\n",
       "        text-align: right;\n",
       "    }\n",
       "</style>\n",
       "<table border=\"1\" class=\"dataframe\">\n",
       "  <thead>\n",
       "    <tr style=\"text-align: right;\">\n",
       "      <th></th>\n",
       "      <th>precision</th>\n",
       "      <th>recall</th>\n",
       "      <th>f1-score</th>\n",
       "      <th>support</th>\n",
       "    </tr>\n",
       "  </thead>\n",
       "  <tbody>\n",
       "    <tr>\n",
       "      <th>0</th>\n",
       "      <td>0.981987</td>\n",
       "      <td>0.979847</td>\n",
       "      <td>0.980916</td>\n",
       "      <td>1836.000000</td>\n",
       "    </tr>\n",
       "    <tr>\n",
       "      <th>1</th>\n",
       "      <td>0.455882</td>\n",
       "      <td>0.484375</td>\n",
       "      <td>0.469697</td>\n",
       "      <td>64.000000</td>\n",
       "    </tr>\n",
       "    <tr>\n",
       "      <th>accuracy</th>\n",
       "      <td>0.963158</td>\n",
       "      <td>0.963158</td>\n",
       "      <td>0.963158</td>\n",
       "      <td>0.963158</td>\n",
       "    </tr>\n",
       "    <tr>\n",
       "      <th>macro avg</th>\n",
       "      <td>0.718935</td>\n",
       "      <td>0.732111</td>\n",
       "      <td>0.725307</td>\n",
       "      <td>1900.000000</td>\n",
       "    </tr>\n",
       "    <tr>\n",
       "      <th>weighted avg</th>\n",
       "      <td>0.964265</td>\n",
       "      <td>0.963158</td>\n",
       "      <td>0.963696</td>\n",
       "      <td>1900.000000</td>\n",
       "    </tr>\n",
       "  </tbody>\n",
       "</table>\n",
       "</div>"
      ],
      "text/plain": [
       "              precision    recall  f1-score      support\n",
       "0              0.981987  0.979847  0.980916  1836.000000\n",
       "1              0.455882  0.484375  0.469697    64.000000\n",
       "accuracy       0.963158  0.963158  0.963158     0.963158\n",
       "macro avg      0.718935  0.732111  0.725307  1900.000000\n",
       "weighted avg   0.964265  0.963158  0.963696  1900.000000"
      ]
     },
     "execution_count": 53,
     "metadata": {},
     "output_type": "execute_result"
    }
   ],
   "source": [
    "pred = xgb_clf_hp.predict(X_validation_sel)\n",
    "report = pd.DataFrame(classification_report(y_validation, pred, output_dict=True)).T\n",
    "report"
   ]
  },
  {
   "cell_type": "markdown",
   "id": "40b02c3a",
   "metadata": {
    "papermill": {
     "duration": 0.069222,
     "end_time": "2022-01-03T13:03:49.826780",
     "exception": false,
     "start_time": "2022-01-03T13:03:49.757558",
     "status": "completed"
    },
    "tags": []
   },
   "source": [
    "## Testing our model with new data"
   ]
  },
  {
   "cell_type": "code",
   "execution_count": null,
   "id": "a622016e",
   "metadata": {
    "execution": {
     "iopub.execute_input": "2022-01-03T13:03:49.971087Z",
     "iopub.status.busy": "2022-01-03T13:03:49.970324Z",
     "iopub.status.idle": "2022-01-03T13:03:49.973462Z",
     "shell.execute_reply": "2022-01-03T13:03:49.973939Z",
     "shell.execute_reply.started": "2022-01-03T12:57:33.143952Z"
    },
    "papermill": {
     "duration": 0.077898,
     "end_time": "2022-01-03T13:03:49.974120",
     "exception": false,
     "start_time": "2022-01-03T13:03:49.896222",
     "status": "completed"
    },
    "scrolled": true,
    "tags": []
   },
   "outputs": [
    {
     "data": {
      "text/plain": [
       "((500, 6), (500,))"
      ]
     },
     "execution_count": 54,
     "metadata": {},
     "output_type": "execute_result"
    }
   ],
   "source": [
    "X_test.shape, y_test.shape"
   ]
  },
  {
   "cell_type": "code",
   "execution_count": null,
   "id": "b7f5476c",
   "metadata": {
    "execution": {
     "iopub.execute_input": "2022-01-03T13:03:50.120052Z",
     "iopub.status.busy": "2022-01-03T13:03:50.119419Z",
     "iopub.status.idle": "2022-01-03T13:03:50.125933Z",
     "shell.execute_reply": "2022-01-03T13:03:50.125256Z",
     "shell.execute_reply.started": "2022-01-03T12:57:33.151742Z"
    },
    "papermill": {
     "duration": 0.081573,
     "end_time": "2022-01-03T13:03:50.126075",
     "exception": false,
     "start_time": "2022-01-03T13:03:50.044502",
     "status": "completed"
    },
    "tags": []
   },
   "outputs": [
    {
     "name": "stderr",
     "output_type": "stream",
     "text": [
      "/opt/conda/lib/python3.7/site-packages/ipykernel_launcher.py:1: SettingWithCopyWarning: \n",
      "A value is trying to be set on a copy of a slice from a DataFrame.\n",
      "Try using .loc[row_indexer,col_indexer] = value instead\n",
      "\n",
      "See the caveats in the documentation: https://pandas.pydata.org/pandas-docs/stable/user_guide/indexing.html#returning-a-view-versus-a-copy\n",
      "  \"\"\"Entry point for launching an IPython kernel.\n"
     ]
    }
   ],
   "source": [
    "X_test['Type'] = ordinal_encoder.transform(X_test[['Type']])"
   ]
  },
  {
   "cell_type": "code",
   "execution_count": null,
   "id": "d341a531",
   "metadata": {
    "execution": {
     "iopub.execute_input": "2022-01-03T13:03:50.273956Z",
     "iopub.status.busy": "2022-01-03T13:03:50.273019Z",
     "iopub.status.idle": "2022-01-03T13:03:50.278968Z",
     "shell.execute_reply": "2022-01-03T13:03:50.279371Z",
     "shell.execute_reply.started": "2022-01-03T12:57:33.167667Z"
    },
    "papermill": {
     "duration": 0.082548,
     "end_time": "2022-01-03T13:03:50.279546",
     "exception": false,
     "start_time": "2022-01-03T13:03:50.196998",
     "status": "completed"
    },
    "tags": []
   },
   "outputs": [
    {
     "name": "stderr",
     "output_type": "stream",
     "text": [
      "/opt/conda/lib/python3.7/site-packages/pandas/core/frame.py:3641: SettingWithCopyWarning: \n",
      "A value is trying to be set on a copy of a slice from a DataFrame.\n",
      "Try using .loc[row_indexer,col_indexer] = value instead\n",
      "\n",
      "See the caveats in the documentation: https://pandas.pydata.org/pandas-docs/stable/user_guide/indexing.html#returning-a-view-versus-a-copy\n",
      "  self[k1] = value[k2]\n"
     ]
    }
   ],
   "source": [
    "X_test[to_transform] = transformer.transform(X_test[to_transform])"
   ]
  },
  {
   "cell_type": "code",
   "execution_count": null,
   "id": "c1d619e5",
   "metadata": {
    "execution": {
     "iopub.execute_input": "2022-01-03T13:03:50.433637Z",
     "iopub.status.busy": "2022-01-03T13:03:50.432921Z",
     "iopub.status.idle": "2022-01-03T13:03:50.435698Z",
     "shell.execute_reply": "2022-01-03T13:03:50.436154Z",
     "shell.execute_reply.started": "2022-01-03T12:57:33.181853Z"
    },
    "papermill": {
     "duration": 0.081478,
     "end_time": "2022-01-03T13:03:50.436325",
     "exception": false,
     "start_time": "2022-01-03T13:03:50.354847",
     "status": "completed"
    },
    "tags": []
   },
   "outputs": [
    {
     "name": "stderr",
     "output_type": "stream",
     "text": [
      "/opt/conda/lib/python3.7/site-packages/pandas/core/frame.py:3678: SettingWithCopyWarning: \n",
      "A value is trying to be set on a copy of a slice from a DataFrame.\n",
      "Try using .loc[row_indexer,col_indexer] = value instead\n",
      "\n",
      "See the caveats in the documentation: https://pandas.pydata.org/pandas-docs/stable/user_guide/indexing.html#returning-a-view-versus-a-copy\n",
      "  self[col] = igetitem(value, i)\n"
     ]
    }
   ],
   "source": [
    "X_test[to_scale] = scaler.transform(X_test[to_scale])"
   ]
  },
  {
   "cell_type": "code",
   "execution_count": null,
   "id": "7a96908e",
   "metadata": {
    "execution": {
     "iopub.execute_input": "2022-01-03T13:03:50.581700Z",
     "iopub.status.busy": "2022-01-03T13:03:50.581116Z",
     "iopub.status.idle": "2022-01-03T13:03:50.586532Z",
     "shell.execute_reply": "2022-01-03T13:03:50.586979Z",
     "shell.execute_reply.started": "2022-01-03T12:57:33.195899Z"
    },
    "papermill": {
     "duration": 0.079724,
     "end_time": "2022-01-03T13:03:50.587155",
     "exception": false,
     "start_time": "2022-01-03T13:03:50.507431",
     "status": "completed"
    },
    "tags": []
   },
   "outputs": [],
   "source": [
    "X_test_sel = pd.DataFrame(sel.transform(X_test), columns = features)\n"
   ]
  },
  {
   "cell_type": "markdown",
   "id": "2d87f7d5",
   "metadata": {
    "papermill": {
     "duration": 0.070991,
     "end_time": "2022-01-03T13:03:50.730320",
     "exception": false,
     "start_time": "2022-01-03T13:03:50.659329",
     "status": "completed"
    },
    "tags": []
   },
   "source": [
    "### Prediction by original model"
   ]
  },
  {
   "cell_type": "code",
   "execution_count": null,
   "id": "8ec41369",
   "metadata": {
    "execution": {
     "iopub.execute_input": "2022-01-03T13:03:50.877428Z",
     "iopub.status.busy": "2022-01-03T13:03:50.876784Z",
     "iopub.status.idle": "2022-01-03T13:03:50.898874Z",
     "shell.execute_reply": "2022-01-03T13:03:50.899361Z",
     "shell.execute_reply.started": "2022-01-03T12:57:33.205283Z"
    },
    "papermill": {
     "duration": 0.098169,
     "end_time": "2022-01-03T13:03:50.899520",
     "exception": false,
     "start_time": "2022-01-03T13:03:50.801351",
     "status": "completed"
    },
    "scrolled": true,
    "tags": []
   },
   "outputs": [
    {
     "data": {
      "text/html": [
       "<div>\n",
       "<style scoped>\n",
       "    .dataframe tbody tr th:only-of-type {\n",
       "        vertical-align: middle;\n",
       "    }\n",
       "\n",
       "    .dataframe tbody tr th {\n",
       "        vertical-align: top;\n",
       "    }\n",
       "\n",
       "    .dataframe thead th {\n",
       "        text-align: right;\n",
       "    }\n",
       "</style>\n",
       "<table border=\"1\" class=\"dataframe\">\n",
       "  <thead>\n",
       "    <tr style=\"text-align: right;\">\n",
       "      <th></th>\n",
       "      <th>precision</th>\n",
       "      <th>recall</th>\n",
       "      <th>f1-score</th>\n",
       "      <th>support</th>\n",
       "    </tr>\n",
       "  </thead>\n",
       "  <tbody>\n",
       "    <tr>\n",
       "      <th>0</th>\n",
       "      <td>0.985325</td>\n",
       "      <td>0.973085</td>\n",
       "      <td>0.979167</td>\n",
       "      <td>483.00</td>\n",
       "    </tr>\n",
       "    <tr>\n",
       "      <th>1</th>\n",
       "      <td>0.434783</td>\n",
       "      <td>0.588235</td>\n",
       "      <td>0.500000</td>\n",
       "      <td>17.00</td>\n",
       "    </tr>\n",
       "    <tr>\n",
       "      <th>accuracy</th>\n",
       "      <td>0.960000</td>\n",
       "      <td>0.960000</td>\n",
       "      <td>0.960000</td>\n",
       "      <td>0.96</td>\n",
       "    </tr>\n",
       "    <tr>\n",
       "      <th>macro avg</th>\n",
       "      <td>0.710054</td>\n",
       "      <td>0.780660</td>\n",
       "      <td>0.739583</td>\n",
       "      <td>500.00</td>\n",
       "    </tr>\n",
       "    <tr>\n",
       "      <th>weighted avg</th>\n",
       "      <td>0.966607</td>\n",
       "      <td>0.960000</td>\n",
       "      <td>0.962875</td>\n",
       "      <td>500.00</td>\n",
       "    </tr>\n",
       "  </tbody>\n",
       "</table>\n",
       "</div>"
      ],
      "text/plain": [
       "              precision    recall  f1-score  support\n",
       "0              0.985325  0.973085  0.979167   483.00\n",
       "1              0.434783  0.588235  0.500000    17.00\n",
       "accuracy       0.960000  0.960000  0.960000     0.96\n",
       "macro avg      0.710054  0.780660  0.739583   500.00\n",
       "weighted avg   0.966607  0.960000  0.962875   500.00"
      ]
     },
     "execution_count": 59,
     "metadata": {},
     "output_type": "execute_result"
    }
   ],
   "source": [
    "pred = xgb_clf.predict(X_test_sel)\n",
    "report = pd.DataFrame(classification_report(y_test, pred, output_dict=True)).T\n",
    "report"
   ]
  },
  {
   "cell_type": "markdown",
   "id": "89d827ff",
   "metadata": {
    "papermill": {
     "duration": 0.071157,
     "end_time": "2022-01-03T13:03:51.042712",
     "exception": false,
     "start_time": "2022-01-03T13:03:50.971555",
     "status": "completed"
    },
    "tags": []
   },
   "source": [
    "### Prediction by hyperparameter tuned model"
   ]
  },
  {
   "cell_type": "code",
   "execution_count": null,
   "id": "676677a1",
   "metadata": {
    "execution": {
     "iopub.execute_input": "2022-01-03T13:03:51.190879Z",
     "iopub.status.busy": "2022-01-03T13:03:51.189034Z",
     "iopub.status.idle": "2022-01-03T13:03:51.215969Z",
     "shell.execute_reply": "2022-01-03T13:03:51.216510Z",
     "shell.execute_reply.started": "2022-01-03T12:57:33.246522Z"
    },
    "papermill": {
     "duration": 0.100921,
     "end_time": "2022-01-03T13:03:51.216681",
     "exception": false,
     "start_time": "2022-01-03T13:03:51.115760",
     "status": "completed"
    },
    "tags": []
   },
   "outputs": [
    {
     "data": {
      "text/html": [
       "<div>\n",
       "<style scoped>\n",
       "    .dataframe tbody tr th:only-of-type {\n",
       "        vertical-align: middle;\n",
       "    }\n",
       "\n",
       "    .dataframe tbody tr th {\n",
       "        vertical-align: top;\n",
       "    }\n",
       "\n",
       "    .dataframe thead th {\n",
       "        text-align: right;\n",
       "    }\n",
       "</style>\n",
       "<table border=\"1\" class=\"dataframe\">\n",
       "  <thead>\n",
       "    <tr style=\"text-align: right;\">\n",
       "      <th></th>\n",
       "      <th>precision</th>\n",
       "      <th>recall</th>\n",
       "      <th>f1-score</th>\n",
       "      <th>support</th>\n",
       "    </tr>\n",
       "  </thead>\n",
       "  <tbody>\n",
       "    <tr>\n",
       "      <th>0</th>\n",
       "      <td>0.981366</td>\n",
       "      <td>0.981366</td>\n",
       "      <td>0.981366</td>\n",
       "      <td>483.000</td>\n",
       "    </tr>\n",
       "    <tr>\n",
       "      <th>1</th>\n",
       "      <td>0.470588</td>\n",
       "      <td>0.470588</td>\n",
       "      <td>0.470588</td>\n",
       "      <td>17.000</td>\n",
       "    </tr>\n",
       "    <tr>\n",
       "      <th>accuracy</th>\n",
       "      <td>0.964000</td>\n",
       "      <td>0.964000</td>\n",
       "      <td>0.964000</td>\n",
       "      <td>0.964</td>\n",
       "    </tr>\n",
       "    <tr>\n",
       "      <th>macro avg</th>\n",
       "      <td>0.725977</td>\n",
       "      <td>0.725977</td>\n",
       "      <td>0.725977</td>\n",
       "      <td>500.000</td>\n",
       "    </tr>\n",
       "    <tr>\n",
       "      <th>weighted avg</th>\n",
       "      <td>0.964000</td>\n",
       "      <td>0.964000</td>\n",
       "      <td>0.964000</td>\n",
       "      <td>500.000</td>\n",
       "    </tr>\n",
       "  </tbody>\n",
       "</table>\n",
       "</div>"
      ],
      "text/plain": [
       "              precision    recall  f1-score  support\n",
       "0              0.981366  0.981366  0.981366  483.000\n",
       "1              0.470588  0.470588  0.470588   17.000\n",
       "accuracy       0.964000  0.964000  0.964000    0.964\n",
       "macro avg      0.725977  0.725977  0.725977  500.000\n",
       "weighted avg   0.964000  0.964000  0.964000  500.000"
      ]
     },
     "execution_count": 60,
     "metadata": {},
     "output_type": "execute_result"
    }
   ],
   "source": [
    "pred = xgb_clf_hp.predict(X_test_sel)\n",
    "report = pd.DataFrame(classification_report(y_test, pred, output_dict=True)).T\n",
    "report"
   ]
  }
 ],
 "metadata": {
  "kernelspec": {
   "display_name": "Python 3",
   "language": "python",
   "name": "python3"
  },
  "language_info": {
   "codemirror_mode": {
    "name": "ipython",
    "version": 3
   },
   "file_extension": ".py",
   "mimetype": "text/x-python",
   "name": "python",
   "nbconvert_exporter": "python",
   "pygments_lexer": "ipython3",
   "version": "3.10.12"
  },
  "papermill": {
   "default_parameters": {},
   "duration": 346.475685,
   "end_time": "2022-01-03T13:03:52.123207",
   "environment_variables": {},
   "exception": null,
   "input_path": "__notebook__.ipynb",
   "output_path": "__notebook__.ipynb",
   "parameters": {},
   "start_time": "2022-01-03T12:58:05.647522",
   "version": "2.3.3"
  }
 },
 "nbformat": 4,
 "nbformat_minor": 5
}
